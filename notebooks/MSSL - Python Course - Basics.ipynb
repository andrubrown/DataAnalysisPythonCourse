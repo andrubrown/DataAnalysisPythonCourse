{
 "metadata": {
  "name": "",
  "signature": "sha256:ae256afc59399a67c4794fb74b119a1c30c631ce5c0ea009d0a2abe34286a5fc"
 },
 "nbformat": 3,
 "nbformat_minor": 0,
 "worksheets": [
  {
   "cells": [
    {
     "cell_type": "heading",
     "level": 1,
     "metadata": {},
     "source": [
      "Python Basics"
     ]
    },
    {
     "cell_type": "markdown",
     "metadata": {},
     "source": [
      "Lots of information online and many good tutorials exist, see for example:\n",
      "\n",
      "Python: https://www.python.org/\n",
      "\n",
      "Python Scientific Lecture Notes: http://scipy-lectures.github.io/\n",
      "\n",
      "Python Data Analysis: https://conference.scipy.org/scipy2013/tutorial_detail.php?id=109"
     ]
    },
    {
     "cell_type": "code",
     "collapsed": false,
     "input": [
      "import sys; print 'I am using Python', sys.version\n",
      "print 'Note that Python 3.x series would behave slightly differently...'"
     ],
     "language": "python",
     "metadata": {},
     "outputs": []
    },
    {
     "cell_type": "heading",
     "level": 2,
     "metadata": {},
     "source": [
      "Getting help"
     ]
    },
    {
     "cell_type": "code",
     "collapsed": false,
     "input": [
      "#using inbuild help functionality\n",
      "#can be used for pretty much anything:\n",
      "#variables, objects, packages, etc.\n",
      "a = 5\n",
      "print help(a)"
     ],
     "language": "python",
     "metadata": {},
     "outputs": []
    },
    {
     "cell_type": "heading",
     "level": 3,
     "metadata": {},
     "source": [
      "Calling objects from build-in or 3rd party modules"
     ]
    },
    {
     "cell_type": "code",
     "collapsed": false,
     "input": [
      "#You must import objects from modules before using them!\n",
      "import datetime\n",
      "#never do \"from package import *\", pollutes the namespace\n",
      "\n",
      "print 'It is now:'\n",
      "print datetime.datetime.today()"
     ],
     "language": "python",
     "metadata": {},
     "outputs": []
    },
    {
     "cell_type": "code",
     "collapsed": false,
     "input": [
      "print help(datetime)"
     ],
     "language": "python",
     "metadata": {},
     "outputs": []
    },
    {
     "cell_type": "heading",
     "level": 3,
     "metadata": {},
     "source": [
      "Strings"
     ]
    },
    {
     "cell_type": "code",
     "collapsed": false,
     "input": [
      "string = 'hello world'\n",
      "\n",
      "print string+'!'\n",
      "print string[0]*15, '\\n' #\\n means a new line"
     ],
     "language": "python",
     "metadata": {},
     "outputs": []
    },
    {
     "cell_type": "code",
     "collapsed": false,
     "input": [
      "#operating a string object:\n",
      "#string.what_operation_you_want()\n",
      "print string.capitalize()\n",
      "print string.capitalize().replace('world', 'students!')\n",
      "print string.split()\n",
      "print string.endswith('rld')\n",
      "print string.find('wo'), 'Note that indexing starts from zero!'"
     ],
     "language": "python",
     "metadata": {},
     "outputs": []
    },
    {
     "cell_type": "code",
     "collapsed": false,
     "input": [
      "#Tab completion available in iPython\n",
      "#string."
     ],
     "language": "python",
     "metadata": {},
     "outputs": []
    },
    {
     "cell_type": "heading",
     "level": 6,
     "metadata": {},
     "source": [
      "Evaluating a string"
     ]
    },
    {
     "cell_type": "code",
     "collapsed": false,
     "input": [
      "print eval(\"2*3 + 4\")"
     ],
     "language": "python",
     "metadata": {},
     "outputs": []
    },
    {
     "cell_type": "heading",
     "level": 3,
     "metadata": {},
     "source": [
      "Numbers"
     ]
    },
    {
     "cell_type": "code",
     "collapsed": false,
     "input": [
      "x = 1\n",
      "y = 2\n",
      "print '\\nBe careful with Python version < 3!'\n",
      "print '%s divided by %s not automatically promoted, so %i / %i = %i:' % (type(x), type(y), x, y, x/y)"
     ],
     "language": "python",
     "metadata": {},
     "outputs": []
    },
    {
     "cell_type": "code",
     "collapsed": false,
     "input": [
      "print 'Promote youself float / int =', float(x) / y\n",
      "print 'or always import division from __future__ as\\n\\\n",
      "it has been backported from Python 3.x series:'\n",
      "from __future__ import division\n",
      "print 1/2"
     ],
     "language": "python",
     "metadata": {},
     "outputs": []
    },
    {
     "cell_type": "code",
     "collapsed": false,
     "input": [
      "print '\\nIn general there is no need to specify types:'\n",
      "import math\n",
      "\n",
      "value = math.factorial(42)\n",
      "print type(value), value\n",
      "\n",
      "print '\\nBuild-in math module provides basics:'\n",
      "print math.ceil(1.1), math.radians(180), math.pi, math.sqrt(36)"
     ],
     "language": "python",
     "metadata": {},
     "outputs": []
    },
    {
     "cell_type": "code",
     "collapsed": false,
     "input": [
      "print 'But note that Python lists are not vectors:'\n",
      "print [1,2,3]*2\n",
      "print '\\nThus, looping is required if using lists:'\n",
      "y = [math.log10(a) for a in [2,3,4]]  #this (list comprehension) is slow, wait for numerical arrays (NumPy)\n",
      "print y\n",
      "print 'Very inefficient, will show a better way later...'"
     ],
     "language": "python",
     "metadata": {},
     "outputs": []
    },
    {
     "cell_type": "code",
     "collapsed": false,
     "input": [
      "print 'Complex numbers are also supported:'\n",
      "\n",
      "c = 1.35 + 2.5j\n",
      "print c, type(c)\n",
      "print c.real, c.imag"
     ],
     "language": "python",
     "metadata": {},
     "outputs": []
    },
    {
     "cell_type": "code",
     "collapsed": false,
     "input": [
      "print 'and operations with complex numbers:'\n",
      "print c*1.j"
     ],
     "language": "python",
     "metadata": {},
     "outputs": []
    },
    {
     "cell_type": "heading",
     "level": 3,
     "metadata": {},
     "source": [
      "Data structures"
     ]
    },
    {
     "cell_type": "code",
     "collapsed": false,
     "input": [
      "tupl = ('a', 'b', 1, 2)\n",
      "print '%s is immutable (cannot insert or append a new datum):' % type(tupl)\n",
      "print tupl"
     ],
     "language": "python",
     "metadata": {},
     "outputs": []
    },
    {
     "cell_type": "code",
     "collapsed": false,
     "input": [
      "ls = [1, 2, 'a', 'b', 3.3, 4.4, 5.5]\n",
      "\n",
      "print '%s is mutable and can contain other data structures:' % type(ls)\n",
      "\n",
      "ls.append(tupl)\n",
      "print ls"
     ],
     "language": "python",
     "metadata": {},
     "outputs": []
    },
    {
     "cell_type": "code",
     "collapsed": false,
     "input": [
      "print 'Lists can be modified, sliced, sorted...'\n",
      "ls[2] = 'Modify on fly'\n",
      "\n",
      "print ls[1:4]    # [start:stop), indeces indicate the \"midpoints\" in the list\n",
      "print ls[-3:]    # three last in the list (no need to know the length)\n",
      "print ls[:-2]    # everything till the last two\n",
      "print ls[::2]    # pick every second, syntax: [start:stop:stride]\n",
      "print sorted(ls) # numbers before letters, data containers last and note sorted"
     ],
     "language": "python",
     "metadata": {},
     "outputs": []
    },
    {
     "cell_type": "code",
     "collapsed": false,
     "input": [
      "print'dictionaries provide key-value mapping:'\n",
      "\n",
      "dc = dict(a=1, key1=ls, b=(1,2,3), d=4, e=5)\n",
      "\n",
      "print dc['b'], type(dc)"
     ],
     "language": "python",
     "metadata": {},
     "outputs": []
    },
    {
     "cell_type": "code",
     "collapsed": false,
     "input": [
      "print 'but be careful if you want to loop, the keys do not neccessarily retain order:'\n",
      "print dc.keys()\n",
      "print dc.values()"
     ],
     "language": "python",
     "metadata": {},
     "outputs": []
    },
    {
     "cell_type": "code",
     "collapsed": false,
     "input": [
      "print 'In Python < 3 dictionaries do not retain the order:'\n",
      "print dc\n",
      "print 'If you need to preserve order, use collections.OrderedDict in Python 2.7.x series...'"
     ],
     "language": "python",
     "metadata": {},
     "outputs": []
    },
    {
     "cell_type": "heading",
     "level": 3,
     "metadata": {},
     "source": [
      "Loops and Control Structures"
     ]
    },
    {
     "cell_type": "code",
     "collapsed": false,
     "input": [
      "my_list = ['...', 'that', 'not', 'is', 'Python', 'learning'][::-1] #note that -1 swaps the order\n",
      "print my_list"
     ],
     "language": "python",
     "metadata": {},
     "outputs": []
    },
    {
     "cell_type": "code",
     "collapsed": false,
     "input": [
      "print 'No need to find the indeces when looping:'\n",
      "for value in my_list:\n",
      "    print value"
     ],
     "language": "python",
     "metadata": {},
     "outputs": []
    },
    {
     "cell_type": "code",
     "collapsed": false,
     "input": [
      "#what actually happens in \"for x in y\" is:\n",
      "tmp = iter(my_list)\n",
      "\n",
      "print tmp  #this is a list iterator object\n",
      "print tmp.next()\n",
      "print tmp.next()"
     ],
     "language": "python",
     "metadata": {},
     "outputs": []
    },
    {
     "cell_type": "code",
     "collapsed": false,
     "input": [
      "print 'but if needed can be called:'\n",
      "\n",
      "for index, value in enumerate(my_list):\n",
      "    print index, value\n",
      "    if index == 1:\n",
      "        print 'Note that the index numbering starts from zero in %s!' % value\n",
      "        break #to escape from the loop"
     ],
     "language": "python",
     "metadata": {},
     "outputs": []
    },
    {
     "cell_type": "code",
     "collapsed": false,
     "input": [
      "another = ('to program', 'is not difficult')\n",
      "\n",
      "print 'Can zip together different data containers, \\\n",
      "and loop over containers of different length:'\n",
      "for a, b in zip(my_list, another):\n",
      "    print a, b\n",
      "#zip can take multiple objects that can be iterated (lists, tuples, strings, dictionaries..)"
     ],
     "language": "python",
     "metadata": {},
     "outputs": []
    },
    {
     "cell_type": "code",
     "collapsed": false,
     "input": [
      "print 'Controlling your program:'\n",
      "\n",
      "a, b, c = 1, 2, 3\n",
      "\n",
      "print a < b < c              #you can chain \n",
      "print a < b and (a+b) <= c   #use \"and\" and \"or\""
     ],
     "language": "python",
     "metadata": {},
     "outputs": []
    },
    {
     "cell_type": "code",
     "collapsed": false,
     "input": [
      "#remember that even if statements do not need parenthesis\n",
      "#you still need colon (:) and the following block needs\n",
      "#to be indented.\n",
      "print a > c\n",
      "print b < c\n",
      "if a > c or b < c:\n",
      "    print 'Python works without brackets...'"
     ],
     "language": "python",
     "metadata": {},
     "outputs": []
    },
    {
     "cell_type": "code",
     "collapsed": false,
     "input": [
      "print 'but one must be careful...'\n",
      "if True:\n",
      "    pass  #pass = \"do nothing\"\n",
      "print 'with indentations!'"
     ],
     "language": "python",
     "metadata": {},
     "outputs": []
    },
    {
     "cell_type": "code",
     "collapsed": false,
     "input": [
      "import glob as g #build-in function to e.g. search files\n",
      "\n",
      "print '\\nFind files with ipynb suffix'\n",
      "files = g.glob(\"*.ipynb\")\n",
      "\n",
      "print 'and loop over and identify the ones with \"Basic\":'\n",
      "for filename in files:\n",
      "    if 'Basic' in filename:\n",
      "        print filename"
     ],
     "language": "python",
     "metadata": {},
     "outputs": []
    },
    {
     "cell_type": "heading",
     "level": 3,
     "metadata": {},
     "source": [
      "Sets (unordered, unique items)"
     ]
    },
    {
     "cell_type": "code",
     "collapsed": false,
     "input": [
      "my_list = ['a', 'b', 'c', 'a']*3\n",
      "print my_list"
     ],
     "language": "python",
     "metadata": {},
     "outputs": []
    },
    {
     "cell_type": "code",
     "collapsed": false,
     "input": [
      "print 'Sets are unordered unique item containers'\n",
      "s = set(my_list)\n",
      "\n",
      "print s\n",
      "print s.difference(['a', 'b'])"
     ],
     "language": "python",
     "metadata": {},
     "outputs": []
    },
    {
     "cell_type": "heading",
     "level": 3,
     "metadata": {},
     "source": [
      "Functions"
     ]
    },
    {
     "cell_type": "code",
     "collapsed": false,
     "input": [
      "#compulsory arguments arg1 and arg2 and voluntary df with default value 2\n",
      "#note: the function does not specify that the arguments need to be\n",
      "#of certain data type. Thus, you could pass arg1 as a list, but this\n",
      "#function would crash because it's expecting a float (list to pow 2 is not defined).\n",
      "def firstFunction(arg1, arg2, df=2):\n",
      "    \"\"\"\n",
      "    Documentation \u00e0 la Sphinx.\n",
      "\n",
      "    :param arg1: first argument\n",
      "    :type arg1: float\n",
      "    etc.\n",
      "    \"\"\"\n",
      "    out = arg1**2/float(df) + arg1*arg2\n",
      "    return out, df"
     ],
     "language": "python",
     "metadata": {},
     "outputs": []
    },
    {
     "cell_type": "code",
     "collapsed": false,
     "input": [
      "print 'Calling functions and capturing results:'\n",
      "result, df = firstFunction(4, 5, df=4)\n",
      "\n",
      "print result\n",
      "print df"
     ],
     "language": "python",
     "metadata": {},
     "outputs": []
    },
    {
     "cell_type": "code",
     "collapsed": false,
     "input": [
      "#you can simply capture the output to a single data container\n",
      "#now out is a tuple.\n",
      "out = firstFunction(1, 2)\n",
      "print out, type(out)"
     ],
     "language": "python",
     "metadata": {},
     "outputs": []
    },
    {
     "cell_type": "code",
     "collapsed": false,
     "input": [
      "#if you do not wish to specify the number of arguments, you can\n",
      "#use special syntax as in this function.\n",
      "def argsExample(*args, **kwargs):\n",
      "    print 'Passing arguments without specifying them:'\n",
      "    for a in args:\n",
      "        print a\n",
      "    print '\\nor keywords:'\n",
      "    for key, value in kwargs.iteritems():\n",
      "        print key, value"
     ],
     "language": "python",
     "metadata": {},
     "outputs": []
    },
    {
     "cell_type": "code",
     "collapsed": false,
     "input": [
      "#This is useful if you have default settings e.g. for your plot and then\n",
      "#sometimes you wish to change the colour, linestyle, or something.\n",
      "#You can then just pass kwargs you wish to modify.\n",
      "output = argsExample(*[1,2,3,4], **{'color': 'red','linestyle' : '--','xmin' : 124})\n",
      "print '\\nNot necessary to return anything from a function...', output"
     ],
     "language": "python",
     "metadata": {},
     "outputs": []
    },
    {
     "cell_type": "code",
     "collapsed": false,
     "input": [
      "def cube(x):\n",
      "    \"simple function to cube a given value\"\n",
      "    return x*x*x\n",
      "\n",
      "print cube(3)"
     ],
     "language": "python",
     "metadata": {},
     "outputs": []
    },
    {
     "cell_type": "code",
     "collapsed": false,
     "input": [
      "print 'Instead of calling the same function from separate lines, you can use map:'\n",
      "values = range(1, 11)\n",
      "print map(cube, values)"
     ],
     "language": "python",
     "metadata": {},
     "outputs": []
    },
    {
     "cell_type": "heading",
     "level": 3,
     "metadata": {},
     "source": [
      "Classes"
     ]
    },
    {
     "cell_type": "code",
     "collapsed": false,
     "input": [
      "print 'Using classes is simple'\n",
      "\n",
      "class nameOfMyClass:\n",
      "    def __init__(self, inputstuff):\n",
      "        self.arguments = inputstuff\n",
      "    \n",
      "    def method(self):\n",
      "        print 'No need to pass arguments, if stored inside:'\n",
      "        print self.arguments\n",
      "        return 'Some fancy computation'"
     ],
     "language": "python",
     "metadata": {},
     "outputs": []
    },
    {
     "cell_type": "code",
     "collapsed": false,
     "input": [
      "instance = nameOfMyClass(345)\n",
      "\n",
      "print type(instance)\n",
      "print type(nameOfMyClass)\n",
      "print instance"
     ],
     "language": "python",
     "metadata": {},
     "outputs": []
    },
    {
     "cell_type": "code",
     "collapsed": false,
     "input": [
      "tmp = instance.method()"
     ],
     "language": "python",
     "metadata": {},
     "outputs": []
    },
    {
     "cell_type": "code",
     "collapsed": false,
     "input": [
      "print tmp"
     ],
     "language": "python",
     "metadata": {},
     "outputs": []
    },
    {
     "cell_type": "heading",
     "level": 4,
     "metadata": {},
     "source": [
      "Classes support inheritance, operator overloading and all that good stuff... "
     ]
    },
    {
     "cell_type": "code",
     "collapsed": false,
     "input": [
      "class weirdSum:\n",
      "    \"demonstrates operation overloading\"\n",
      "    def __init__(self, value):\n",
      "        self.value = value\n",
      "        self.foo = value\n",
      "   \n",
      "    def __add__(self, other):\n",
      "        return self.value**3 + other.value**2\n",
      "    \n",
      "    def __mul__(self, other):\n",
      "        return 'Did not bother to invent a crazy multiplication, so just returning a string...'"
     ],
     "language": "python",
     "metadata": {},
     "outputs": []
    },
    {
     "cell_type": "code",
     "collapsed": false,
     "input": [
      "d1 = weirdSum(3)\n",
      "d2 = weirdSum(2)"
     ],
     "language": "python",
     "metadata": {},
     "outputs": []
    },
    {
     "cell_type": "code",
     "collapsed": false,
     "input": [
      "print 'One can look at the parameters'\n",
      "print d1.foo\n",
      "print 'Or even store new ones...'\n",
      "d1.bar = 'so classes can be used as fancy data containers'\n",
      "print d1.bar"
     ],
     "language": "python",
     "metadata": {},
     "outputs": []
    },
    {
     "cell_type": "code",
     "collapsed": false,
     "input": [
      "print d1 + d2, \"should be equal to 3*3*3 + 2*2 = 27 + 4 = 31\"\n",
      "print d1 * d2"
     ],
     "language": "python",
     "metadata": {},
     "outputs": []
    },
    {
     "cell_type": "heading",
     "level": 3,
     "metadata": {},
     "source": [
      "Exception handling"
     ]
    },
    {
     "cell_type": "code",
     "collapsed": false,
     "input": [
      "ls = ['a', '1', 'b', '2']\n",
      "\n",
      "numbers = []\n",
      "for value in ls:\n",
      "    try:\n",
      "        tmp = int(value) * 3\n",
      "        numbers.append(tmp)\n",
      "    except ValueError as error:\n",
      "        print error.message"
     ],
     "language": "python",
     "metadata": {},
     "outputs": []
    },
    {
     "cell_type": "code",
     "collapsed": false,
     "input": [
      "print numbers"
     ],
     "language": "python",
     "metadata": {},
     "outputs": []
    },
    {
     "cell_type": "heading",
     "level": 2,
     "metadata": {},
     "source": [
      "Useful Python Standard Library Modules"
     ]
    },
    {
     "cell_type": "heading",
     "level": 3,
     "metadata": {},
     "source": [
      "Itertools"
     ]
    },
    {
     "cell_type": "code",
     "collapsed": false,
     "input": [
      "import itertools\n",
      "animals = ['ant', 'dog', 'cat', 'python']\n",
      "\n",
      "for x in itertools.combinations(animals, 3):\n",
      "    #change the number and see what happens\n",
      "    print x"
     ],
     "language": "python",
     "metadata": {},
     "outputs": []
    },
    {
     "cell_type": "code",
     "collapsed": false,
     "input": [
      "for x in itertools.permutations(animals):\n",
      "    print x"
     ],
     "language": "python",
     "metadata": {},
     "outputs": []
    },
    {
     "cell_type": "heading",
     "level": 3,
     "metadata": {},
     "source": [
      "collections"
     ]
    },
    {
     "cell_type": "code",
     "collapsed": false,
     "input": [
      "from collections import Counter\n",
      "\n",
      "print 'Counting charachters from a string is easy:'\n",
      "print Counter('abracadabra').most_common(3)"
     ],
     "language": "python",
     "metadata": {},
     "outputs": []
    },
    {
     "cell_type": "code",
     "collapsed": false,
     "input": [
      "print 'Couting words from a list is no harder:'\n",
      "cnt = Counter()\n",
      "for word in ['red', 'blue', 'red', 'green', 'blue', 'blue']:\n",
      "    cnt[word] += 1   #+= is the same as value = value + 1\n",
      "print cnt"
     ],
     "language": "python",
     "metadata": {},
     "outputs": []
    },
    {
     "cell_type": "heading",
     "level": 3,
     "metadata": {},
     "source": [
      "Regular expression"
     ]
    },
    {
     "cell_type": "code",
     "collapsed": false,
     "input": [
      "import re\n",
      "print 'Regular expressions are very powerful for parsing, but rather tedious to write...'"
     ],
     "language": "python",
     "metadata": {},
     "outputs": []
    },
    {
     "cell_type": "code",
     "collapsed": false,
     "input": [
      "print 'Finding the decimal part of numbers:'\n",
      "\n",
      "m = re.match(r\"(\\d+)\\.(\\d+)\", \"24.1632\")\n",
      "\n",
      "print m.groups()"
     ],
     "language": "python",
     "metadata": {},
     "outputs": []
    },
    {
     "cell_type": "code",
     "collapsed": false,
     "input": [
      "print 'Parsing names:'\n",
      "\n",
      "m = re.match(r\"(?P<first_name>\\w+) (?P<last_name>\\w+)\", \"Thomas Bayes\")\n",
      "\n",
      "print m.groupdict()"
     ],
     "language": "python",
     "metadata": {},
     "outputs": []
    },
    {
     "cell_type": "heading",
     "level": 3,
     "metadata": {},
     "source": [
      "Comparing Sequences"
     ]
    },
    {
     "cell_type": "code",
     "collapsed": false,
     "input": [
      "import difflib, keyword\n",
      "\n",
      "print 'If you are working with word lists and want to implement a proof reader:'\n",
      "print difflib.get_close_matches('wheel', keyword.kwlist)\n",
      "print difflib.get_close_matches('accept', keyword.kwlist)"
     ],
     "language": "python",
     "metadata": {},
     "outputs": []
    },
    {
     "cell_type": "heading",
     "level": 3,
     "metadata": {},
     "source": [
      "Dates and Times"
     ]
    },
    {
     "cell_type": "code",
     "collapsed": false,
     "input": [
      "from datetime import datetime\n",
      "\n",
      "print 'Working with date and time is simple:'\n",
      "\n",
      "today = datetime.today()\n",
      "\n",
      "print 'Today is (no formatting):', today"
     ],
     "language": "python",
     "metadata": {},
     "outputs": []
    },
    {
     "cell_type": "code",
     "collapsed": false,
     "input": [
      "print 'To make it more readable, you have to format:'\n",
      "print today.strftime(\"%A %d. %B %Y\")"
     ],
     "language": "python",
     "metadata": {},
     "outputs": []
    },
    {
     "cell_type": "code",
     "collapsed": false,
     "input": [
      "from datetime import date\n",
      "\n",
      "today = date.today()\n",
      "\n",
      "print 'Calculations are also simple'\n",
      "my_birthday = date(today.year, 9, 22)  #year, month, day\n",
      "time_to_birthday = abs(my_birthday - today)"
     ],
     "language": "python",
     "metadata": {},
     "outputs": []
    },
    {
     "cell_type": "code",
     "collapsed": false,
     "input": [
      "print 'My birthday was %i days ago...' % time_to_birthday.days"
     ],
     "language": "python",
     "metadata": {},
     "outputs": []
    },
    {
     "cell_type": "heading",
     "level": 3,
     "metadata": {},
     "source": [
      "Operating System"
     ]
    },
    {
     "cell_type": "code",
     "collapsed": false,
     "input": [
      "import os\n",
      "\n",
      "print 'Finding the current working directory is simple:'\n",
      "print os.getcwd()  #current directory\n",
      "\n",
      "print '\\n and finding all files is no harder:'\n",
      "print os.listdir(os.curdir) #ls"
     ],
     "language": "python",
     "metadata": {},
     "outputs": []
    },
    {
     "cell_type": "code",
     "collapsed": false,
     "input": [
      "print 'You can also walk a directory tree:'\n",
      "for dirpath, dirnames, filenames in os.walk(os.curdir):\n",
      "    for fp in filenames:\n",
      "        print os.path.abspath(fp)"
     ],
     "language": "python",
     "metadata": {},
     "outputs": []
    },
    {
     "cell_type": "heading",
     "level": 4,
     "metadata": {},
     "source": [
      "SYS"
     ]
    },
    {
     "cell_type": "code",
     "collapsed": false,
     "input": [
      "import sys\n",
      "\n",
      "print 'System information can be queried:\\n'\n",
      "\n",
      "print sys.platform, sys.byteorder\n",
      "print\n",
      "print sys.float_info, sys.maxint\n",
      "print \n",
      "print sys.version   #what Python am I running?"
     ],
     "language": "python",
     "metadata": {},
     "outputs": []
    },
    {
     "cell_type": "heading",
     "level": 2,
     "metadata": {},
     "source": [
      "Example: parsing, sorting and grouping data"
     ]
    },
    {
     "cell_type": "markdown",
     "metadata": {},
     "source": [
      "Which are the most populous districts and and how many counties were listed in the input data?"
     ]
    },
    {
     "cell_type": "code",
     "collapsed": false,
     "input": [
      "import pprint\n",
      "from itertools import groupby\n",
      "from csv import DictReader\n",
      "from operator import itemgetter"
     ],
     "language": "python",
     "metadata": {},
     "outputs": []
    },
    {
     "cell_type": "code",
     "collapsed": false,
     "input": [
      "rawdata = '''Rank,District,Population,County\n",
      "1,Birmingham,1073000,West Midlands\n",
      "2,Leeds,751500,West Yorkshire\n",
      "3,Sheffield,552700,South Yorkshire\n",
      "4,Cornwall,532300,Cornwall\n",
      "5,Bradford,522500,West Yorkshire\n",
      "6,County Durham,513200,County Durham\n",
      "7,Manchester,503100,Greater Manchester\n",
      "8,Wiltshire,471000,Wiltshire\n",
      "9,Liverpool,466400,Merseyside\n",
      "10,Bristol,428200,Bristol\n",
      "11,Kirklees,422500,West Yorkshire\n",
      "12,Cheshire East,370100,Cheshire\n",
      "13,Croydon,363400,Greater London\n",
      "14,Barnet,356400,Greater London\n",
      "15,Ealing,333400,Greater London\n",
      "16,East Riding of Yorkshire,334200,East Riding of Yorkshire\n",
      "17,Leicester,329900,Leicestershire\n",
      "18,Cheshire West and Chester,329600,Cheshire\n",
      "19,Wakefield,325800,West Yorkshire\n",
      "20,Wirral,319800,Merseyside\n",
      "21,Coventry,318600,West Midlands\n",
      "22,Wigan,317800,Greater Manchester\n",
      "23,Northumberland,316000,Northumberland\n",
      "24,Dudley,312900,West Midlands\n",
      "25,Enfield,312500,Greater London\n",
      "26,Brent,311200,Greater London\n",
      "27,Bromley,309400,Greater London\n",
      "28,Sandwell,308100,West Midlands\n",
      "29,Newham,308000,Greater London\n",
      "30,Wandsworth,307000,Greater London\n",
      "31,Shropshire,306100,Shropshire\n",
      "32,Nottingham,305700,Nottinghamshire\n",
      "33,Lambeth,303100,Greater London\n",
      "34,Doncaster,302400,South Yorkshire\n",
      "'''.splitlines()\n",
      "print rawdata"
     ],
     "language": "python",
     "metadata": {},
     "outputs": []
    },
    {
     "cell_type": "code",
     "collapsed": false,
     "input": [
      "#use cvs.DictReader to read data to dictionaries\n",
      "indata = list(DictReader(rawdata))  \n",
      "#and pretty print to output\n",
      "pprint.pprint(indata)"
     ],
     "language": "python",
     "metadata": {},
     "outputs": []
    },
    {
     "cell_type": "code",
     "collapsed": false,
     "input": [
      "#sort by County\n",
      "ordered_data = sorted(indata, key=itemgetter('County'))\n",
      "print ordered_data"
     ],
     "language": "python",
     "metadata": {},
     "outputs": []
    },
    {
     "cell_type": "code",
     "collapsed": false,
     "input": [
      "counts = []\n",
      "sums = []\n",
      "\n",
      "#loop over by grouping data \n",
      "for region, group in groupby(ordered_data, key=itemgetter('County')):\n",
      "    group_list = list(group)\n",
      "    \n",
      "    count = sum(1 for city in group_list)\n",
      "    total = sum(int(city['Population']) for city in group_list)\n",
      "    \n",
      "    counts.append((region, count))\n",
      "    sums.append((region, total))"
     ],
     "language": "python",
     "metadata": {},
     "outputs": []
    },
    {
     "cell_type": "code",
     "collapsed": false,
     "input": [
      "#note the two ways of sorting along a given column and reversing\n",
      "pprint.pprint({'Number of Counties:': sorted(counts, key=lambda s: s[1])[::-1],\n",
      "               'Total Population:': sorted(sums, key=itemgetter(1), reverse=True)})"
     ],
     "language": "python",
     "metadata": {},
     "outputs": []
    },
    {
     "cell_type": "heading",
     "level": 4,
     "metadata": {},
     "source": [
      "And many many more to compress files, send emails, download data from web, manipulate raw audio or image data, develop GUIs, etc. (will meet glob, sqlite3, etc. later)"
     ]
    },
    {
     "cell_type": "code",
     "collapsed": false,
     "input": [],
     "language": "python",
     "metadata": {},
     "outputs": []
    }
   ],
   "metadata": {}
  }
 ]
}