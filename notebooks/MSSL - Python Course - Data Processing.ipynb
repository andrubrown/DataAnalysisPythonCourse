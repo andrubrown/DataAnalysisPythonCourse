{
 "metadata": {
  "name": "",
  "signature": "sha256:881e6b731cf3f6c20810ffc32694cd2f60293e43ee97b45be5852a60dfc6f4b0"
 },
 "nbformat": 3,
 "nbformat_minor": 0,
 "worksheets": [
  {
   "cells": [
    {
     "cell_type": "heading",
     "level": 1,
     "metadata": {},
     "source": [
      "Reading and Writing ASCII files"
     ]
    },
    {
     "cell_type": "markdown",
     "metadata": {},
     "source": [
      "Many ways to read ascii files, will show one with NumPy and another with Pandas."
     ]
    },
    {
     "cell_type": "markdown",
     "metadata": {},
     "source": [
      "### Preamble\n",
      "\n",
      "- *Sami Niemi (s.niemi@ucl.ac.uk)*\n",
      "- *Data Analysis and Image Processing with Python, UCL/MSSL, November 4-5 2014*\n",
      "- *Notebook available on [github](https://github.com/sniemi/DataAnalysisPythonCourse)*"
     ]
    },
    {
     "cell_type": "heading",
     "level": 2,
     "metadata": {},
     "source": [
      "Using NumPy"
     ]
    },
    {
     "cell_type": "code",
     "collapsed": false,
     "input": [
      "import numpy as np\n",
      "from StringIO import StringIO\n",
      "                            \n",
      "print 'Lets pretends that our variable d is really a file'\n",
      "print 'This is necessary because loadtxt expects a filename as input'\n",
      "\n",
      "d = StringIO('''\n",
      "# Abundances of different elements\n",
      "# for TW Hya\n",
      "# taken from Guenther et al. (2007)\n",
      "# element, abund, error, first-ionisation-potential [eV]\n",
      "C  0.2  0.03 11.3\n",
      "N  0.51 0.05 14.6\n",
      "O  0.25 0.01 13.6\n",
      "Ne 2.46 0.08 21.6\n",
      "Fe 0.19 0.01  7.9\n",
      "''')"
     ],
     "language": "python",
     "metadata": {},
     "outputs": []
    },
    {
     "cell_type": "code",
     "collapsed": false,
     "input": [
      "print 'Load data with NumPy.loadtxt and print out the new array:'\n",
      "\n",
      "data = np.loadtxt(d, dtype={'names': ('elem', 'abund', 'error', 'FIP'),\n",
      "                            'formats': ('S2', 'f4', 'f4', 'f4')})\n",
      "\n",
      "print data"
     ],
     "language": "python",
     "metadata": {},
     "outputs": []
    },
    {
     "cell_type": "code",
     "collapsed": false,
     "input": [
      "print 'Lets test this now with a real file:'\n",
      "#see a real file on the file system\n",
      "#this is a Unix command, so it probably does not work if you Windows\n",
      "#simply ignore in this case.\n",
      "!head -10 ../data/catalog0.dat"
     ],
     "language": "python",
     "metadata": {},
     "outputs": []
    },
    {
     "cell_type": "code",
     "collapsed": false,
     "input": [
      "data = np.loadtxt('../data/catalog0.dat')\n",
      "print data"
     ],
     "language": "python",
     "metadata": {},
     "outputs": []
    },
    {
     "cell_type": "code",
     "collapsed": false,
     "input": [
      "import pprint #pretty print, helps formulating prints\n",
      "\n",
      "print 'Lets look at the comment lines:'\n",
      "pprint.pprint([line.strip() for line in open('../data/catalog0.dat').readlines() if line.startswith('#')])\n",
      "#this is same as the following\n",
      "\n",
      "#for line in open('../data/catalog0.dat').readlines():\n",
      "#    if line.startswith('#'):\n",
      "#        print line.strip()  #strip removes the line change..."
     ],
     "language": "python",
     "metadata": {},
     "outputs": []
    },
    {
     "cell_type": "code",
     "collapsed": false,
     "input": [
      "print 'We can now assign from our 2D array to new 1D arrays/vectors'\n",
      "xcoords = data[:, 0] #note the row-major direction: [y, x]\n",
      "ycoords = data[:, 1]\n",
      "mags = data[:, 2]"
     ],
     "language": "python",
     "metadata": {},
     "outputs": []
    },
    {
     "cell_type": "code",
     "collapsed": false,
     "input": [
      "print 'and find the brightest source'\n",
      "bright = mags.argmin()\n",
      "print bright"
     ],
     "language": "python",
     "metadata": {},
     "outputs": []
    },
    {
     "cell_type": "heading",
     "level": 2,
     "metadata": {},
     "source": [
      "Using Pandas"
     ]
    },
    {
     "cell_type": "code",
     "collapsed": false,
     "input": [
      "import pandas as pd\n",
      "\n",
      "data = pd.read_table('../data/catalog0.dat', skiprows=5, names=['x', 'y', 'mag', 'type', 'orientation'], sep=' ')"
     ],
     "language": "python",
     "metadata": {},
     "outputs": []
    },
    {
     "cell_type": "code",
     "collapsed": false,
     "input": [
      "print data.columns"
     ],
     "language": "python",
     "metadata": {},
     "outputs": []
    },
    {
     "cell_type": "code",
     "collapsed": false,
     "input": [
      "print 'first three lines:'\n",
      "print data[:3]"
     ],
     "language": "python",
     "metadata": {},
     "outputs": []
    },
    {
     "cell_type": "code",
     "collapsed": false,
     "input": [
      "print 'three first x coordinates:'\n",
      "print data.x[:3]"
     ],
     "language": "python",
     "metadata": {},
     "outputs": []
    },
    {
     "cell_type": "code",
     "collapsed": false,
     "input": [
      "print 'Statistics'\n",
      "print data.describe()"
     ],
     "language": "python",
     "metadata": {},
     "outputs": []
    },
    {
     "cell_type": "code",
     "collapsed": false,
     "input": [
      "print 'Output to LaTeX the first 10 rows:\\n'\n",
      "print data[:10].to_latex() #give a file name to push to a file..."
     ],
     "language": "python",
     "metadata": {},
     "outputs": []
    },
    {
     "cell_type": "heading",
     "level": 1,
     "metadata": {},
     "source": [
      "Databases"
     ]
    },
    {
     "cell_type": "markdown",
     "metadata": {},
     "source": [
      "Introduction to SQL: http://www.stat.berkeley.edu/~spector/sql.pdf\n",
      "\n",
      "sqlite: http://www.sqlite.org/\n",
      "\n",
      "SQL (sqlite flavour) syntax: http://www.sqlite.org/lang.html"
     ]
    },
    {
     "cell_type": "heading",
     "level": 2,
     "metadata": {},
     "source": [
      "Creating a simple database (using sqlite3)"
     ]
    },
    {
     "cell_type": "code",
     "collapsed": false,
     "input": [
      "#we use this as our input data\n",
      "print xcoords\n",
      "print ycoords\n",
      "\n",
      "#about 22k lines of data...\n",
      "print '\\n', mags.shape"
     ],
     "language": "python",
     "metadata": {},
     "outputs": []
    },
    {
     "cell_type": "code",
     "collapsed": false,
     "input": [
      "print 'this is a Unix command, does not probably work in Windows...'\n",
      "!rm ../data/my.database #remove the old one so that a new one can be created..."
     ],
     "language": "python",
     "metadata": {},
     "outputs": []
    },
    {
     "cell_type": "code",
     "collapsed": false,
     "input": [
      "print 'Lets create a simple sqlite3 database with a single table that is indexed'\n",
      "\n",
      "import sqlite3\n",
      "\n",
      "#open connection, create the database, and get cursor instance\n",
      "conn = sqlite3.connect('../data/my.database')\n",
      "c = conn.cursor()\n",
      "\n",
      "#create a table\n",
      "command = 'create table test(xcoordinate float, ycoordinate float, magnitude float)'\n",
      "c.execute(command)\n",
      "\n",
      "#insert data (this isn't efficient as requires looping but works with files > 2GB well...)\n",
      "for x, y, m in zip(xcoords, ycoords, mags):\n",
      "    ins = 'insert into test values(%f,%f,%f)' % (x, y, m)\n",
      "    c.execute(ins)\n",
      "\n",
      "#index the mag column to allow fast access\n",
      "c.execute('CREATE INDEX id on test (magnitude)')\n",
      "c.close()"
     ],
     "language": "python",
     "metadata": {},
     "outputs": []
    },
    {
     "cell_type": "heading",
     "level": 3,
     "metadata": {},
     "source": [
      "Querying the data"
     ]
    },
    {
     "cell_type": "code",
     "collapsed": false,
     "input": [
      "print 'open a connection'\n",
      "conn = sqlite3.connect('../data/my.database')\n",
      "c = conn.cursor()"
     ],
     "language": "python",
     "metadata": {},
     "outputs": []
    },
    {
     "cell_type": "code",
     "collapsed": false,
     "input": [
      "print 'execute a command:'\n",
      "query = 'select xcoordinate, magnitude from test where magnitude > 16. and magnitude < 17.1'\n",
      "print query\n",
      "c.execute(query)"
     ],
     "language": "python",
     "metadata": {},
     "outputs": []
    },
    {
     "cell_type": "code",
     "collapsed": false,
     "input": [
      "print 'fetch all data and close the connection'\n",
      "data = c.fetchall()\n",
      "c.close()"
     ],
     "language": "python",
     "metadata": {},
     "outputs": []
    },
    {
     "cell_type": "code",
     "collapsed": false,
     "input": [
      "print 'show the recovered data'\n",
      "print np.asarray(data)"
     ],
     "language": "python",
     "metadata": {},
     "outputs": []
    },
    {
     "cell_type": "heading",
     "level": 2,
     "metadata": {},
     "source": [
      "Real World Example: Querying SDSS DR8"
     ]
    },
    {
     "cell_type": "code",
     "collapsed": false,
     "input": [
      "import sdss #database interface (originally written by Tamas Budavari, JHU), provides access to DR7 & 8"
     ],
     "language": "python",
     "metadata": {},
     "outputs": []
    },
    {
     "cell_type": "code",
     "collapsed": false,
     "input": [
      "#our test query\n",
      "query = \"SELECT TOP 2000\\\n",
      "         p.petroMag_u, p.petroMag_g, p.petroMag_r, p.petroMag_i, p.petroMag_z, \\\n",
      "         s.h_alpha_flux \\\n",
      "         from Galaxy as p, galSpecLine as s \\\n",
      "         WHERE p.specobjid = s.specobjid and s.h_alpha_flux < 10000 and s.h_alpha_flux > 0 and \\\n",
      "               p.petroMag_u < 26 and p.petroMag_g < 26 and p.petroMag_r < 26 and p.petroMag_i < 26 and \\\n",
      "               p.petroMag_u > 16 and p.petroMag_g > 16 and p.petroMag_r > 16 and p.petroMag_i > 16\"\n",
      "\n",
      "print 'get the data'\n",
      "lines = sdss.query(query).readlines()"
     ],
     "language": "python",
     "metadata": {},
     "outputs": []
    },
    {
     "cell_type": "code",
     "collapsed": false,
     "input": [
      "print len(lines)\n",
      "print 'save data to a file (pure Python)'\n",
      "fh = open('../data/dr8data.txt', 'w')\n",
      "for line in lines:\n",
      "    fh.write(line)\n",
      "fh.close()"
     ],
     "language": "python",
     "metadata": {},
     "outputs": []
    },
    {
     "cell_type": "code",
     "collapsed": false,
     "input": [
      "print 'Read the stored file'\n",
      "data = np.loadtxt('../data/dr8data.txt', skiprows=1, delimiter=',')"
     ],
     "language": "python",
     "metadata": {},
     "outputs": []
    },
    {
     "cell_type": "code",
     "collapsed": false,
     "input": [
      "print 'Plot the data:'\n",
      "plt.figure(figsize=(7,7))\n",
      "plt.scatter(data[:,0]-data[:,3], data[:,5], s=15, c='k', alpha=0.5)\n",
      "plt.xlabel(r'petroMag$_{u} -$ petroMag$_{i}$', fontsize=20)\n",
      "plt.ylabel(r'$H_{\\alpha} \\quad$ [flux]', fontsize=20)\n",
      "plt.xlim(0, 6)\n",
      "plt.ylim(1e0, 1e4)\n",
      "plt.yscale('log')\n",
      "plt.show()"
     ],
     "language": "python",
     "metadata": {},
     "outputs": []
    },
    {
     "cell_type": "code",
     "collapsed": false,
     "input": [
      "print 'Generate pandas data frame from NumPy array and compute colours:'\n",
      "data = pd.DataFrame(data, columns=['MAG_u', 'MAG_g', 'MAG_r', 'MAG_i', 'MAG_z', 'HAflux'])\n",
      "data['u-r'] = data['MAG_u'] - data['MAG_r']\n",
      "data['u-g'] = data['MAG_u'] - data['MAG_g']\n",
      "data['g-i'] = data['MAG_g'] - data['MAG_i']\n",
      "data['r-i'] = data['MAG_r'] - data['MAG_i']"
     ],
     "language": "python",
     "metadata": {},
     "outputs": []
    },
    {
     "cell_type": "code",
     "collapsed": false,
     "input": [
      "from pandas.tools.plotting import scatter_matrix\n",
      "\n",
      "print 'Data exploration, plot everything against everything :-)'\n",
      "scatter_matrix(data, alpha=0.2, figsize=(14, 14), diagonal='kde')\n",
      "plt.show()"
     ],
     "language": "python",
     "metadata": {},
     "outputs": []
    },
    {
     "cell_type": "heading",
     "level": 1,
     "metadata": {},
     "source": [
      "Data Processing: background subtraction (adapted from python4astronomers)"
     ]
    },
    {
     "cell_type": "heading",
     "level": 3,
     "metadata": {},
     "source": [
      "Download and open data"
     ]
    },
    {
     "cell_type": "code",
     "collapsed": false,
     "input": [
      "import urllib2, tarfile\n",
      "\n",
      "print 'Download some data and extract the tar ball'\n",
      "\n",
      "url = 'http://python4astronomers.github.com/core/core_examples.tar'\n",
      "tarfile.open(fileobj=urllib2.urlopen(url), mode='r|').extractall()"
     ],
     "language": "python",
     "metadata": {},
     "outputs": []
    },
    {
     "cell_type": "code",
     "collapsed": false,
     "input": [
      "import pyfits as pf\n",
      "\n",
      "#stis spectroscopy\n",
      "hdus = pf.open('py4ast/core/3c120_stis.fits.gz')\n",
      "img = hdus[1].data      # Intensity data\n",
      "err = hdus[2].data      # Error per pixel\n",
      "dq = hdus[3].data       # Data quality per pixel"
     ],
     "language": "python",
     "metadata": {},
     "outputs": []
    },
    {
     "cell_type": "heading",
     "level": 3,
     "metadata": {},
     "source": [
      "Plot Data"
     ]
    },
    {
     "cell_type": "code",
     "collapsed": false,
     "input": [
      "plt.figure(figsize=(9,9))\n",
      "plt.imshow(img, origin='lower', vmin=-10, vmax=65)\n",
      "plt.colorbar()\n",
      "plt.show()"
     ],
     "language": "python",
     "metadata": {},
     "outputs": []
    },
    {
     "cell_type": "code",
     "collapsed": false,
     "input": [
      "print 'Show image profile in column direction:'\n",
      "profile = img.sum(axis=1)\n",
      "plt.semilogy(profile)\n",
      "plt.show()"
     ],
     "language": "python",
     "metadata": {},
     "outputs": []
    },
    {
     "cell_type": "code",
     "collapsed": false,
     "input": [
      "print 'Show image profile in row direction:'\n",
      "spectrum = img.sum(axis=0)\n",
      "plt.plot(spectrum)\n",
      "plt.show()"
     ],
     "language": "python",
     "metadata": {},
     "outputs": []
    },
    {
     "cell_type": "heading",
     "level": 3,
     "metadata": {},
     "source": [
      "Filtering cosmic rays"
     ]
    },
    {
     "cell_type": "code",
     "collapsed": false,
     "input": [
      "import scipy.signal\n",
      "\n",
      "print 'Use a median filter to smooth out single-pixel deviations.'\n",
      "img_sm = scipy.signal.medfilt(img, 5)"
     ],
     "language": "python",
     "metadata": {},
     "outputs": []
    },
    {
     "cell_type": "code",
     "collapsed": false,
     "input": [
      "print 'Use sigma-clipping to remove large variations between the actual and smoothed image.'\n",
      "sigma = np.median(err)\n",
      "print sigma\n",
      "bad = np.abs(img - img_sm) / sigma > 8.0"
     ],
     "language": "python",
     "metadata": {},
     "outputs": []
    },
    {
     "cell_type": "code",
     "collapsed": false,
     "input": [
      "print 'Create a copy and replace cosmic rays with median filtered data'\n",
      "img_cr = img.copy()\n",
      "img_cr[bad] = img_sm[bad] "
     ],
     "language": "python",
     "metadata": {},
     "outputs": []
    },
    {
     "cell_type": "code",
     "collapsed": false,
     "input": [
      "# We want filtering to effect the background, only\n",
      "img_cr[230:280,:] = img[230:280,:]  "
     ],
     "language": "python",
     "metadata": {},
     "outputs": []
    },
    {
     "cell_type": "code",
     "collapsed": false,
     "input": [
      "plt.figure(figsize=(9,9))\n",
      "plt.imshow(img_sm, origin='lower', vmin=-10, vmax=65)\n",
      "plt.title('Smoothed Image')\n",
      "plt.show()"
     ],
     "language": "python",
     "metadata": {},
     "outputs": []
    },
    {
     "cell_type": "code",
     "collapsed": false,
     "input": [
      "plt.figure(figsize=(9,9))\n",
      "plt.imshow(img_cr, origin='lower', vmin=-10, vmax=65)\n",
      "plt.title('Median Filtered Image')\n",
      "plt.show()"
     ],
     "language": "python",
     "metadata": {},
     "outputs": []
    },
    {
     "cell_type": "heading",
     "level": 3,
     "metadata": {},
     "source": [
      "Fitting the background"
     ]
    },
    {
     "cell_type": "code",
     "collapsed": false,
     "input": [
      "print 'Looks like we can estimate bacground if we consider pixels from 10 to 200 and 300 to 480 in y direction.'\n",
      "print 'Lets generate a vector with indeces'\n",
      "x = np.append(np.arange(10, 200), np.arange(300, 480))  # Background rows"
     ],
     "language": "python",
     "metadata": {},
     "outputs": []
    },
    {
     "cell_type": "code",
     "collapsed": false,
     "input": [
      "print 'Lets take randomly a column 100 as a test case'\n",
      "y = img_cr[x, 100]   # column 100\n",
      "print 'and fit 4th order polynomial to the data.'\n",
      "pfit = np.polyfit(x, y, 4)   # Fit a polynomial to (x, y) data\n",
      "yfit = np.polyval(pfit, x)   # Evaluate the polynomial at x"
     ],
     "language": "python",
     "metadata": {},
     "outputs": []
    },
    {
     "cell_type": "code",
     "collapsed": false,
     "input": [
      "print 'Fit vs. data'\n",
      "plt.title('Column 100')\n",
      "plt.plot(x, y, label='data')\n",
      "plt.plot(x, yfit, lw=3, c='r', label='fit')\n",
      "plt.legend()\n",
      "plt.show()"
     ],
     "language": "python",
     "metadata": {},
     "outputs": []
    },
    {
     "cell_type": "code",
     "collapsed": false,
     "input": [
      "print 'looks decent enough, lets do every column separately'\n",
      "xrows = np.arange(img_cr.shape[0])          # Array from 0 .. N_rows-1\n",
      "bkg = np.zeros(img_cr.shape)                # Empty image for background fits\n",
      "\n",
      "for col in np.arange(img_cr.shape[1]):      # Iterate over columns\n",
      "    pfit = np.polyfit(x, img_cr[x, col], 4) # Fit poly over bkg rows for col\n",
      "    bkg[:, col] = np.polyval(pfit, xrows)   # Eval poly at ALL row positions"
     ],
     "language": "python",
     "metadata": {},
     "outputs": []
    },
    {
     "cell_type": "code",
     "collapsed": false,
     "input": [
      "plt.figure(figsize=(9,9))\n",
      "plt.title('Background estimation')\n",
      "plt.imshow(bkg, origin='lower')\n",
      "plt.colorbar()\n",
      "plt.show()"
     ],
     "language": "python",
     "metadata": {},
     "outputs": []
    },
    {
     "cell_type": "heading",
     "level": 3,
     "metadata": {},
     "source": [
      "Subtracting the background"
     ]
    },
    {
     "cell_type": "code",
     "collapsed": false,
     "input": [
      "print 'subtract the fitter background'\n",
      "img_bkg = img_cr - bkg"
     ],
     "language": "python",
     "metadata": {},
     "outputs": []
    },
    {
     "cell_type": "code",
     "collapsed": false,
     "input": [
      "plt.figure(figsize=(9,9))\n",
      "plt.imshow(img_bkg, origin = 'lower', vmin=0, vmax=30)\n",
      "plt.colorbar()\n",
      "plt.show()"
     ],
     "language": "python",
     "metadata": {},
     "outputs": []
    },
    {
     "cell_type": "heading",
     "level": 3,
     "metadata": {},
     "source": [
      "Plotting the final spectrum"
     ]
    },
    {
     "cell_type": "code",
     "collapsed": false,
     "input": [
      "spectrum = np.sum(img_bkg[230:280,:], axis=0)\n",
      "plt.plot(spectrum)\n",
      "plt.xlabel('Pixels')\n",
      "plt.ylabel('Arbitrary Flux')\n",
      "plt.show()"
     ],
     "language": "python",
     "metadata": {},
     "outputs": []
    },
    {
     "cell_type": "markdown",
     "metadata": {},
     "source": [
      "In real life one would still need to derive wavelength and flux calibration before science..."
     ]
    }
   ],
   "metadata": {}
  }
 ]
}