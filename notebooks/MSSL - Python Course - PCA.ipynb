{
 "metadata": {
  "name": "",
  "signature": "sha256:9d8b74a0db227da04d1f3877d9e07ffc59f1833d9b68a98da6af549dbdcfc3c9"
 },
 "nbformat": 3,
 "nbformat_minor": 0,
 "worksheets": [
  {
   "cells": [
    {
     "cell_type": "heading",
     "level": 1,
     "metadata": {},
     "source": [
      "Principal Component Analysis"
     ]
    },
    {
     "cell_type": "markdown",
     "metadata": {},
     "source": [
      "### Preamble\n",
      "\n",
      "- *Sami Niemi (s.niemi@ucl.ac.uk)*\n",
      "- *Data Analysis and Image Processing with Python, UCL/MSSL, November 4-5 2014*\n",
      "- *Notebook available on [github](https://github.com/sniemi/DataAnalysisPythonCourse)*"
     ]
    },
    {
     "cell_type": "markdown",
     "metadata": {},
     "source": [
      "Wikipedia: Principal component analysis (PCA) is a statistical procedure that uses an orthogonal transformation to convert a set of observations of possibly correlated variables into a set of values of linearly uncorrelated variables called principal components.\n",
      "\n",
      "Lets look at a very simple example."
     ]
    },
    {
     "cell_type": "code",
     "collapsed": false,
     "input": [
      "import numpy as np\n",
      "import matplotlib.pyplot as plt"
     ],
     "language": "python",
     "metadata": {},
     "outputs": []
    },
    {
     "cell_type": "code",
     "collapsed": false,
     "input": [
      "def princomp(A):\n",
      "    #computing eigenvalues and eigenvectors of covariance matrix\n",
      "    \n",
      "    # subtract the mean (along columns) and transpose\n",
      "    M = (A - np.mean(A.T, axis=1)).T \n",
      "    \n",
      "    #eigenvalues and coeffs of the covariance matrix\n",
      "    latent, coeff = np.linalg.eig(cov(M)) \n",
      "    \n",
      "    # projection of the data in the new space\n",
      "    score = np.dot(coeff.T, M) \n",
      "    \n",
      "    return coeff, score, latent"
     ],
     "language": "python",
     "metadata": {},
     "outputs": []
    },
    {
     "cell_type": "code",
     "collapsed": false,
     "input": [
      "#data\n",
      "A = np.array([[2.4,0.7,2.9,2.2,3.0,2.7,1.6,1.1,1.6,0.9, 0.7],\n",
      "              [2.5,0.5,2.2,1.9,3.1,2.3,2,1,1.5,1.1, 0.7]])\n",
      "\n",
      "plt.plot(A[0,:], A[1,:], 'ob')\n",
      "plt.xlim(0.5, 3.5)\n",
      "plt.ylim(0.2, 3.5)\n",
      "plt.show()"
     ],
     "language": "python",
     "metadata": {},
     "outputs": []
    },
    {
     "cell_type": "code",
     "collapsed": false,
     "input": [
      "#get PCAs\n",
      "coeff, score, latent = princomp(A.T)\n",
      "\n",
      "#average to help placing the PCA axis\n",
      "m = np.mean(A, axis=1)"
     ],
     "language": "python",
     "metadata": {},
     "outputs": []
    },
    {
     "cell_type": "code",
     "collapsed": false,
     "input": [
      "plt.plot(A[0,:],A[1,:],'ob') # the data\n",
      "#every eigenvector describe the direction\n",
      "#of a principal component.\n",
      "plt.plot([0, -coeff[0,0]*2]+m[0], [0, -coeff[0,1]*2]+m[1],'--r', lw=2)\n",
      "plt.plot([0, coeff[1,0]*2]+m[0], [0, coeff[1,1]*2]+m[1],'--r', lw=2)\n",
      "plt.axis('equal')\n",
      "plt.xlim(0.5, 3.)\n",
      "plt.ylim(0.2, 3.5)\n",
      "plt.show()"
     ],
     "language": "python",
     "metadata": {},
     "outputs": []
    },
    {
     "cell_type": "code",
     "collapsed": false,
     "input": [
      "#along the first component\n",
      "plt.plot(score[0,:],score[1,:],'*g')\n",
      "plt.plot(score[0,:],score[1,:],'*g')\n",
      "plt.axis('equal')\n",
      "plt.show()"
     ],
     "language": "python",
     "metadata": {},
     "outputs": []
    },
    {
     "cell_type": "heading",
     "level": 2,
     "metadata": {},
     "source": [
      "Image Construction using PCA"
     ]
    },
    {
     "cell_type": "code",
     "collapsed": false,
     "input": [
      "import numpy as np\n",
      "\n",
      "def PCAquick(A, numpc=1):\n",
      "    #calculate the eigens from estimated covariance matrix\n",
      "    eigenvalues, eigenvectors = np.linalg.eig(np.cov(A.T))\n",
      "    \n",
      "    #sort eigenvalues, get indeces, and reverse the array\n",
      "    idx = np.argsort(eigenvalues)[::-1]\n",
      "    eigenvalues = eigenvalues[idx]\n",
      "    \n",
      "    # sorting eigenvectors according to the sorted eigenvalues\n",
      "    eigenvectors = eigenvectors[:, idx]\n",
      "    \n",
      "    if numpc < np.size(eigenvectors, axis=1):\n",
      "        #throw away some lower information PCAs\n",
      "        eigenvectors = eigenvectors[:, range(numpc)]\n",
      "    \n",
      "    score = np.dot(eigenvectors.T, A)\n",
      "    \n",
      "    return eigenvectors, score, eigenvalues"
     ],
     "language": "python",
     "metadata": {},
     "outputs": []
    },
    {
     "cell_type": "code",
     "collapsed": false,
     "input": [
      "#load data from a jpeg.\n",
      "A = plt.imread('../data/guy.jpg')\n",
      "A = np.flipud(np.mean(A, 2))[50:-50, 50:-50]\n",
      "shape = A.shape\n",
      "print shape"
     ],
     "language": "python",
     "metadata": {},
     "outputs": []
    },
    {
     "cell_type": "code",
     "collapsed": false,
     "input": [
      "print 'Image we are trying to reconstruct:'\n",
      "plt.figure(figsize=(10, 10))\n",
      "plt.imshow(A , origin='lower', cmap='gray', shape=shape)\n",
      "plt.axis('off')\n",
      "plt.show()"
     ],
     "language": "python",
     "metadata": {},
     "outputs": []
    },
    {
     "cell_type": "markdown",
     "metadata": {},
     "source": [
      "Lets apply PCA and yse a range if Principle Components in the image reconstruction.\n",
      "\n",
      "In the following we assume that each row is an observation and each pixel along the row is a feature."
     ]
    },
    {
     "cell_type": "code",
     "collapsed": false,
     "input": [
      "import matplotlib.pyplot as plt\n",
      "from matplotlib.ticker import NullLocator\n",
      " \n",
      "full_pc = shape[1] # numbers of all the principal components\n",
      "\n",
      "fig = plt.figure(1, figsize=(12, 12))\n",
      "fig.subplots_adjust(hspace=0.1, wspace=0.001, left=0.10, bottom=0.095, top=0.975, right=0.98)\n",
      "\n",
      "for i, numpc in enumerate([1, 5, 20, 50, 400, full_pc]):\n",
      "    eigenvectors, score, eigenvalues = PCAquick(A.copy(), numpc)\n",
      "    #image reconstruction\n",
      "    image = np.dot(eigenvectors, score)  \n",
      "    #add subplot\n",
      "    ax = plt.subplot(3, 2, i+1, frame_on=False)  \n",
      "\n",
      "    #Flip array in the up/down direction and plot\n",
      "    plt.imshow(image , origin='lower', cmap='gray', shape=shape)\n",
      "    plt.title('PCs # '+str(numpc))\n",
      "    plt.axis('off')"
     ],
     "language": "python",
     "metadata": {},
     "outputs": []
    },
    {
     "cell_type": "code",
     "collapsed": false,
     "input": [
      "#using all PCAs\n",
      "coeff, score, latent = PCAquick(A.copy(), full_pc)\n",
      "image = np.dot(coeff, score)  \n",
      "\n",
      "fig, axes = plt.subplots(ncols=3, figsize=(12,7))\n",
      "ax1, ax2, ax3 = axes\n",
      "\n",
      "ax1 = plt.subplot(1, 3, 1, frame_on=False)  \n",
      "ax2 = plt.subplot(1, 3, 2, frame_on=False)  \n",
      "ax3 = plt.subplot(1, 3, 3, frame_on=False)\n",
      "\n",
      "ax1.imshow(image, origin='lower')\n",
      "ax1.set_title('Reconstructed with %i PCAs' % full_pc)\n",
      "\n",
      "ax2.imshow(A, origin='lower')\n",
      "ax2.set_title('Original Image')\n",
      "\n",
      "ax3.imshow(image - A, origin='lower')\n",
      "ax3.set_title('$\\Delta I =$ Constructed - Original')\n",
      "\n",
      "#turn of ticks  \n",
      "ax1.axes.get_xaxis().set_visible(False)\n",
      "ax1.axes.get_yaxis().set_visible(False)\n",
      "ax2.axes.get_xaxis().set_visible(False)\n",
      "ax2.axes.get_yaxis().set_visible(False)\n",
      "ax3.axes.get_xaxis().set_visible(False)\n",
      "ax3.axes.get_yaxis().set_visible(False)\n",
      "\n",
      "plt.subplots_adjust(hspace=0.01, wspace=0.01, top=1, bottom=0, left=0, right=1)\n",
      "\n",
      "plt.show()"
     ],
     "language": "python",
     "metadata": {},
     "outputs": []
    },
    {
     "cell_type": "markdown",
     "metadata": {},
     "source": [
      "As you can see, we lost some information..."
     ]
    }
   ],
   "metadata": {}
  }
 ]
}