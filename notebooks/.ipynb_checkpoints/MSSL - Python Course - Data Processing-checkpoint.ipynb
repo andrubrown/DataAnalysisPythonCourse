{
 "metadata": {
  "name": "",
  "signature": "sha256:bca16e205389cccc7fa254be64c369a0bdafe70b7224ec756a7ab6a1577ac231"
 },
 "nbformat": 3,
 "nbformat_minor": 0,
 "worksheets": [
  {
   "cells": [
    {
     "cell_type": "heading",
     "level": 1,
     "metadata": {},
     "source": [
      "Reading and Writing ASCII files"
     ]
    },
    {
     "cell_type": "markdown",
     "metadata": {},
     "source": [
      "Many ways to read ascii files, will show one with NumPy and another with Pandas."
     ]
    },
    {
     "cell_type": "markdown",
     "metadata": {},
     "source": [
      "### Preamble\n",
      "\n",
      "- *Sami Niemi (s.niemi@ucl.ac.uk)*\n",
      "- *Data Analysis and Image Processing with Python, UCL/MSSL, November 4-5 2014*\n",
      "- *Notebook available on [github](https://github.com/sniemi/DataAnalysisPythonCourse)*"
     ]
    },
    {
     "cell_type": "heading",
     "level": 2,
     "metadata": {},
     "source": [
      "Using NumPy"
     ]
    },
    {
     "cell_type": "code",
     "collapsed": false,
     "input": [
      "import numpy as np\n",
      "from StringIO import StringIO"
     ],
     "language": "python",
     "metadata": {},
     "outputs": []
    },
    {
     "cell_type": "markdown",
     "metadata": {},
     "source": [
      "For a moment, lets pretends that our variable *d* is actually a file on our harddrive. This is necessary because `numpy.loadtxt` expects a filename as input. The following creates an instance that mimics a file:"
     ]
    },
    {
     "cell_type": "code",
     "collapsed": false,
     "input": [
      "d = StringIO('''\n",
      "# Abundances of different elements\n",
      "# for TW Hya\n",
      "# taken from Guenther et al. (2007)\n",
      "# element, abund, error, first-ionisation-potential [eV]\n",
      "C  0.2  0.03 11.3\n",
      "N  0.51 0.05 14.6\n",
      "O  0.25 0.01 13.6\n",
      "Ne 2.46 0.08 21.6\n",
      "Fe 0.19 0.01  7.9\n",
      "''')"
     ],
     "language": "python",
     "metadata": {},
     "outputs": []
    },
    {
     "cell_type": "markdown",
     "metadata": {},
     "source": [
      "We can now load the data with `NumPy.loadtxt` and print out the new array:"
     ]
    },
    {
     "cell_type": "code",
     "collapsed": false,
     "input": [
      "data = np.loadtxt(d, dtype={'names': ('elem', 'abund', 'error', 'FIP'),\n",
      "                            'formats': ('S2', 'f4', 'f4', 'f4')})"
     ],
     "language": "python",
     "metadata": {},
     "outputs": []
    },
    {
     "cell_type": "code",
     "collapsed": false,
     "input": [
      "print data"
     ],
     "language": "python",
     "metadata": {},
     "outputs": []
    },
    {
     "cell_type": "markdown",
     "metadata": {},
     "source": [
      "Very simple. Lets test this now with an actual file."
     ]
    },
    {
     "cell_type": "markdown",
     "metadata": {},
     "source": [
      "IPython allows to use shell commands if you start the line with !.\n",
      "\n",
      "I know that I had a file on my harddrive that is called catlog0.dat. With the following UNIX command (this won't work in Windows) we can look at the first 10 lines of this file."
     ]
    },
    {
     "cell_type": "code",
     "collapsed": false,
     "input": [
      "!head -10 ../data/catalog0.dat"
     ],
     "language": "python",
     "metadata": {},
     "outputs": []
    },
    {
     "cell_type": "markdown",
     "metadata": {},
     "source": [
      "Now that we are sure that the file exists, we can load it with `numpy.loadtxt`:"
     ]
    },
    {
     "cell_type": "code",
     "collapsed": false,
     "input": [
      "data = np.loadtxt('../data/catalog0.dat')\n",
      "print data"
     ],
     "language": "python",
     "metadata": {},
     "outputs": []
    },
    {
     "cell_type": "markdown",
     "metadata": {},
     "source": [
      "NumPy is clever enough to ingored the header that starts with #. The data array is 2D, how would you check?"
     ]
    },
    {
     "cell_type": "code",
     "collapsed": false,
     "input": [
      "import pprint #pretty print, helps formulating prints"
     ],
     "language": "python",
     "metadata": {},
     "outputs": []
    },
    {
     "cell_type": "markdown",
     "metadata": {},
     "source": [
      "Lets look at the comment lines:"
     ]
    },
    {
     "cell_type": "code",
     "collapsed": false,
     "input": [
      "pprint.pprint([line.strip() for line in open('../data/catalog0.dat').readlines() if line.startswith('#')])\n",
      "#this is same as the following\n",
      "#for line in open('../data/catalog0.dat').readlines():\n",
      "#    if line.startswith('#'):\n",
      "#        print line.strip()  #strip removes the line change..."
     ],
     "language": "python",
     "metadata": {},
     "outputs": []
    },
    {
     "cell_type": "markdown",
     "metadata": {},
     "source": [
      "We can now assign from our 2D array to new 1D arrays/vectors:"
     ]
    },
    {
     "cell_type": "code",
     "collapsed": false,
     "input": [
      "xcoords = data[:, 0] #note the row-major direction: [y, x]\n",
      "ycoords = data[:, 1]\n",
      "mags = data[:, 2]"
     ],
     "language": "python",
     "metadata": {},
     "outputs": []
    },
    {
     "cell_type": "markdown",
     "metadata": {},
     "source": [
      "and find for example the brightest source:"
     ]
    },
    {
     "cell_type": "code",
     "collapsed": false,
     "input": [
      "bright = mags.argmin()\n",
      "print bright"
     ],
     "language": "python",
     "metadata": {},
     "outputs": []
    },
    {
     "cell_type": "heading",
     "level": 2,
     "metadata": {},
     "source": [
      "Using Pandas"
     ]
    },
    {
     "cell_type": "markdown",
     "metadata": {},
     "source": [
      "Wikipedia: Pandas is a software library written for the Python programming language for data manipulation and analysis. In particular, it offers data structures and operations for manipulating numerical tables and time series. "
     ]
    },
    {
     "cell_type": "code",
     "collapsed": false,
     "input": [
      "import pandas as pd"
     ],
     "language": "python",
     "metadata": {},
     "outputs": []
    },
    {
     "cell_type": "markdown",
     "metadata": {},
     "source": [
      "Reading ascii data with Pandas is simple, albeit you have to skip the header and give the separator:"
     ]
    },
    {
     "cell_type": "code",
     "collapsed": false,
     "input": [
      "data = pd.read_table('../data/catalog0.dat', skiprows=5, names=['x', 'y', 'mag', 'type', 'orientation'], sep=' ')"
     ],
     "language": "python",
     "metadata": {},
     "outputs": []
    },
    {
     "cell_type": "markdown",
     "metadata": {},
     "source": [
      "We also specified the column names:"
     ]
    },
    {
     "cell_type": "code",
     "collapsed": false,
     "input": [
      "print data.columns"
     ],
     "language": "python",
     "metadata": {},
     "outputs": []
    },
    {
     "cell_type": "markdown",
     "metadata": {},
     "source": [
      "Now that we have read the file to a variable named *data*. We can easily look at the first three lines:"
     ]
    },
    {
     "cell_type": "code",
     "collapsed": false,
     "input": [
      "print data[:3]"
     ],
     "language": "python",
     "metadata": {},
     "outputs": []
    },
    {
     "cell_type": "markdown",
     "metadata": {},
     "source": [
      "or three first *x* coordinates:"
     ]
    },
    {
     "cell_type": "code",
     "collapsed": false,
     "input": [
      "print data.x[:3]"
     ],
     "language": "python",
     "metadata": {},
     "outputs": []
    },
    {
     "cell_type": "markdown",
     "metadata": {},
     "source": [
      "One great thing about Pandas is that it allows us to calculate simple statistics easily:"
     ]
    },
    {
     "cell_type": "code",
     "collapsed": false,
     "input": [
      "print data.describe()"
     ],
     "language": "python",
     "metadata": {},
     "outputs": []
    },
    {
     "cell_type": "markdown",
     "metadata": {},
     "source": [
      "and output data frames (think tables) to LaTeX. For example, the first 10 rows from the above table:"
     ]
    },
    {
     "cell_type": "code",
     "collapsed": false,
     "input": [
      "print data[:10].to_latex() #give a file name to push to a file..."
     ],
     "language": "python",
     "metadata": {},
     "outputs": []
    },
    {
     "cell_type": "heading",
     "level": 1,
     "metadata": {},
     "source": [
      "Databases"
     ]
    },
    {
     "cell_type": "markdown",
     "metadata": {},
     "source": [
      "Wikipedia: A database is an organized collection of data. The data are typically organized to model aspects of reality in a way that supports processes requiring information. For example, modelling the availability of rooms in hotels in a way that supports finding a hotel with vacancies.\n",
      "\n",
      "For futher reading, please see:\n",
      "- [Introduction to SQL](http://www.stat.berkeley.edu/~spector/sql.pdf)\n",
      "- [sqlite](http://www.sqlite.org/)\n",
      "- [SQL](http://www.sqlite.org/lang.html) (sqlite flavour) syntax."
     ]
    },
    {
     "cell_type": "heading",
     "level": 2,
     "metadata": {},
     "source": [
      "Creating a simple database (using sqlite3)"
     ]
    },
    {
     "cell_type": "markdown",
     "metadata": {},
     "source": [
      "Lets create a simple database from the following data:"
     ]
    },
    {
     "cell_type": "code",
     "collapsed": false,
     "input": [
      "print xcoords\n",
      "print ycoords"
     ],
     "language": "python",
     "metadata": {},
     "outputs": []
    },
    {
     "cell_type": "markdown",
     "metadata": {},
     "source": [
      "This is about 22k lines of data:"
     ]
    },
    {
     "cell_type": "code",
     "collapsed": false,
     "input": [
      "print mags.shape"
     ],
     "language": "python",
     "metadata": {},
     "outputs": []
    },
    {
     "cell_type": "markdown",
     "metadata": {},
     "source": [
      "We should delete any existing database file:"
     ]
    },
    {
     "cell_type": "code",
     "collapsed": false,
     "input": [
      "import os\n",
      "if os.path.exists('../data/my.database'):\n",
      "    os.remove('../data/my.database')"
     ],
     "language": "python",
     "metadata": {},
     "outputs": []
    },
    {
     "cell_type": "markdown",
     "metadata": {},
     "source": [
      "We can now create a simple **sqlite3** database with a single table that is indexed as follows:"
     ]
    },
    {
     "cell_type": "code",
     "collapsed": false,
     "input": [
      "import sqlite3"
     ],
     "language": "python",
     "metadata": {},
     "outputs": []
    },
    {
     "cell_type": "markdown",
     "metadata": {},
     "source": [
      "Open a connection and get a cursor instance:"
     ]
    },
    {
     "cell_type": "code",
     "collapsed": false,
     "input": [
      "conn = sqlite3.connect('../data/my.database')\n",
      "c = conn.cursor()"
     ],
     "language": "python",
     "metadata": {},
     "outputs": []
    },
    {
     "cell_type": "markdown",
     "metadata": {},
     "source": [
      "A little bit of SQL syntax. We basically create a table called `test` that contain three columns of floats:"
     ]
    },
    {
     "cell_type": "code",
     "collapsed": false,
     "input": [
      "command = 'create table test(xcoordinate float, ycoordinate float, magnitude float)'\n",
      "c.execute(command)"
     ],
     "language": "python",
     "metadata": {},
     "outputs": []
    },
    {
     "cell_type": "markdown",
     "metadata": {},
     "source": [
      "With the following loop we can insert data. Note that this not efficient as requires looping. However, it works with large files (e.g. > 4GB), which would be difficult to fit to memory."
     ]
    },
    {
     "cell_type": "code",
     "collapsed": false,
     "input": [
      "for x, y, m in zip(xcoords, ycoords, mags):\n",
      "    ins = 'insert into test values(%f,%f,%f)' % (x, y, m)\n",
      "    c.execute(ins)"
     ],
     "language": "python",
     "metadata": {},
     "outputs": []
    },
    {
     "cell_type": "markdown",
     "metadata": {},
     "source": [
      "We can now index for example the magnitude column to allow fast access and searching:"
     ]
    },
    {
     "cell_type": "code",
     "collapsed": false,
     "input": [
      "c.execute('CREATE INDEX id on test (magnitude)')"
     ],
     "language": "python",
     "metadata": {},
     "outputs": []
    },
    {
     "cell_type": "markdown",
     "metadata": {},
     "source": [
      "Finally, we should close the cursor."
     ]
    },
    {
     "cell_type": "code",
     "collapsed": false,
     "input": [
      "c.close()"
     ],
     "language": "python",
     "metadata": {},
     "outputs": []
    },
    {
     "cell_type": "markdown",
     "metadata": {},
     "source": [
      "We have now successfully created our first database!\n",
      "\n",
      "That was easy, wasn't it? How do we access it?"
     ]
    },
    {
     "cell_type": "heading",
     "level": 3,
     "metadata": {},
     "source": [
      "Querying the database"
     ]
    },
    {
     "cell_type": "markdown",
     "metadata": {},
     "source": [
      "Querying a database is even easier than creating one. First, we should open a connection and create a cursor instance:"
     ]
    },
    {
     "cell_type": "code",
     "collapsed": false,
     "input": [
      "conn = sqlite3.connect('../data/my.database')\n",
      "c = conn.cursor()"
     ],
     "language": "python",
     "metadata": {},
     "outputs": []
    },
    {
     "cell_type": "markdown",
     "metadata": {},
     "source": [
      "We can now write out query. Lets for example pull out xcoordinates and magnitudes from our test table:"
     ]
    },
    {
     "cell_type": "code",
     "collapsed": false,
     "input": [
      "query = 'select xcoordinate, magnitude from test where magnitude > 16. and magnitude < 17.1'\n",
      "print query\n",
      "c.execute(query)"
     ],
     "language": "python",
     "metadata": {},
     "outputs": []
    },
    {
     "cell_type": "markdown",
     "metadata": {},
     "source": [
      "After passing the query, we should fetch all data and close the connection:"
     ]
    },
    {
     "cell_type": "code",
     "collapsed": false,
     "input": [
      "data = c.fetchall()\n",
      "c.close()"
     ],
     "language": "python",
     "metadata": {},
     "outputs": []
    },
    {
     "cell_type": "markdown",
     "metadata": {},
     "source": [
      "We can now push the recovered data to a numpy array and print it to the screen:"
     ]
    },
    {
     "cell_type": "code",
     "collapsed": false,
     "input": [
      "print np.asarray(data)"
     ],
     "language": "python",
     "metadata": {},
     "outputs": []
    },
    {
     "cell_type": "markdown",
     "metadata": {},
     "source": [
      "That was really easy..."
     ]
    },
    {
     "cell_type": "heading",
     "level": 2,
     "metadata": {},
     "source": [
      "Real World Example: Querying SDSS DR8"
     ]
    },
    {
     "cell_type": "code",
     "collapsed": false,
     "input": [
      "import sdss #database interface (originally written by Tamas Budavari, JHU), provides access to DR7 & 8"
     ],
     "language": "python",
     "metadata": {},
     "outputs": []
    },
    {
     "cell_type": "code",
     "collapsed": false,
     "input": [
      "#our test query\n",
      "query = \"SELECT TOP 2000\\\n",
      "         p.petroMag_u, p.petroMag_g, p.petroMag_r, p.petroMag_i, p.petroMag_z, \\\n",
      "         s.h_alpha_flux \\\n",
      "         from Galaxy as p, galSpecLine as s \\\n",
      "         WHERE p.specobjid = s.specobjid and s.h_alpha_flux < 10000 and s.h_alpha_flux > 0 and \\\n",
      "               p.petroMag_u < 26 and p.petroMag_g < 26 and p.petroMag_r < 26 and p.petroMag_i < 26 and \\\n",
      "               p.petroMag_u > 16 and p.petroMag_g > 16 and p.petroMag_r > 16 and p.petroMag_i > 16\"\n",
      "\n",
      "print 'get the data'\n",
      "lines = sdss.query(query).readlines()"
     ],
     "language": "python",
     "metadata": {},
     "outputs": []
    },
    {
     "cell_type": "code",
     "collapsed": false,
     "input": [
      "print len(lines)\n",
      "print 'save data to a file (pure Python)'\n",
      "fh = open('../data/dr8data.txt', 'w')\n",
      "for line in lines:\n",
      "    fh.write(line)\n",
      "fh.close()"
     ],
     "language": "python",
     "metadata": {},
     "outputs": []
    },
    {
     "cell_type": "code",
     "collapsed": false,
     "input": [
      "print 'Read the stored file'\n",
      "data = np.loadtxt('../data/dr8data.txt', skiprows=1, delimiter=',')"
     ],
     "language": "python",
     "metadata": {},
     "outputs": []
    },
    {
     "cell_type": "code",
     "collapsed": false,
     "input": [
      "print 'Plot the data:'\n",
      "plt.figure(figsize=(7,7))\n",
      "plt.scatter(data[:,0]-data[:,3], data[:,5], s=15, c='k', alpha=0.5)\n",
      "plt.xlabel(r'petroMag$_{u} -$ petroMag$_{i}$', fontsize=20)\n",
      "plt.ylabel(r'$H_{\\alpha} \\quad$ [flux]', fontsize=20)\n",
      "plt.xlim(0, 6)\n",
      "plt.ylim(1e0, 1e4)\n",
      "plt.yscale('log')\n",
      "plt.show()"
     ],
     "language": "python",
     "metadata": {},
     "outputs": []
    },
    {
     "cell_type": "code",
     "collapsed": false,
     "input": [
      "print 'Generate pandas data frame from NumPy array and compute colours:'\n",
      "data = pd.DataFrame(data, columns=['MAG_u', 'MAG_g', 'MAG_r', 'MAG_i', 'MAG_z', 'HAflux'])\n",
      "data['u-r'] = data['MAG_u'] - data['MAG_r']\n",
      "data['u-g'] = data['MAG_u'] - data['MAG_g']\n",
      "data['g-i'] = data['MAG_g'] - data['MAG_i']\n",
      "data['r-i'] = data['MAG_r'] - data['MAG_i']"
     ],
     "language": "python",
     "metadata": {},
     "outputs": []
    },
    {
     "cell_type": "code",
     "collapsed": false,
     "input": [
      "from pandas.tools.plotting import scatter_matrix\n",
      "\n",
      "print 'Data exploration, plot everything against everything :-)'\n",
      "scatter_matrix(data, alpha=0.2, figsize=(14, 14), diagonal='kde')\n",
      "plt.show()"
     ],
     "language": "python",
     "metadata": {},
     "outputs": []
    },
    {
     "cell_type": "heading",
     "level": 1,
     "metadata": {},
     "source": [
      "Data Processing: background subtraction (adapted from python4astronomers)"
     ]
    },
    {
     "cell_type": "heading",
     "level": 3,
     "metadata": {},
     "source": [
      "Download and open data"
     ]
    },
    {
     "cell_type": "code",
     "collapsed": false,
     "input": [
      "import urllib2, tarfile"
     ],
     "language": "python",
     "metadata": {},
     "outputs": []
    },
    {
     "cell_type": "markdown",
     "metadata": {},
     "source": [
      "Download some data and extract the tar ball:"
     ]
    },
    {
     "cell_type": "code",
     "collapsed": false,
     "input": [
      "url = 'http://python4astronomers.github.com/core/core_examples.tar'\n",
      "tarfile.open(fileobj=urllib2.urlopen(url), mode='r|').extractall()"
     ],
     "language": "python",
     "metadata": {},
     "outputs": []
    },
    {
     "cell_type": "code",
     "collapsed": false,
     "input": [
      "import pyfits as pf"
     ],
     "language": "python",
     "metadata": {},
     "outputs": []
    },
    {
     "cell_type": "markdown",
     "metadata": {},
     "source": [
      "Open the FITS file (we can actually open the gzip file):"
     ]
    },
    {
     "cell_type": "code",
     "collapsed": false,
     "input": [
      "hdus = pf.open('py4ast/core/3c120_stis.fits.gz')\n",
      "img = hdus[1].data      # Intensity data\n",
      "err = hdus[2].data      # Error per pixel\n",
      "dq = hdus[3].data       # Data quality per pixel"
     ],
     "language": "python",
     "metadata": {},
     "outputs": []
    },
    {
     "cell_type": "heading",
     "level": 3,
     "metadata": {},
     "source": [
      "Plot Raw Data"
     ]
    },
    {
     "cell_type": "code",
     "collapsed": false,
     "input": [
      "plt.figure(figsize=(9,9))\n",
      "plt.imshow(img, origin='lower', vmin=-10, vmax=65)\n",
      "plt.colorbar()\n",
      "plt.show()"
     ],
     "language": "python",
     "metadata": {},
     "outputs": []
    },
    {
     "cell_type": "markdown",
     "metadata": {},
     "source": [
      "Show image profile in column direction:"
     ]
    },
    {
     "cell_type": "code",
     "collapsed": false,
     "input": [
      "profile = img.sum(axis=1)\n",
      "plt.semilogy(profile)\n",
      "plt.show()"
     ],
     "language": "python",
     "metadata": {},
     "outputs": []
    },
    {
     "cell_type": "markdown",
     "metadata": {},
     "source": [
      "Show image profile in row direction:"
     ]
    },
    {
     "cell_type": "code",
     "collapsed": false,
     "input": [
      "spectrum = img.sum(axis=0)\n",
      "plt.plot(spectrum)\n",
      "plt.show()"
     ],
     "language": "python",
     "metadata": {},
     "outputs": []
    },
    {
     "cell_type": "heading",
     "level": 3,
     "metadata": {},
     "source": [
      "Filtering cosmic rays"
     ]
    },
    {
     "cell_type": "markdown",
     "metadata": {},
     "source": [
      "Lets use a median filtering to smooth out single-pixel deviations."
     ]
    },
    {
     "cell_type": "code",
     "collapsed": false,
     "input": [
      "import scipy.signal"
     ],
     "language": "python",
     "metadata": {},
     "outputs": []
    },
    {
     "cell_type": "markdown",
     "metadata": {},
     "source": [
      "Firstly, lets generate a smoothed median filtered image:"
     ]
    },
    {
     "cell_type": "code",
     "collapsed": false,
     "input": [
      "img_sm = scipy.signal.medfilt(img, 5)"
     ],
     "language": "python",
     "metadata": {},
     "outputs": []
    },
    {
     "cell_type": "markdown",
     "metadata": {},
     "source": [
      "Lets use sigma-clipping to generate a mask that captures all large variations between the actual and smoothed image:"
     ]
    },
    {
     "cell_type": "code",
     "collapsed": false,
     "input": [
      "sigma = np.median(err)\n",
      "print sigma\n",
      "bad = np.abs(img - img_sm) / sigma > 8.0"
     ],
     "language": "python",
     "metadata": {},
     "outputs": []
    },
    {
     "cell_type": "markdown",
     "metadata": {},
     "source": [
      "We should now create a copy of the original image and replace cosmic rays with median filtered data:"
     ]
    },
    {
     "cell_type": "code",
     "collapsed": false,
     "input": [
      "img_cr = img.copy()\n",
      "img_cr[bad] = img_sm[bad] "
     ],
     "language": "python",
     "metadata": {},
     "outputs": []
    },
    {
     "cell_type": "markdown",
     "metadata": {},
     "source": [
      "Becuse we want filtering to effect the background not the data, we replace some of the cosmic ray rejected file data with the original image data:"
     ]
    },
    {
     "cell_type": "code",
     "collapsed": false,
     "input": [
      "img_cr[230:280,:] = img[230:280,:]  "
     ],
     "language": "python",
     "metadata": {},
     "outputs": []
    },
    {
     "cell_type": "markdown",
     "metadata": {},
     "source": [
      "Lets visualise the smoothed image and the cosmic ray rejected data:"
     ]
    },
    {
     "cell_type": "code",
     "collapsed": false,
     "input": [
      "plt.figure(figsize=(9,9))\n",
      "plt.imshow(img_sm, origin='lower', vmin=-10, vmax=65)\n",
      "plt.title('Smoothed Image')\n",
      "plt.show()"
     ],
     "language": "python",
     "metadata": {},
     "outputs": []
    },
    {
     "cell_type": "code",
     "collapsed": false,
     "input": [
      "plt.figure(figsize=(9,9))\n",
      "plt.imshow(img_cr, origin='lower', vmin=-10, vmax=65)\n",
      "plt.title('Median Filtered Image')\n",
      "plt.show()"
     ],
     "language": "python",
     "metadata": {},
     "outputs": []
    },
    {
     "cell_type": "heading",
     "level": 3,
     "metadata": {},
     "source": [
      "Fitting the background"
     ]
    },
    {
     "cell_type": "markdown",
     "metadata": {},
     "source": [
      "Looks like we can estimate bacground if we consider pixels from 10 to 200 and 300 to 480 in *y* direction.\n",
      "\n",
      "Lets generate a vector with these indeces:"
     ]
    },
    {
     "cell_type": "code",
     "collapsed": false,
     "input": [
      "x = np.append(np.arange(10, 200), np.arange(300, 480))  # Background rows"
     ],
     "language": "python",
     "metadata": {},
     "outputs": []
    },
    {
     "cell_type": "markdown",
     "metadata": {},
     "source": [
      "Lets take randomly a column 100 as a test case:"
     ]
    },
    {
     "cell_type": "code",
     "collapsed": false,
     "input": [
      "y = img_cr[x, 100]   # column 100"
     ],
     "language": "python",
     "metadata": {},
     "outputs": []
    },
    {
     "cell_type": "markdown",
     "metadata": {},
     "source": [
      "and fit 4th order polynomial to these data:"
     ]
    },
    {
     "cell_type": "code",
     "collapsed": false,
     "input": [
      "pfit = np.polyfit(x, y, 4)   # Fit a polynomial to (x, y) data\n",
      "yfit = np.polyval(pfit, x)   # Evaluate the polynomial at x"
     ],
     "language": "python",
     "metadata": {},
     "outputs": []
    },
    {
     "cell_type": "markdown",
     "metadata": {},
     "source": [
      "We can now visualise our background estimation (fit) wrt data:"
     ]
    },
    {
     "cell_type": "code",
     "collapsed": false,
     "input": [
      "plt.title('Column 100')\n",
      "plt.plot(x, y, label='data')\n",
      "plt.plot(x, yfit, lw=3, c='r', label='fit')\n",
      "plt.legend()\n",
      "plt.show()"
     ],
     "language": "python",
     "metadata": {},
     "outputs": []
    },
    {
     "cell_type": "markdown",
     "metadata": {},
     "source": [
      "Looks decent enough. We should go forward and do every column:"
     ]
    },
    {
     "cell_type": "code",
     "collapsed": false,
     "input": [
      "xrows = np.arange(img_cr.shape[0])          # Array from 0 .. N_rows-1\n",
      "bkg = np.zeros(img_cr.shape)                # Empty image for background fits\n",
      "\n",
      "for col in np.arange(img_cr.shape[1]):      # Iterate over columns\n",
      "    pfit = np.polyfit(x, img_cr[x, col], 4) # Fit poly over bkg rows for col\n",
      "    bkg[:, col] = np.polyval(pfit, xrows)   # Eval poly at ALL row positions"
     ],
     "language": "python",
     "metadata": {},
     "outputs": []
    },
    {
     "cell_type": "markdown",
     "metadata": {},
     "source": [
      "How does the estimated background look like?"
     ]
    },
    {
     "cell_type": "code",
     "collapsed": false,
     "input": [
      "plt.figure(figsize=(9,9))\n",
      "plt.title('Background estimation')\n",
      "plt.imshow(bkg, origin='lower')\n",
      "plt.colorbar()\n",
      "plt.show()"
     ],
     "language": "python",
     "metadata": {},
     "outputs": []
    },
    {
     "cell_type": "heading",
     "level": 3,
     "metadata": {},
     "source": [
      "Subtracting the background"
     ]
    },
    {
     "cell_type": "markdown",
     "metadata": {},
     "source": [
      "We can now subtract the fitter background from the cosmic ray rejected data:"
     ]
    },
    {
     "cell_type": "code",
     "collapsed": false,
     "input": [
      "img_bkg = img_cr - bkg"
     ],
     "language": "python",
     "metadata": {},
     "outputs": []
    },
    {
     "cell_type": "markdown",
     "metadata": {},
     "source": [
      "and inspect our reduced data:"
     ]
    },
    {
     "cell_type": "code",
     "collapsed": false,
     "input": [
      "plt.figure(figsize=(9,9))\n",
      "plt.imshow(img_bkg, origin = 'lower', vmin=0, vmax=30)\n",
      "plt.colorbar()\n",
      "plt.show()"
     ],
     "language": "python",
     "metadata": {},
     "outputs": []
    },
    {
     "cell_type": "heading",
     "level": 3,
     "metadata": {},
     "source": [
      "Plotting the final spectrum"
     ]
    },
    {
     "cell_type": "markdown",
     "metadata": {},
     "source": [
      "Our quick and dirty data reduction looks decent enough. So lets extract the spectrum and plot it:"
     ]
    },
    {
     "cell_type": "code",
     "collapsed": false,
     "input": [
      "spectrum = np.mean(img_bkg[230:280, :], axis=0)"
     ],
     "language": "python",
     "metadata": {},
     "outputs": []
    },
    {
     "cell_type": "code",
     "collapsed": false,
     "input": [
      "plt.plot(spectrum)\n",
      "plt.xlabel('Pixels')\n",
      "plt.ylabel('Arbitrary Flux')\n",
      "plt.show()"
     ],
     "language": "python",
     "metadata": {},
     "outputs": []
    },
    {
     "cell_type": "markdown",
     "metadata": {},
     "source": [
      "In real life one would still need to derive at least wavelength and flux calibration before science..."
     ]
    }
   ],
   "metadata": {}
  }
 ]
}