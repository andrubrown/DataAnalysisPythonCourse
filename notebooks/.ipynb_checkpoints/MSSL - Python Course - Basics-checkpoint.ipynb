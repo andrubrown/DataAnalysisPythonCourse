{
 "metadata": {
  "name": "",
  "signature": "sha256:1bd0df32c2cee306a5327b1b202991180f7d39a095514dc84e9f2ac7cc84e423"
 },
 "nbformat": 3,
 "nbformat_minor": 0,
 "worksheets": [
  {
   "cells": [
    {
     "cell_type": "heading",
     "level": 1,
     "metadata": {},
     "source": [
      "Python Basics"
     ]
    },
    {
     "cell_type": "markdown",
     "metadata": {},
     "source": [
      "### Preamble\n",
      "\n",
      "- *Sami Niemi (s.niemi@ucl.ac.uk)*\n",
      "- *Data Analysis and Image Processing with Python, UCL/MSSL, November 4-5 2014*\n",
      "- *Notebook available on [github](https://github.com/sniemi/DataAnalysisPythonCourse)*"
     ]
    },
    {
     "cell_type": "markdown",
     "metadata": {},
     "source": [
      "Lots of information online and many good tutorials exist, see for example:\n",
      "\n",
      "- Python: https://www.python.org/\n",
      "- Python Scientific Lecture Notes: http://scipy-lectures.github.io/\n",
      "- Python Data Analysis: https://conference.scipy.org/scipy2013/tutorial_detail.php?id=109"
     ]
    },
    {
     "cell_type": "code",
     "collapsed": false,
     "input": [
      "import sys; print 'I am using Python', sys.version\n",
      "print '\\nNote that Python 3.x series would behave slightly differently...'"
     ],
     "language": "python",
     "metadata": {},
     "outputs": []
    },
    {
     "cell_type": "markdown",
     "metadata": {},
     "source": [
      "Packages we will use during the course:"
     ]
    },
    {
     "cell_type": "code",
     "collapsed": false,
     "input": [
      "packages = ['numpy', 'scipy', 'pandas', 'sklearn', 'skimage', 'emcee', 'sympy']\n",
      "for package in packages:\n",
      "    try:\n",
      "        exec('import %s' % package)\n",
      "        try:\n",
      "            print '%s, version =' % package,\n",
      "            exec('print %s.__version__' % (package))\n",
      "        except:\n",
      "            pass\n",
      "    except:\n",
      "        print 'Cannot import %s, please install the package' %  package"
     ],
     "language": "python",
     "metadata": {},
     "outputs": []
    },
    {
     "cell_type": "heading",
     "level": 2,
     "metadata": {},
     "source": [
      "Getting help"
     ]
    },
    {
     "cell_type": "markdown",
     "metadata": {},
     "source": [
      "If you do not know how a function, method or package works, or what you can do with your variable, you should always check the inbuild hel functionality. It can be used for pretty much anything. For example, with a simple integer object:"
     ]
    },
    {
     "cell_type": "code",
     "collapsed": false,
     "input": [
      "a = 5\n",
      "print help(a)"
     ],
     "language": "python",
     "metadata": {},
     "outputs": []
    },
    {
     "cell_type": "heading",
     "level": 3,
     "metadata": {},
     "source": [
      "Calling objects from build-in or 3rd party modules"
     ]
    },
    {
     "cell_type": "markdown",
     "metadata": {},
     "source": [
      "When you are using something beyound the standard core Python, you need to import the module.\n",
      "\n",
      "You should never do \"from package import *\", because it pollutes the whole namespace and can lead to problems.\n",
      "\n",
      "For example, if you want to know what time it is or you want to do calculations that are time related, you should use the Python datetime package."
     ]
    },
    {
     "cell_type": "code",
     "collapsed": false,
     "input": [
      "import datetime\n",
      "\n",
      "print 'It is now:'\n",
      "print datetime.datetime.today()"
     ],
     "language": "python",
     "metadata": {},
     "outputs": []
    },
    {
     "cell_type": "code",
     "collapsed": false,
     "input": [
      "print help(datetime)"
     ],
     "language": "python",
     "metadata": {},
     "outputs": []
    },
    {
     "cell_type": "heading",
     "level": 3,
     "metadata": {},
     "source": [
      "Strings"
     ]
    },
    {
     "cell_type": "markdown",
     "metadata": {},
     "source": [
      "Strings are basic variables. Defining one in Python is dead simple:"
     ]
    },
    {
     "cell_type": "code",
     "collapsed": false,
     "input": [
      "string = 'hello world'"
     ],
     "language": "python",
     "metadata": {},
     "outputs": []
    },
    {
     "cell_type": "markdown",
     "metadata": {},
     "source": [
      "You can use additions or multiplications:"
     ]
    },
    {
     "cell_type": "code",
     "collapsed": false,
     "input": [
      "print string+'!'\n",
      "print string[0]*15, '\\n' #\\n means a new line"
     ],
     "language": "python",
     "metadata": {},
     "outputs": []
    },
    {
     "cell_type": "markdown",
     "metadata": {},
     "source": [
      "In general, if you are operating a string object, you should use the following syntax:\n",
      "\n",
      "string.what_operation_you_want().\n",
      "\n",
      "For example:"
     ]
    },
    {
     "cell_type": "code",
     "collapsed": false,
     "input": [
      "print string.capitalize()\n",
      "print string.capitalize().replace('world', 'students!')\n",
      "print string.split()\n",
      "print string.endswith('rld')\n",
      "print string.find('wo'), 'Note that indexing starts from zero!'"
     ],
     "language": "python",
     "metadata": {},
     "outputs": []
    },
    {
     "cell_type": "markdown",
     "metadata": {},
     "source": [
      "Tab completion available in iPython. For example, you can type:\n",
      "\n",
      "string.\n",
      "\n",
      "and hit enter. This will list all the operators available with that particular object."
     ]
    },
    {
     "cell_type": "heading",
     "level": 6,
     "metadata": {},
     "source": [
      "Evaluating a string"
     ]
    },
    {
     "cell_type": "markdown",
     "metadata": {},
     "source": [
      "Sometimes, not often, but occasionally you will have to evaluate a string. There is a core Python command for that:"
     ]
    },
    {
     "cell_type": "code",
     "collapsed": false,
     "input": [
      "print eval(\"2*3 + 4\")"
     ],
     "language": "python",
     "metadata": {},
     "outputs": []
    },
    {
     "cell_type": "heading",
     "level": 3,
     "metadata": {},
     "source": [
      "Numbers"
     ]
    },
    {
     "cell_type": "markdown",
     "metadata": {},
     "source": [
      "Numbers like strings require no special declaration:"
     ]
    },
    {
     "cell_type": "code",
     "collapsed": false,
     "input": [
      "x = 1\n",
      "y = 2"
     ],
     "language": "python",
     "metadata": {},
     "outputs": []
    },
    {
     "cell_type": "markdown",
     "metadata": {},
     "source": [
      "Albeit you need to be careful with Python version < 3:"
     ]
    },
    {
     "cell_type": "code",
     "collapsed": false,
     "input": [
      "print '%s divided by %s not automatically promoted, so %i / %i = %i' % (type(x), type(y), x, y, x/y)"
     ],
     "language": "python",
     "metadata": {},
     "outputs": []
    },
    {
     "cell_type": "markdown",
     "metadata": {},
     "source": [
      "To avoid problems, you can either promote the variables:"
     ]
    },
    {
     "cell_type": "code",
     "collapsed": false,
     "input": [
      "print 'float / int =', float(x) / y"
     ],
     "language": "python",
     "metadata": {},
     "outputs": []
    },
    {
     "cell_type": "markdown",
     "metadata": {},
     "source": [
      "or import the division functionality of Python 3, which has been backported to the 2.x series:"
     ]
    },
    {
     "cell_type": "code",
     "collapsed": false,
     "input": [
      "from __future__ import division\n",
      "print 1/2"
     ],
     "language": "python",
     "metadata": {},
     "outputs": []
    },
    {
     "cell_type": "markdown",
     "metadata": {},
     "source": [
      "In general there is no need to specify types. For example, if you are having a long integer, it is declared as long automatically:"
     ]
    },
    {
     "cell_type": "code",
     "collapsed": false,
     "input": [
      "import math\n",
      "\n",
      "value = math.factorial(42)\n",
      "print type(value), value"
     ],
     "language": "python",
     "metadata": {},
     "outputs": []
    },
    {
     "cell_type": "markdown",
     "metadata": {},
     "source": [
      "The build-in math module provides basics:"
     ]
    },
    {
     "cell_type": "code",
     "collapsed": false,
     "input": [
      "print math.ceil(1.1), math.radians(180), math.pi, math.sqrt(36)"
     ],
     "language": "python",
     "metadata": {},
     "outputs": []
    },
    {
     "cell_type": "markdown",
     "metadata": {},
     "source": [
      "But you should note that Python lists are not vectors:"
     ]
    },
    {
     "cell_type": "code",
     "collapsed": false,
     "input": [
      "print [1,2,3]*2"
     ],
     "language": "python",
     "metadata": {},
     "outputs": []
    },
    {
     "cell_type": "markdown",
     "metadata": {},
     "source": [
      "Thus, looping is required if you are using lists:"
     ]
    },
    {
     "cell_type": "code",
     "collapsed": false,
     "input": [
      "y = [math.log10(a) for a in [2,3,4]]  #this (list comprehension) is slow, wait for numerical arrays (NumPy)\n",
      "print y"
     ],
     "language": "python",
     "metadata": {},
     "outputs": []
    },
    {
     "cell_type": "markdown",
     "metadata": {},
     "source": [
      "This is very yery inefficient, will show a better way later."
     ]
    },
    {
     "cell_type": "markdown",
     "metadata": {},
     "source": [
      "Complex numbers are also supported:"
     ]
    },
    {
     "cell_type": "code",
     "collapsed": false,
     "input": [
      "c = 1.35 + 2.5j\n",
      "print c, type(c)\n",
      "print c.real, c.imag"
     ],
     "language": "python",
     "metadata": {},
     "outputs": []
    },
    {
     "cell_type": "markdown",
     "metadata": {},
     "source": [
      "and operations with complex numbers work as expected:"
     ]
    },
    {
     "cell_type": "code",
     "collapsed": false,
     "input": [
      "print c*1.j"
     ],
     "language": "python",
     "metadata": {},
     "outputs": []
    },
    {
     "cell_type": "heading",
     "level": 3,
     "metadata": {},
     "source": [
      "Data structures"
     ]
    },
    {
     "cell_type": "markdown",
     "metadata": {},
     "source": [
      "There are three main data structres in Python:\n",
      "- tuples\n",
      "- lists\n",
      "- dictionaries"
     ]
    },
    {
     "cell_type": "markdown",
     "metadata": {},
     "source": [
      "Tuples are immutable ((cannot insert or append a new datum):"
     ]
    },
    {
     "cell_type": "code",
     "collapsed": false,
     "input": [
      "tupl = ('a', 'b', 1, 2)\n",
      "print type(tupl),  tupl"
     ],
     "language": "python",
     "metadata": {},
     "outputs": []
    },
    {
     "cell_type": "markdown",
     "metadata": {},
     "source": [
      "Lists are mutable:"
     ]
    },
    {
     "cell_type": "code",
     "collapsed": false,
     "input": [
      "ls = [1, 2, 'a', 'b', 3.3, 4.4, 5.5]\n",
      "\n",
      "print '%s is mutable and can contain other data structures:' % type(ls)\n",
      "\n",
      "ls.append(tupl)\n",
      "print ls"
     ],
     "language": "python",
     "metadata": {},
     "outputs": []
    },
    {
     "cell_type": "markdown",
     "metadata": {},
     "source": [
      " Lists can be modified, sliced, sorted..."
     ]
    },
    {
     "cell_type": "code",
     "collapsed": false,
     "input": [
      "ls[2] = 'Modify on fly'\n",
      "\n",
      "print ls[1:4]    # [start:stop), indeces indicate the \"midpoints\" in the list\n",
      "print ls[-3:]    # three last in the list (no need to know the length)\n",
      "print ls[:-2]    # everything till the last two\n",
      "print ls[::2]    # pick every second, syntax: [start:stop:stride]\n",
      "print sorted(ls) # numbers before letters, data containers last and note sorted"
     ],
     "language": "python",
     "metadata": {},
     "outputs": []
    },
    {
     "cell_type": "markdown",
     "metadata": {},
     "source": [
      "Dictionaries are very handy when one needs key-value mapping:"
     ]
    },
    {
     "cell_type": "code",
     "collapsed": false,
     "input": [
      "dc = dict(a=1, key1=ls, b=(1,2,3), d=4, e=5)\n",
      "\n",
      "print dc['b'], type(dc)"
     ],
     "language": "python",
     "metadata": {},
     "outputs": []
    },
    {
     "cell_type": "markdown",
     "metadata": {},
     "source": [
      "but be very careful if you want to loop over a dictionary, because the keys do not neccessarily retain order:"
     ]
    },
    {
     "cell_type": "code",
     "collapsed": false,
     "input": [
      "print dc.keys()\n",
      "print dc.values()"
     ],
     "language": "python",
     "metadata": {},
     "outputs": []
    },
    {
     "cell_type": "markdown",
     "metadata": {},
     "source": [
      "In Python < 3 dictionaries do not retain the order:"
     ]
    },
    {
     "cell_type": "code",
     "collapsed": false,
     "input": [
      "print dc"
     ],
     "language": "python",
     "metadata": {},
     "outputs": []
    },
    {
     "cell_type": "markdown",
     "metadata": {},
     "source": [
      "If you need to preserve order, use `collections.OrderedDict` in Python 2.7.x series..."
     ]
    },
    {
     "cell_type": "heading",
     "level": 3,
     "metadata": {},
     "source": [
      "Loops and Control Structures"
     ]
    },
    {
     "cell_type": "code",
     "collapsed": false,
     "input": [
      "my_list = ['...', 'that', 'not', 'is', 'Python', 'learning'][::-1] #note that -1 swaps the order\n",
      "print my_list"
     ],
     "language": "python",
     "metadata": {},
     "outputs": []
    },
    {
     "cell_type": "markdown",
     "metadata": {},
     "source": [
      "When looping in Python there is absolutely no need to find the indeces:"
     ]
    },
    {
     "cell_type": "code",
     "collapsed": false,
     "input": [
      "for value in my_list:\n",
      "    print value"
     ],
     "language": "python",
     "metadata": {},
     "outputs": []
    },
    {
     "cell_type": "markdown",
     "metadata": {},
     "source": [
      "what actually happens in \"for x in y\" is an interation (of a list iterator object):"
     ]
    },
    {
     "cell_type": "code",
     "collapsed": false,
     "input": [
      "tmp = iter(my_list)\n",
      "print tmp"
     ],
     "language": "python",
     "metadata": {},
     "outputs": []
    },
    {
     "cell_type": "code",
     "collapsed": false,
     "input": [
      "print tmp.next()\n",
      "print tmp.next()"
     ],
     "language": "python",
     "metadata": {},
     "outputs": []
    },
    {
     "cell_type": "markdown",
     "metadata": {},
     "source": [
      "Sometimes one needs the indences when looping. In this case you should use `enumerate`:"
     ]
    },
    {
     "cell_type": "code",
     "collapsed": false,
     "input": [
      "for index, value in enumerate(my_list):\n",
      "    print index, value\n",
      "    if index == 1:\n",
      "        print 'Note that the index numbering starts from zero in %s!' % value\n",
      "        break #to escape from the loop"
     ],
     "language": "python",
     "metadata": {},
     "outputs": []
    },
    {
     "cell_type": "markdown",
     "metadata": {},
     "source": [
      "Usually if one has more than one list and needs pairwise looping one needs to know the indeces. Not in Python. If you need pairwise looping you should `zip` together the different data containers. zip can take multiple objects that can be iterated (lists, tuples, strings, dictionaries..).\n",
      "\n",
      "You can even loop over containers of different length:"
     ]
    },
    {
     "cell_type": "code",
     "collapsed": false,
     "input": [
      "another = ('to program', 'is not difficult')\n",
      "for a, b in zip(my_list, another):\n",
      "    print a, b,  #the last , prevents new line"
     ],
     "language": "python",
     "metadata": {},
     "outputs": []
    },
    {
     "cell_type": "markdown",
     "metadata": {},
     "source": [
      "Sooner or later you need to control your program. For that the usual suspects should as `if` are available. If you need to compare something, you can chain these in Python:"
     ]
    },
    {
     "cell_type": "code",
     "collapsed": false,
     "input": [
      "a, b, c = 1, 2, 3\n",
      "\n",
      "print a < b < c              #you can chain \n",
      "print a < b and (a+b) <= c   #use \"and\" and \"or\""
     ],
     "language": "python",
     "metadata": {},
     "outputs": []
    },
    {
     "cell_type": "markdown",
     "metadata": {},
     "source": [
      "Remember that even if statements do not need parenthesis. You do need a colon (:) though and the following block needs to be indented. This is very important."
     ]
    },
    {
     "cell_type": "code",
     "collapsed": false,
     "input": [
      "print a > c, 'or', b < c\n",
      "if a > c or b < c:\n",
      "    print 'Python works without brackets...'"
     ],
     "language": "python",
     "metadata": {},
     "outputs": []
    },
    {
     "cell_type": "code",
     "collapsed": false,
     "input": [
      "print 'but one must be careful...'\n",
      "if True:\n",
      "    pass  #pass = \"do nothing\"\n",
      "print 'with indentations!'"
     ],
     "language": "python",
     "metadata": {},
     "outputs": []
    },
    {
     "cell_type": "markdown",
     "metadata": {},
     "source": [
      "If you need to search files you should use `glob`:"
     ]
    },
    {
     "cell_type": "code",
     "collapsed": false,
     "input": [
      "import glob as g\n",
      "\n",
      "print 'Find files with ipynb suffix'\n",
      "files = g.glob(\"*.ipynb\")"
     ],
     "language": "python",
     "metadata": {},
     "outputs": []
    },
    {
     "cell_type": "code",
     "collapsed": false,
     "input": [
      "print 'and loop over and identify the ones with \"Basic\":'\n",
      "for filename in files:\n",
      "    if 'Basic' in filename:\n",
      "        print filename"
     ],
     "language": "python",
     "metadata": {},
     "outputs": []
    },
    {
     "cell_type": "heading",
     "level": 3,
     "metadata": {},
     "source": [
      "Sets (unordered, unique items)"
     ]
    },
    {
     "cell_type": "code",
     "collapsed": false,
     "input": [
      "my_list = ['a', 'b', 'c', 'a']*3\n",
      "print my_list"
     ],
     "language": "python",
     "metadata": {},
     "outputs": []
    },
    {
     "cell_type": "markdown",
     "metadata": {},
     "source": [
      "Sets are unordered unique item containers:"
     ]
    },
    {
     "cell_type": "code",
     "collapsed": false,
     "input": [
      "s = set(my_list)\n",
      "print s\n",
      "print s.difference(['a', 'b'])"
     ],
     "language": "python",
     "metadata": {},
     "outputs": []
    },
    {
     "cell_type": "heading",
     "level": 3,
     "metadata": {},
     "source": [
      "Functions"
     ]
    },
    {
     "cell_type": "markdown",
     "metadata": {},
     "source": [
      "Functions can be thought as the basic building blocks of a program. They come handy when you need to write algorithms or steps that you need to call often. Introducing functions is simple. You should start with a reserved keyword `def` and then give the name of the function followed by a colon. \n",
      "\n",
      "The following introduces a simple function called \"firstFunction\". In the definition we have introduced:\n",
      "- compulsory arguments `arg1` and `arg2` and a voluntary one called `df` with a default value of 2.\n",
      "\n",
      "You should note that the function does not specify that the arguments need to be of certain data type. Thus, you could pass `arg1` as a list, but this function would crash. Do you know why? Because it's expecting a float (list to pow 2 is not defined).\n",
      "\n",
      "Our example function will return two outputs. In Python the number of returns is not limited. You can capture the output to a single variable or to two. It is up to you..."
     ]
    },
    {
     "cell_type": "code",
     "collapsed": false,
     "input": [
      "def firstFunction(arg1, arg2, df=2):\n",
      "    \"\"\"\n",
      "    Documentation \u00e0 la Sphinx.\n",
      "\n",
      "    :param arg1: first argument\n",
      "    :type arg1: float\n",
      "    etc.\n",
      "    \"\"\"\n",
      "    out = arg1**2/float(df) + arg1*arg2\n",
      "    return out, df"
     ],
     "language": "python",
     "metadata": {},
     "outputs": []
    },
    {
     "cell_type": "markdown",
     "metadata": {},
     "source": [
      "Calling functions and capturing results is easy:"
     ]
    },
    {
     "cell_type": "code",
     "collapsed": false,
     "input": [
      "result, df = firstFunction(4, 5, df=4)\n",
      "print result, df"
     ],
     "language": "python",
     "metadata": {},
     "outputs": []
    },
    {
     "cell_type": "markdown",
     "metadata": {},
     "source": [
      "If you decide to capture the output to a single data container, the output is stored as a tuple:"
     ]
    },
    {
     "cell_type": "code",
     "collapsed": false,
     "input": [
      "out = firstFunction(1, 2)\n",
      "print out, type(out)"
     ],
     "language": "python",
     "metadata": {},
     "outputs": []
    },
    {
     "cell_type": "markdown",
     "metadata": {},
     "source": [
      "If you do not wish to specify the number of arguments, you can use special syntax as follows:"
     ]
    },
    {
     "cell_type": "code",
     "collapsed": false,
     "input": [
      "def argsExample(*args, **kwargs):\n",
      "    print 'Passing arguments without specifying them:'\n",
      "    for a in args:\n",
      "        print a\n",
      "    print '\\nor keywords:'\n",
      "    for key, value in kwargs.iteritems():\n",
      "        print key, value"
     ],
     "language": "python",
     "metadata": {},
     "outputs": []
    },
    {
     "cell_type": "markdown",
     "metadata": {},
     "source": [
      "This is useful if you have default settings e.g. for your plot and then\n",
      "sometimes you wish to change the colour, linestyle, or something.\n",
      "You can then just pass kwargs you wish to modify."
     ]
    },
    {
     "cell_type": "code",
     "collapsed": false,
     "input": [
      "output = argsExample(*[1,2,3,4], **{'color': 'red','linestyle' : '--','xmin' : 124})\n",
      "print '\\nNot necessary to return anything from a function...', output"
     ],
     "language": "python",
     "metadata": {},
     "outputs": []
    },
    {
     "cell_type": "code",
     "collapsed": false,
     "input": [
      "def cube(x):\n",
      "    \"simple function to cube a given value\"\n",
      "    return x*x*x\n",
      "\n",
      "print cube(3)"
     ],
     "language": "python",
     "metadata": {},
     "outputs": []
    },
    {
     "cell_type": "markdown",
     "metadata": {},
     "source": [
      "If you need to call the same function with multiple arguments, there is no need to have a separate line for each or write a loop. You can simply `map` it:"
     ]
    },
    {
     "cell_type": "code",
     "collapsed": false,
     "input": [
      "values = range(1, 11)\n",
      "print map(cube, values)"
     ],
     "language": "python",
     "metadata": {},
     "outputs": []
    },
    {
     "cell_type": "heading",
     "level": 3,
     "metadata": {},
     "source": [
      "Classes"
     ]
    },
    {
     "cell_type": "markdown",
     "metadata": {},
     "source": [
      "Wikipedia: In object-oriented programming, a class is an extensible program-code-template for creating objects, providing initial values for state (member variables) and implementations of behavior (member functions, methods). In many languages, the class name is used as the name for the class (the template itself), the name for the default constructor of the class (subroutine that creates objects), and as the type of objects generated by the type, and these distinct concepts are easily conflated.\n",
      "\n",
      "*What?*\n",
      "\n",
      "I did not get any of that. You can think about classes as something that contains several functions, often called methods, that  can easily share variables inside the class.\n",
      "\n",
      "Creating classes is easy. You simply use a reserved keyword `class` followed by a name you have chosen. The simples class would be:"
     ]
    },
    {
     "cell_type": "code",
     "collapsed": false,
     "input": [
      "class simple:\n",
      "    pass"
     ],
     "language": "python",
     "metadata": {},
     "outputs": []
    },
    {
     "cell_type": "markdown",
     "metadata": {},
     "source": [
      "This does not really do anything. However, it could be used as a clever data container."
     ]
    },
    {
     "cell_type": "code",
     "collapsed": false,
     "input": [
      "data = simple()\n",
      "data.needtostorestuff = [1,2,3]\n",
      "data.important = 'this is really important'"
     ],
     "language": "python",
     "metadata": {},
     "outputs": []
    },
    {
     "cell_type": "code",
     "collapsed": false,
     "input": [
      "print data.needtostorestuff"
     ],
     "language": "python",
     "metadata": {},
     "outputs": []
    },
    {
     "cell_type": "markdown",
     "metadata": {},
     "source": [
      "In the end that has only limited use. We probably want to initialise our class with some settings and then have a method available that operates on the arguments:"
     ]
    },
    {
     "cell_type": "code",
     "collapsed": false,
     "input": [
      "class nameOfMyClass:\n",
      "    def __init__(self, inputstuff):\n",
      "        self.arguments = inputstuff\n",
      "    \n",
      "    def method(self):\n",
      "        print 'No need to pass arguments, if stored inside:'\n",
      "        print self.arguments\n",
      "        return 'Some fancy computation'"
     ],
     "language": "python",
     "metadata": {},
     "outputs": []
    },
    {
     "cell_type": "markdown",
     "metadata": {},
     "source": [
      "Now we can create a class instance:"
     ]
    },
    {
     "cell_type": "code",
     "collapsed": false,
     "input": [
      "instance = nameOfMyClass(345)\n",
      "\n",
      "print type(instance)\n",
      "print type(nameOfMyClass)\n",
      "print instance"
     ],
     "language": "python",
     "metadata": {},
     "outputs": []
    },
    {
     "cell_type": "markdown",
     "metadata": {},
     "source": [
      "and then use the method:"
     ]
    },
    {
     "cell_type": "code",
     "collapsed": false,
     "input": [
      "tmp = instance.method()"
     ],
     "language": "python",
     "metadata": {},
     "outputs": []
    },
    {
     "cell_type": "code",
     "collapsed": false,
     "input": [
      "print tmp"
     ],
     "language": "python",
     "metadata": {},
     "outputs": []
    },
    {
     "cell_type": "markdown",
     "metadata": {},
     "source": [
      "That wasn't hard afterall...\n",
      "\n",
      "Why should I bother writing classes?\n",
      "\n",
      "For example, if you need to redefine operators. This is called operator overloading."
     ]
    },
    {
     "cell_type": "code",
     "collapsed": false,
     "input": [
      "class weirdSum:\n",
      "    \"demonstrates operation overloading\"\n",
      "    def __init__(self, value):\n",
      "        self.value = value\n",
      "        self.foo = value\n",
      "   \n",
      "    def __add__(self, other):\n",
      "        return self.value**3 + other.value**2\n",
      "    \n",
      "    def __mul__(self, other):\n",
      "        return 'Did not bother to invent a crazy multiplication, so just returning a string...'"
     ],
     "language": "python",
     "metadata": {},
     "outputs": []
    },
    {
     "cell_type": "code",
     "collapsed": false,
     "input": [
      "d1 = weirdSum(3)\n",
      "d2 = weirdSum(2)"
     ],
     "language": "python",
     "metadata": {},
     "outputs": []
    },
    {
     "cell_type": "code",
     "collapsed": false,
     "input": [
      "print 'One can look at the parameters'\n",
      "print d1.foo\n",
      "print 'Or even store new ones...'\n",
      "d1.bar = 'so classes can be used as fancy data containers'\n",
      "print d1.bar"
     ],
     "language": "python",
     "metadata": {},
     "outputs": []
    },
    {
     "cell_type": "code",
     "collapsed": false,
     "input": [
      "print d1 + d2, \"should be equal to 3*3*3 + 2*2 = 27 + 4 = 31\"\n",
      "print d1 * d2"
     ],
     "language": "python",
     "metadata": {},
     "outputs": []
    },
    {
     "cell_type": "markdown",
     "metadata": {},
     "source": [
      "You know now most of the basics. There is one more thing though. At least I cannot write programs, which are completely bug free and no weird stuff can ever happen. To prevent your program from crashing, you need to do something when unexpected things happen."
     ]
    },
    {
     "cell_type": "heading",
     "level": 3,
     "metadata": {},
     "source": [
      "Exception handling"
     ]
    },
    {
     "cell_type": "markdown",
     "metadata": {},
     "source": [
      "If you are dealing with containers of unknown content you should be careful. For example, say that you have to turn a list of strings to a list of numbers. It can so happen that the list contains letters. Python does not know how to convert 'a' to a number, so we need to handle this exeption:"
     ]
    },
    {
     "cell_type": "code",
     "collapsed": false,
     "input": [
      "ls = ['a', '1', 'b', '2']\n",
      "\n",
      "numbers = []\n",
      "for value in ls:\n",
      "    try:\n",
      "        tmp = int(value) * 3\n",
      "        numbers.append(tmp)\n",
      "    except ValueError as error:\n",
      "        print error.message"
     ],
     "language": "python",
     "metadata": {},
     "outputs": []
    },
    {
     "cell_type": "code",
     "collapsed": false,
     "input": [
      "print numbers"
     ],
     "language": "python",
     "metadata": {},
     "outputs": []
    },
    {
     "cell_type": "heading",
     "level": 2,
     "metadata": {},
     "source": [
      "Useful Python Standard Library Modules"
     ]
    },
    {
     "cell_type": "markdown",
     "metadata": {},
     "source": [
      "Now that we know the basics, lets look at some useful modules..."
     ]
    },
    {
     "cell_type": "heading",
     "level": 3,
     "metadata": {},
     "source": [
      "Itertools"
     ]
    },
    {
     "cell_type": "code",
     "collapsed": false,
     "input": [
      "import itertools\n",
      "animals = ['ant', 'dog', 'cat', 'python']\n",
      "\n",
      "for x in itertools.combinations(animals, 3):\n",
      "    #change the number and see what happens\n",
      "    print x"
     ],
     "language": "python",
     "metadata": {},
     "outputs": []
    },
    {
     "cell_type": "code",
     "collapsed": false,
     "input": [
      "for x in itertools.permutations(animals):\n",
      "    print x"
     ],
     "language": "python",
     "metadata": {},
     "outputs": []
    },
    {
     "cell_type": "heading",
     "level": 3,
     "metadata": {},
     "source": [
      "collections"
     ]
    },
    {
     "cell_type": "code",
     "collapsed": false,
     "input": [
      "from collections import Counter\n",
      "\n",
      "print 'Counting charachters from a string is easy:'\n",
      "print Counter('abracadabra').most_common(3)"
     ],
     "language": "python",
     "metadata": {},
     "outputs": []
    },
    {
     "cell_type": "code",
     "collapsed": false,
     "input": [
      "print 'Couting words from a list is no harder:'\n",
      "cnt = Counter()\n",
      "for word in ['red', 'blue', 'red', 'green', 'blue', 'blue']:\n",
      "    cnt[word] += 1   #+= is the same as value = value + 1\n",
      "print cnt"
     ],
     "language": "python",
     "metadata": {},
     "outputs": []
    },
    {
     "cell_type": "heading",
     "level": 3,
     "metadata": {},
     "source": [
      "Regular expression"
     ]
    },
    {
     "cell_type": "markdown",
     "metadata": {},
     "source": [
      "Regular expressions are very powerful for parsing, but rather tedious to write..."
     ]
    },
    {
     "cell_type": "code",
     "collapsed": false,
     "input": [
      "import re"
     ],
     "language": "python",
     "metadata": {},
     "outputs": []
    },
    {
     "cell_type": "code",
     "collapsed": false,
     "input": [
      "print 'Finding the decimal part of numbers:'\n",
      "\n",
      "m = re.match(r\"(\\d+)\\.(\\d+)\", \"24.1632\")\n",
      "\n",
      "print m.groups()"
     ],
     "language": "python",
     "metadata": {},
     "outputs": []
    },
    {
     "cell_type": "code",
     "collapsed": false,
     "input": [
      "print 'Parsing names:'\n",
      "\n",
      "m = re.match(r\"(?P<first_name>\\w+) (?P<last_name>\\w+)\", \"Thomas Bayes\")\n",
      "\n",
      "print m.groupdict()"
     ],
     "language": "python",
     "metadata": {},
     "outputs": []
    },
    {
     "cell_type": "heading",
     "level": 3,
     "metadata": {},
     "source": [
      "Comparing Sequences"
     ]
    },
    {
     "cell_type": "code",
     "collapsed": false,
     "input": [
      "import difflib, keyword\n",
      "\n",
      "print 'If you are working with word lists and want to implement a proof reader:'\n",
      "print difflib.get_close_matches('wheel', keyword.kwlist)\n",
      "print difflib.get_close_matches('accept', keyword.kwlist)"
     ],
     "language": "python",
     "metadata": {},
     "outputs": []
    },
    {
     "cell_type": "heading",
     "level": 3,
     "metadata": {},
     "source": [
      "Dates and Times"
     ]
    },
    {
     "cell_type": "code",
     "collapsed": false,
     "input": [
      "from datetime import datetime\n",
      "from datetime import date"
     ],
     "language": "python",
     "metadata": {},
     "outputs": []
    },
    {
     "cell_type": "code",
     "collapsed": false,
     "input": [
      "print 'Working with date and time is simple:'\n",
      "today = datetime.today()\n",
      "print 'Today is (no formatting):', today"
     ],
     "language": "python",
     "metadata": {},
     "outputs": []
    },
    {
     "cell_type": "code",
     "collapsed": false,
     "input": [
      "print 'To make it more readable, you have to format:'\n",
      "print today.strftime(\"%A %d. %B %Y\")"
     ],
     "language": "python",
     "metadata": {},
     "outputs": []
    },
    {
     "cell_type": "code",
     "collapsed": false,
     "input": [
      "today = date.today()\n",
      "\n",
      "print 'Calculations are also simple'\n",
      "my_birthday = date(today.year, 9, 22)  #year, month, day\n",
      "time_to_birthday = abs(my_birthday - today)"
     ],
     "language": "python",
     "metadata": {},
     "outputs": []
    },
    {
     "cell_type": "code",
     "collapsed": false,
     "input": [
      "print 'My birthday was %i days ago...' % time_to_birthday.days"
     ],
     "language": "python",
     "metadata": {},
     "outputs": []
    },
    {
     "cell_type": "heading",
     "level": 3,
     "metadata": {},
     "source": [
      "Operating System"
     ]
    },
    {
     "cell_type": "code",
     "collapsed": false,
     "input": [
      "import os"
     ],
     "language": "python",
     "metadata": {},
     "outputs": []
    },
    {
     "cell_type": "code",
     "collapsed": false,
     "input": [
      "print 'Finding the current working directory is simple:'\n",
      "print os.getcwd()  #current directory"
     ],
     "language": "python",
     "metadata": {},
     "outputs": []
    },
    {
     "cell_type": "code",
     "collapsed": false,
     "input": [
      "print 'Finding all files is no harder:'\n",
      "print os.listdir(os.curdir) #ls"
     ],
     "language": "python",
     "metadata": {},
     "outputs": []
    },
    {
     "cell_type": "code",
     "collapsed": false,
     "input": [
      "print 'You can also walk a directory tree:'\n",
      "for dirpath, dirnames, filenames in os.walk(os.curdir):\n",
      "    for fp in filenames:\n",
      "        print os.path.abspath(fp)"
     ],
     "language": "python",
     "metadata": {},
     "outputs": []
    },
    {
     "cell_type": "heading",
     "level": 4,
     "metadata": {},
     "source": [
      "SYS"
     ]
    },
    {
     "cell_type": "code",
     "collapsed": false,
     "input": [
      "import sys"
     ],
     "language": "python",
     "metadata": {},
     "outputs": []
    },
    {
     "cell_type": "code",
     "collapsed": false,
     "input": [
      "print 'System information can be queried:\\n'\n",
      "print sys.platform, sys.byteorder\n",
      "print\n",
      "print sys.float_info, sys.maxint\n",
      "print \n",
      "print sys.version   #what Python am I running?"
     ],
     "language": "python",
     "metadata": {},
     "outputs": []
    },
    {
     "cell_type": "heading",
     "level": 2,
     "metadata": {},
     "source": [
      "Example: parsing, sorting and grouping data"
     ]
    },
    {
     "cell_type": "markdown",
     "metadata": {},
     "source": [
      "Which are the most populous districts and and how many counties were listed in the input data?"
     ]
    },
    {
     "cell_type": "code",
     "collapsed": false,
     "input": [
      "import pprint\n",
      "from itertools import groupby\n",
      "from csv import DictReader\n",
      "from operator import itemgetter"
     ],
     "language": "python",
     "metadata": {},
     "outputs": []
    },
    {
     "cell_type": "code",
     "collapsed": false,
     "input": [
      "rawdata = '''Rank,District,Population,County\n",
      "1,Birmingham,1073000,West Midlands\n",
      "2,Leeds,751500,West Yorkshire\n",
      "3,Sheffield,552700,South Yorkshire\n",
      "4,Cornwall,532300,Cornwall\n",
      "5,Bradford,522500,West Yorkshire\n",
      "6,County Durham,513200,County Durham\n",
      "7,Manchester,503100,Greater Manchester\n",
      "8,Wiltshire,471000,Wiltshire\n",
      "9,Liverpool,466400,Merseyside\n",
      "10,Bristol,428200,Bristol\n",
      "11,Kirklees,422500,West Yorkshire\n",
      "12,Cheshire East,370100,Cheshire\n",
      "13,Croydon,363400,Greater London\n",
      "14,Barnet,356400,Greater London\n",
      "15,Ealing,333400,Greater London\n",
      "16,East Riding of Yorkshire,334200,East Riding of Yorkshire\n",
      "17,Leicester,329900,Leicestershire\n",
      "18,Cheshire West and Chester,329600,Cheshire\n",
      "19,Wakefield,325800,West Yorkshire\n",
      "20,Wirral,319800,Merseyside\n",
      "21,Coventry,318600,West Midlands\n",
      "22,Wigan,317800,Greater Manchester\n",
      "23,Northumberland,316000,Northumberland\n",
      "24,Dudley,312900,West Midlands\n",
      "25,Enfield,312500,Greater London\n",
      "26,Brent,311200,Greater London\n",
      "27,Bromley,309400,Greater London\n",
      "28,Sandwell,308100,West Midlands\n",
      "29,Newham,308000,Greater London\n",
      "30,Wandsworth,307000,Greater London\n",
      "31,Shropshire,306100,Shropshire\n",
      "32,Nottingham,305700,Nottinghamshire\n",
      "33,Lambeth,303100,Greater London\n",
      "34,Doncaster,302400,South Yorkshire\n",
      "'''.splitlines()\n",
      "print rawdata"
     ],
     "language": "python",
     "metadata": {},
     "outputs": []
    },
    {
     "cell_type": "code",
     "collapsed": false,
     "input": [
      "#use cvs.DictReader to read data to dictionaries\n",
      "indata = list(DictReader(rawdata))  \n",
      "#and pretty print to output\n",
      "pprint.pprint(indata)"
     ],
     "language": "python",
     "metadata": {},
     "outputs": []
    },
    {
     "cell_type": "code",
     "collapsed": false,
     "input": [
      "#sort by County\n",
      "ordered_data = sorted(indata, key=itemgetter('County'))\n",
      "print ordered_data"
     ],
     "language": "python",
     "metadata": {},
     "outputs": []
    },
    {
     "cell_type": "code",
     "collapsed": false,
     "input": [
      "counts = []\n",
      "sums = []\n",
      "\n",
      "#loop over by grouping data \n",
      "for region, group in groupby(ordered_data, key=itemgetter('County')):\n",
      "    group_list = list(group)\n",
      "    \n",
      "    count = sum(1 for city in group_list)\n",
      "    total = sum(int(city['Population']) for city in group_list)\n",
      "    \n",
      "    counts.append((region, count))\n",
      "    sums.append((region, total))"
     ],
     "language": "python",
     "metadata": {},
     "outputs": []
    },
    {
     "cell_type": "code",
     "collapsed": false,
     "input": [
      "#note the two ways of sorting along a given column and reversing\n",
      "pprint.pprint({'Number of Counties:': sorted(counts, key=lambda s: s[1])[::-1],\n",
      "               'Total Population:': sorted(sums, key=itemgetter(1), reverse=True)})"
     ],
     "language": "python",
     "metadata": {},
     "outputs": []
    },
    {
     "cell_type": "heading",
     "level": 4,
     "metadata": {},
     "source": [
      "And many many more to compress files, send emails, download data from web, manipulate raw audio or image data, develop GUIs, etc. (will meet glob, sqlite3, etc. later)"
     ]
    }
   ],
   "metadata": {}
  }
 ]
}