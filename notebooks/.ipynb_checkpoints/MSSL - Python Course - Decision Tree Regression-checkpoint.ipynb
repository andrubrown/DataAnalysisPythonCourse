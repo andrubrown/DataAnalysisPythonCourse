{
 "metadata": {
  "name": "",
  "signature": "sha256:b9f8af787c842b0e356017012b4b9c0755d263e8258abaaf703786ca2684fd35"
 },
 "nbformat": 3,
 "nbformat_minor": 0,
 "worksheets": [
  {
   "cells": [
    {
     "cell_type": "heading",
     "level": 1,
     "metadata": {},
     "source": [
      "Decision Tree Regression"
     ]
    },
    {
     "cell_type": "markdown",
     "metadata": {},
     "source": [
      "### Preamble\n",
      "\n",
      "- *Sami Niemi (s.niemi@ucl.ac.uk)*\n",
      "- *Data Analysis and Image Processing with Python, UCL/MSSL, November 4-5 2014*\n",
      "- *Notebook available on [github](https://github.com/sniemi/DataAnalysisPythonCourse)*"
     ]
    },
    {
     "cell_type": "code",
     "collapsed": false,
     "input": [
      "import numpy as np\n",
      "\n",
      "# Create a the dataset\n",
      "X = np.linspace(0, 16, 100)[:, np.newaxis]\n",
      "noise = np.random.normal(0, 0.3, X.shape[0])\n",
      "y = np.sin(X).ravel() + np.sin(6 * X).ravel() + noise"
     ],
     "language": "python",
     "metadata": {},
     "outputs": []
    },
    {
     "cell_type": "code",
     "collapsed": false,
     "input": [
      "from sklearn.tree import DecisionTreeRegressor\n",
      "from sklearn.ensemble import AdaBoostRegressor\n",
      "from sklearn.ensemble import RandomForestRegressor\n",
      "\n",
      "clf_1 = RandomForestRegressor(n_estimators=1500, n_jobs=3, verbose=1)\n",
      "clf_2 = AdaBoostRegressor(DecisionTreeRegressor(), n_estimators=15)\n",
      "\n",
      "# Fit regression model and predict\n",
      "clf_1.fit(X, y)\n",
      "clf_2.fit(X, y)\n",
      "y_1 = clf_1.predict(X)\n",
      "y_2 = clf_2.predict(X)"
     ],
     "language": "python",
     "metadata": {},
     "outputs": []
    },
    {
     "cell_type": "code",
     "collapsed": false,
     "input": [
      "import matplotlib.pylab as pl\n",
      "pl.figure(figsize=(10, 7))\n",
      "pl.errorbar(X, y, noise, c=\"k\", label=\"training samples\")\n",
      "pl.plot(X, y_1, c=\"g\", label=\"Random Forest\", linewidth=3)\n",
      "pl.plot(X, y_2, c=\"r\", label=\"AdaBoost\", linewidth=3)\n",
      "pl.xlabel(\"data\")\n",
      "pl.ylabel(\"target\")\n",
      "pl.title(\"Boosted Decision Tree Regression\")\n",
      "pl.legend()\n",
      "pl.show()"
     ],
     "language": "python",
     "metadata": {},
     "outputs": []
    }
   ],
   "metadata": {}
  }
 ]
}