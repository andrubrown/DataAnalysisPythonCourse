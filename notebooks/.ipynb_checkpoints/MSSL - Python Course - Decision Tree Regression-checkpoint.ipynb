{
 "metadata": {
  "name": "",
  "signature": "sha256:24fa03ef90fedb94465b4b44dabed0c42ea35756b3cf403a580ba6f847b0a207"
 },
 "nbformat": 3,
 "nbformat_minor": 0,
 "worksheets": [
  {
   "cells": [
    {
     "cell_type": "heading",
     "level": 1,
     "metadata": {},
     "source": [
      "Decision Tree Regression"
     ]
    },
    {
     "cell_type": "code",
     "collapsed": false,
     "input": [
      "import numpy as np\n",
      "\n",
      "# Create a the dataset\n",
      "X = np.linspace(0, 6, 100)[:, np.newaxis]\n",
      "y = np.sin(X).ravel() + np.sin(6 * X).ravel() + np.random.normal(0, 0.1, X.shape[0])"
     ],
     "language": "python",
     "metadata": {},
     "outputs": []
    },
    {
     "cell_type": "code",
     "collapsed": false,
     "input": [
      "# Fit regression model\n",
      "from sklearn.tree import DecisionTreeRegressor\n",
      "from sklearn.ensemble import AdaBoostRegressor\n",
      "from sklearn.ensemble import RandomForestRegressor\n",
      "\n",
      "clf_1 = RandomForestRegressor(n_estimators=300, n_jobs=3, verbose=1)\n",
      "clf_2 = AdaBoostRegressor(DecisionTreeRegressor(), n_estimators=300)\n",
      "\n",
      "clf_1.fit(X, y)\n",
      "clf_2.fit(X, y)\n",
      "\n",
      "# Predict\n",
      "y_1 = clf_1.predict(X)\n",
      "y_2 = clf_2.predict(X)"
     ],
     "language": "python",
     "metadata": {},
     "outputs": []
    },
    {
     "cell_type": "code",
     "collapsed": false,
     "input": [
      "# Plot the results\n",
      "import pylab as pl\n",
      "\n",
      "pl.figure()\n",
      "pl.scatter(X, y, c=\"k\", label=\"training samples\")\n",
      "pl.plot(X, y_1, c=\"g\", label=\"Random Forest\", linewidth=2)\n",
      "pl.plot(X, y_2, c=\"r\", label=\"AdaBoost\", linewidth=2)\n",
      "pl.xlabel(\"data\")\n",
      "pl.ylabel(\"target\")\n",
      "pl.title(\"Boosted Decision Tree Regression\")\n",
      "pl.legend()\n",
      "pl.show()"
     ],
     "language": "python",
     "metadata": {},
     "outputs": []
    }
   ],
   "metadata": {}
  }
 ]
}