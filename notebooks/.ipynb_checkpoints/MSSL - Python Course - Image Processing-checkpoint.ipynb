{
 "metadata": {
  "name": "",
  "signature": "sha256:6f230549104a208018f8f87572ea1a16023641440daab5522a76cc0360ed6302"
 },
 "nbformat": 3,
 "nbformat_minor": 0,
 "worksheets": [
  {
   "cells": [
    {
     "cell_type": "heading",
     "level": 1,
     "metadata": {},
     "source": [
      "Image Processing and Manipulations"
     ]
    },
    {
     "cell_type": "markdown",
     "metadata": {},
     "source": [
      "### Preamble\n",
      "\n",
      "- *Sami Niemi (s.niemi@ucl.ac.uk)*\n",
      "- *Data Analysis and Image Processing with Python, UCL/MSSL, November 4-5 2014*\n",
      "- *Notebook available on [github](https://github.com/sniemi/DataAnalysisPythonCourse)*"
     ]
    },
    {
     "cell_type": "markdown",
     "metadata": {},
     "source": [
      "It helps to think that images are nothing more than 2D arrays. Any 2D array can also be flattened, so in the end images are just like vectors."
     ]
    },
    {
     "cell_type": "code",
     "collapsed": false,
     "input": [
      "import numpy as np\n",
      "import matplotlib.pyplot as plt"
     ],
     "language": "python",
     "metadata": {},
     "outputs": []
    },
    {
     "cell_type": "heading",
     "level": 3,
     "metadata": {},
     "source": [
      "Drawing a chess board"
     ]
    },
    {
     "cell_type": "code",
     "collapsed": false,
     "input": [
      "chess = np.zeros((8, 8))\n",
      "chess[::2, 1::2] = 1\n",
      "chess[1::2, ::2] = 1"
     ],
     "language": "python",
     "metadata": {},
     "outputs": []
    },
    {
     "cell_type": "code",
     "collapsed": false,
     "input": [
      "fig, ax = plt.subplots(figsize=(8,8))\n",
      "plt.imshow(chess, cmap='gray', interpolation='nearest', origin='lower')\n",
      "plt.yticks(range(9), [x+1 for x in range(9)])\n",
      "plt.xticks(range(9), ['a', 'b', 'c', 'd', 'e', 'f', 'g', 'h'])\n",
      "plt.xlim(-0.5, 7.5)\n",
      "plt.ylim(-0.5, 7.5)\n",
      "plt.show()"
     ],
     "language": "python",
     "metadata": {},
     "outputs": []
    },
    {
     "cell_type": "heading",
     "level": 2,
     "metadata": {},
     "source": [
      "Scikit-Image"
     ]
    },
    {
     "cell_type": "markdown",
     "metadata": {},
     "source": [
      "scikit-image is a collection of algorithms for image processing.\n",
      "\n",
      "Lets look at some examples."
     ]
    },
    {
     "cell_type": "markdown",
     "metadata": {},
     "source": [
      "## Local Filters: Edge Detection\n",
      "\n",
      "Local filters replace the value of pixels by a value computeed from the neighboring pixels."
     ]
    },
    {
     "cell_type": "code",
     "collapsed": false,
     "input": [
      "import skimage\n",
      "from skimage import data, filter\n",
      "\n",
      "text = data.text()"
     ],
     "language": "python",
     "metadata": {},
     "outputs": []
    },
    {
     "cell_type": "code",
     "collapsed": false,
     "input": [
      "plt.figure(figsize=(10, 7))\n",
      "plt.imshow(text, origin='lower', cmap='gray')\n",
      "plt.axis('off')\n",
      "plt.show()"
     ],
     "language": "python",
     "metadata": {},
     "outputs": []
    },
    {
     "cell_type": "markdown",
     "metadata": {},
     "source": [
      "This image is difficul to read, can we ty to enhance it?\n",
      "\n",
      "We could try applying Sobel operator (filter), which generates an image which emphasises edges and transitions. The Sobel operator uses two 3x3 kernels, one in horizontal and another vertical direction. These kernels are convolved with the original image. The operations performed are following:\n",
      "\n",
      "$$\n",
      "S^{2}(I) =\n",
      "\\begin{bmatrix}\n",
      "-1 & 0 & 1\\\\\n",
      "-2 & 0 & 2\\\\\n",
      "-1 & 0 & 1\n",
      "\\end{bmatrix}\n",
      "\\ast\n",
      "I\n",
      "+\n",
      "\\begin{bmatrix}\n",
      "1 & 2 & 1\\\\\n",
      "0 & 0 & 0\\\\\n",
      "-1 & -2 & -1\n",
      "\\end{bmatrix}\n",
      "\\ast\n",
      "I \\quad ,\n",
      "$$\n",
      "where $\\ast$ denotes a convolution."
     ]
    },
    {
     "cell_type": "code",
     "collapsed": false,
     "input": [
      "edge = filter.sobel(text)"
     ],
     "language": "python",
     "metadata": {},
     "outputs": []
    },
    {
     "cell_type": "code",
     "collapsed": false,
     "input": [
      "plt.figure(figsize=(10, 7))\n",
      "plt.imshow(edge, origin='lower')\n",
      "plt.axis('off')\n",
      "plt.show()"
     ],
     "language": "python",
     "metadata": {},
     "outputs": []
    },
    {
     "cell_type": "markdown",
     "metadata": {},
     "source": [
      "Looks a little bit better, don't you think?"
     ]
    },
    {
     "cell_type": "markdown",
     "metadata": {},
     "source": [
      "## Template Matching\n",
      "\n",
      "Wikipedia: Template matching is a technique in digital image processing for finding small parts of an image which match a template image. It can be used in manufacturing as a part of quality control, a way to navigate a mobile robot, or as a way to detect edges in images.\n",
      "\n",
      "The following example is from scikit-image."
     ]
    },
    {
     "cell_type": "code",
     "collapsed": false,
     "input": [
      "from skimage.feature import match_template\n",
      "\n",
      "image = data.coins()"
     ],
     "language": "python",
     "metadata": {},
     "outputs": []
    },
    {
     "cell_type": "code",
     "collapsed": false,
     "input": [
      "print 'Image:'\n",
      "plt.figure(figsize=(12, 8))\n",
      "plt.imshow(image, cmap='gray')\n",
      "plt.axis('off')\n",
      "plt.show()"
     ],
     "language": "python",
     "metadata": {},
     "outputs": []
    },
    {
     "cell_type": "markdown",
     "metadata": {},
     "source": [
      "Lets try to find a single coin from the image automatically."
     ]
    },
    {
     "cell_type": "code",
     "collapsed": false,
     "input": [
      "coin = image[170:220, 75:130]\n",
      "print 'Coin:'\n",
      "plt.figure(figsize=(6, 5))\n",
      "plt.imshow(coin, cmap='gray')\n",
      "plt.axis('off')\n",
      "plt.show()"
     ],
     "language": "python",
     "metadata": {},
     "outputs": []
    },
    {
     "cell_type": "markdown",
     "metadata": {},
     "source": [
      "Lets run template matching:"
     ]
    },
    {
     "cell_type": "code",
     "collapsed": false,
     "input": [
      "result = match_template(image, coin)\n",
      "print 'The result is a response image with correlation coefficients.'\n",
      "#some magic\n",
      "ij = np.unravel_index(np.argmax(result), result.shape)\n",
      "x, y = ij[::-1]\n",
      "rescale = np.log10(result+1)"
     ],
     "language": "python",
     "metadata": {},
     "outputs": []
    },
    {
     "cell_type": "code",
     "collapsed": false,
     "input": [
      "fig, (ax1, ax2) = plt.subplots(ncols=2, figsize=(16, 6))\n",
      "\n",
      "ax1.imshow(image, cmap='gray')\n",
      "ax1.set_axis_off()\n",
      "ax1.set_title('Original Image')\n",
      "# highlight matched region\n",
      "hcoin, wcoin = coin.shape\n",
      "rect = plt.Rectangle((x, y), wcoin, hcoin, edgecolor='r', facecolor='none')\n",
      "ax1.add_patch(rect)\n",
      "\n",
      "ax2.imshow(rescale, vmin=-0.3, vmax=0.3)\n",
      "ax2.set_axis_off()\n",
      "ax2.set_title('`match_template`\\nresult')\n",
      "# highlight matched region\n",
      "ax2.autoscale(False)\n",
      "ax2.plot(x, y, 'o', markeredgecolor='r', markerfacecolor='none', markersize=20)\n",
      "\n",
      "plt.show()"
     ],
     "language": "python",
     "metadata": {},
     "outputs": []
    },
    {
     "cell_type": "markdown",
     "metadata": {},
     "source": [
      "## Object Detection\n",
      "\n",
      "In many fields we are often trying to identify objects from noisy imaging data. This is certainly the case in Astronomy.\n",
      "\n",
      "In the following we look at a scikit-image example."
     ]
    },
    {
     "cell_type": "code",
     "collapsed": false,
     "input": [
      "from matplotlib import pyplot as plt\n",
      "from skimage import data\n",
      "from skimage.feature import blob_dog, blob_log, blob_doh\n",
      "from math import sqrt\n",
      "from skimage.color import rgb2gray"
     ],
     "language": "python",
     "metadata": {},
     "outputs": []
    },
    {
     "cell_type": "markdown",
     "metadata": {},
     "source": [
      "First we need an image we are trying to process, for example a fully calibrated Hubble deep field image."
     ]
    },
    {
     "cell_type": "code",
     "collapsed": false,
     "input": [
      "image = data.hubble_deep_field()\n",
      "print image.shape\n",
      "\n",
      "plt.figure(figsize=(15, 15))\n",
      "plt.imshow(image)\n",
      "plt.axis('off')\n",
      "plt.show()"
     ],
     "language": "python",
     "metadata": {},
     "outputs": []
    },
    {
     "cell_type": "markdown",
     "metadata": {},
     "source": [
      "Very pretty with many galaxies... but time to get to work, lets try to find the galaxies.\n",
      "\n",
      "We should convert the 3 colour image to gray scale, so that we have the deepest image for object identification:"
     ]
    },
    {
     "cell_type": "code",
     "collapsed": false,
     "input": [
      "image_gray = rgb2gray(image)"
     ],
     "language": "python",
     "metadata": {},
     "outputs": []
    },
    {
     "cell_type": "markdown",
     "metadata": {},
     "source": [
      "### Determinant of Hessian\n",
      "\n",
      "This is the fastest approach. It detects blobs by finding maximas in the matrix of the Determinant of Hessian of the image. The detection speed is independent of the size of blobs as internally the implementation uses box filters instead of convolutions. Bright on dark as well as dark on bright blobs are detected. The downside is that small blobs (<3px) are not detected accurately. See skimage.feature.blob_doh() for usage."
     ]
    },
    {
     "cell_type": "code",
     "collapsed": false,
     "input": [
      "doh = blob_doh(image_gray, max_sigma=30, threshold=.01)\n",
      "y = doh[:, 0]\n",
      "x = doh[:, 1]\n",
      "r = doh[:, 2]\n",
      "print 'Found %i objects' % len(r)"
     ],
     "language": "python",
     "metadata": {},
     "outputs": []
    },
    {
     "cell_type": "code",
     "collapsed": false,
     "input": [
      "fig = plt.figure(figsize=(15, 15))\n",
      "ax = fig.add_subplot(111)\n",
      "plt.title('Determinant of Hessian')\n",
      "plt.imshow(image, interpolation='nearest')\n",
      "for a, b, c in zip(x, y, r):\n",
      "    ax.add_patch(plt.Circle((a, b), c, color='y', linewidth=2, fill=False))\n",
      "plt.axis('off')\n",
      "plt.show()"
     ],
     "language": "python",
     "metadata": {},
     "outputs": []
    },
    {
     "cell_type": "markdown",
     "metadata": {},
     "source": [
      "Looks like we found a few galaxies, but clearly we are missing many of the faint ones and there is an issue with blending...\n",
      "\n",
      "Lets try again."
     ]
    },
    {
     "cell_type": "markdown",
     "metadata": {},
     "source": [
      "### Difference of Gaussian\n",
      "\n",
      "In this case the image is blurred with increasing standard deviations and the difference between two successively blurred images are stacked up in a cube."
     ]
    },
    {
     "cell_type": "code",
     "collapsed": false,
     "input": [
      "dog = blob_dog(image_gray, max_sigma=30, threshold=.1)\n",
      "dog[:, 2] = dog[:, 2] * sqrt(2)\n",
      "y = dog[:, 0]\n",
      "x = dog[:, 1]\n",
      "r = dog[:, 2]\n",
      "print 'Found %i objects' % len(r)"
     ],
     "language": "python",
     "metadata": {},
     "outputs": []
    },
    {
     "cell_type": "code",
     "collapsed": false,
     "input": [
      "fig = plt.figure(figsize=(15, 15))\n",
      "ax = fig.add_subplot(111)\n",
      "plt.title('Difference of Gaussian')\n",
      "plt.imshow(image, interpolation='nearest')\n",
      "for a, b, c in zip(x, y, r):\n",
      "    ax.add_patch(plt.Circle((a, b), c, color='lime', linewidth=2, fill=False))\n",
      "plt.axis('off')\n",
      "plt.show()"
     ],
     "language": "python",
     "metadata": {},
     "outputs": []
    },
    {
     "cell_type": "markdown",
     "metadata": {},
     "source": [
      "Looks better. We detected more of the small and faint galaxies. That said, we are still missing many of the smallest ones and we have problems with blending. Several individual galaxies were group together.\n",
      "\n",
      "Lets try one more time..."
     ]
    },
    {
     "cell_type": "markdown",
     "metadata": {},
     "source": [
      "### Laplacian of Gaussian\n",
      "\n",
      "This is the most accurate and slowest approach. It computes the Laplacian of Gaussian images with successively increasing standard deviation and stacks them up in a cube. Blobs are local maximas in this cube. Detecting larger blobs is especially slower because of larger kernel sizes during convolution. Only bright blobs on dark backgrounds are detected. See skimage.feature.blob_log() for usage."
     ]
    },
    {
     "cell_type": "code",
     "collapsed": false,
     "input": [
      "log = blob_log(image_gray, max_sigma=30, num_sigma=10, threshold=.1)\n",
      "log[:, 2] = log[:, 2] * sqrt(2)\n",
      "y = log[:, 0]\n",
      "x = log[:, 1]\n",
      "r = log[:, 2]\n",
      "print 'Found %i objects' % len(r)"
     ],
     "language": "python",
     "metadata": {},
     "outputs": []
    },
    {
     "cell_type": "code",
     "collapsed": false,
     "input": [
      "fig = plt.figure(figsize=(15, 15))\n",
      "ax = fig.add_subplot(111)\n",
      "plt.title('Laplacian of Gaussian')\n",
      "plt.imshow(image, interpolation='nearest')\n",
      "for a, b, c in zip(x, y, r):\n",
      "    ax.add_patch(plt.Circle((a, b), c, color='lime', linewidth=2, fill=False))\n",
      "plt.axis('off')\n",
      "plt.show()"
     ],
     "language": "python",
     "metadata": {},
     "outputs": []
    },
    {
     "cell_type": "markdown",
     "metadata": {},
     "source": [
      "This looks pretty good now.. time to start doing science-y thingies"
     ]
    }
   ],
   "metadata": {}
  }
 ]
}