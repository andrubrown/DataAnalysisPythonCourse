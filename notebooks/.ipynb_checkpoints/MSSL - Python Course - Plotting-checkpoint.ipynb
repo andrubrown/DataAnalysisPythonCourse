{
 "metadata": {
  "name": "",
  "signature": "sha256:819821511982412192bd786e04655e32af7b581257a74d36d35c2b0aa0364726"
 },
 "nbformat": 3,
 "nbformat_minor": 0,
 "worksheets": [
  {
   "cells": [
    {
     "cell_type": "heading",
     "level": 1,
     "metadata": {},
     "source": [
      "Plotting with matplotlib"
     ]
    },
    {
     "cell_type": "markdown",
     "metadata": {},
     "source": [
      "### Preamble\n",
      "\n",
      "- *Sami Niemi (s.niemi@ucl.ac.uk)*\n",
      "- *Data Analysis and Image Processing with Python, UCL/MSSL, November 4-5 2014*\n",
      "- *Notebook available on [github](https://github.com/sniemi/DataAnalysisPythonCourse)*"
     ]
    },
    {
     "cell_type": "heading",
     "level": 3,
     "metadata": {},
     "source": [
      "Line and shaded region with LaTeX rendering"
     ]
    },
    {
     "cell_type": "code",
     "collapsed": false,
     "input": [
      "import numpy as np\n",
      "import matplotlib.pyplot as plt\n",
      "from matplotlib.patches import Polygon\n",
      "\n",
      "def func(x):\n",
      "    return (x-3)*(x-5)*(x-7)**2+85\n",
      "\n",
      "print 'generate some data'\n",
      "a, b = 2, 9 # integral area\n",
      "x = np.arange(0, 10, 0.01)\n",
      "y = func(x)"
     ],
     "language": "python",
     "metadata": {},
     "outputs": []
    },
    {
     "cell_type": "code",
     "collapsed": false,
     "input": [
      "plt.figure(figsize=(10,7)) #resize figure\n",
      "ax = plt.subplot(111) #generate axes instance\n",
      "\n",
      "#simple line plot\n",
      "plt.plot(x, y, linewidth=1.5)\n",
      "\n",
      "# make the shaded region\n",
      "ix = np.arange(a, b, 0.01)\n",
      "iy = func(ix)\n",
      "ax.fill_between(ix, np.zeros(len(iy)), iy, facecolor='0.8')\n",
      "\n",
      "#add text, note the \"r\" in front of the string.\n",
      "#This forces the string to be read as literal and ignore \n",
      "#any Python specific string commands like \"\\\"...\n",
      "plt.text(0.5 * (a + b), 30,\n",
      "         r\"$\\int_{a}^{\\,b} f(x)\\mathrm{d}x$\", horizontalalignment='center',\n",
      "         fontsize=30)\n",
      "\n",
      "#set y-axis limit\n",
      "ax.set_ylim(1, 200)\n",
      "\n",
      "#fiddle with the ticks\n",
      "ax.set_xticks((a,b)) #add to a and b on x-axis\n",
      "ax.set_xticklabels((r'$a$', r'$b$'), fontsize=30) #add the text\n",
      "ax.set_yticks([]) #remove y ticks\n",
      "\n",
      "plt.show()\n",
      "#if you wish to save the figure then use\n",
      "#plt.savefig('my_figure.pdf') #or .ps, .eps, .png, etc."
     ],
     "language": "python",
     "metadata": {},
     "outputs": []
    },
    {
     "cell_type": "heading",
     "level": 3,
     "metadata": {},
     "source": [
      "Marker Styles"
     ]
    },
    {
     "cell_type": "code",
     "collapsed": false,
     "input": [
      "\"\"\"\n",
      "Reference for filled- and unfilled-marker types included with Matplotlib.\n",
      "\"\"\"\n",
      "import numpy as np\n",
      "import matplotlib.pyplot as plt\n",
      "from matplotlib.lines import Line2D\n",
      "\n",
      "\n",
      "points = np.ones(3)  # Draw 3 points for each line\n",
      "text_style = dict(horizontalalignment='right', verticalalignment='center',\n",
      "                  fontsize=12, fontdict={'family': 'monospace'})\n",
      "marker_style = dict(linestyle=':', color='cornflowerblue', markersize=10)\n",
      "\n",
      "def format_axes(ax):\n",
      "    ax.margins(0.2)\n",
      "    ax.set_axis_off()\n",
      "\n",
      "def nice_repr(text):\n",
      "    return repr(text).lstrip('u')\n",
      "\n",
      "def split_list(a_list):\n",
      "    i_half = len(a_list) // 2\n",
      "    return (a_list[:i_half], a_list[i_half:])"
     ],
     "language": "python",
     "metadata": {},
     "outputs": []
    },
    {
     "cell_type": "code",
     "collapsed": false,
     "input": [
      "# Plot all un-filled markers\n",
      "# --------------------------\n",
      "\n",
      "fig, axes = plt.subplots(ncols=2)\n",
      "\n",
      "# Filter out filled markers and marker settings that do nothing.\n",
      "unfilled_markers = [m for m, func in Line2D.markers.iteritems()\n",
      "                    if func != 'nothing' and m not in Line2D.filled_markers]\n",
      "unfilled_markers = sorted(unfilled_markers)[::-1]  # Reverse-sort for pretty\n",
      "for ax, markers in zip(axes, split_list(unfilled_markers)):\n",
      "    for y, marker in enumerate(markers):\n",
      "        ax.text(-0.5, y, nice_repr(marker), **text_style)\n",
      "        ax.plot(y * points, marker=marker, **marker_style)\n",
      "        format_axes(ax)\n",
      "fig.suptitle('un-filled markers', fontsize=14)\n",
      "plt.show()"
     ],
     "language": "python",
     "metadata": {},
     "outputs": []
    },
    {
     "cell_type": "code",
     "collapsed": false,
     "input": [
      "# Plot all filled markers.\n",
      "# ------------------------\n",
      "\n",
      "fig, axes = plt.subplots(ncols=2)\n",
      "for ax, markers in zip(axes, split_list(Line2D.filled_markers)):\n",
      "    for y, marker in enumerate(markers):\n",
      "        ax.text(-0.5, y, nice_repr(marker), **text_style)\n",
      "        ax.plot(y * points, marker=marker, **marker_style)\n",
      "        format_axes(ax)\n",
      "fig.suptitle('filled markers', fontsize=14)\n",
      "\n",
      "plt.show()"
     ],
     "language": "python",
     "metadata": {},
     "outputs": []
    },
    {
     "cell_type": "heading",
     "level": 3,
     "metadata": {},
     "source": [
      "Error bar plots"
     ]
    },
    {
     "cell_type": "code",
     "collapsed": false,
     "input": [
      "\"\"\"\n",
      "Demo of the errorbar function, including upper and lower limits\n",
      "\"\"\"\n",
      "import numpy as np\n",
      "import matplotlib.pyplot as plt\n",
      "\n",
      "# example data\n",
      "x = np.arange(0.5, 5.5, 0.5)\n",
      "y = np.exp(-x)\n",
      "xerr = 0.1\n",
      "yerr = 0.2\n",
      "ls = 'dotted'"
     ],
     "language": "python",
     "metadata": {},
     "outputs": []
    },
    {
     "cell_type": "code",
     "collapsed": false,
     "input": [
      "fig = plt.figure()\n",
      "ax = fig.add_subplot(1, 1, 1)\n",
      "\n",
      "# standard error bars\n",
      "plt.errorbar(x, y, xerr=xerr, yerr=yerr, ls=ls, color='blue')\n",
      "\n",
      "# including upper limits\n",
      "uplims = np.zeros(x.shape)\n",
      "uplims[[1, 5, 9]] = True\n",
      "plt.errorbar(x, y+0.5, xerr=xerr, yerr=yerr, uplims=uplims, ls=ls,\n",
      "             color='green')\n",
      "\n",
      "# including lower limits\n",
      "lolims = np.zeros(x.shape)\n",
      "lolims[[2, 4, 8]] = True\n",
      "plt.errorbar(x, y+1.0, xerr=xerr, yerr=yerr, lolims=lolims, ls=ls,\n",
      "             color='red')\n",
      "\n",
      "# including upper and lower limits\n",
      "plt.errorbar(x, y+1.5, marker='o', ms=8, xerr=xerr, yerr=yerr,\n",
      "             lolims=lolims, uplims=uplims, ls=ls, color='magenta')\n",
      "\n",
      "# including xlower and xupper limits\n",
      "xerr = 0.2\n",
      "yerr = np.zeros(x.shape) + 0.2\n",
      "yerr[[3, 6]] = 0.3\n",
      "xlolims = lolims\n",
      "xuplims = uplims\n",
      "lolims = np.zeros(x.shape)\n",
      "uplims = np.zeros(x.shape)\n",
      "lolims[[6]] = True\n",
      "uplims[[3]] = True\n",
      "plt.errorbar(x, y+2.1, marker='o', ms=8, xerr=xerr, yerr=yerr,\n",
      "             xlolims=xlolims, xuplims=xuplims, uplims=uplims, lolims=lolims,\n",
      "             ls='none', mec='blue', capsize=0, color='cyan')\n",
      "\n",
      "ax.set_xlim((0, 5.5))\n",
      "ax.set_title('Errorbar upper and lower limits')\n",
      "plt.show()"
     ],
     "language": "python",
     "metadata": {},
     "outputs": []
    },
    {
     "cell_type": "heading",
     "level": 3,
     "metadata": {},
     "source": [
      "Polar coordinates"
     ]
    },
    {
     "cell_type": "code",
     "collapsed": false,
     "input": [
      "#random data\n",
      "N = 150\n",
      "r = 2*np.random.rand(N)\n",
      "theta = 2*pi*np.random.rand(N)\n",
      "area = 400*r**2*np.random.rand(N)\n",
      "colors = 2*np.random.rand(N)"
     ],
     "language": "python",
     "metadata": {},
     "outputs": []
    },
    {
     "cell_type": "code",
     "collapsed": false,
     "input": [
      "#polar plot\n",
      "plt.figure(figsize=(10,10))\n",
      "ax = plt.subplot(111, polar=True) #polar plot\n",
      "c = scatter(theta, r, c=colors, s=area, alpha=0.7)\n",
      "plt.show()"
     ],
     "language": "python",
     "metadata": {},
     "outputs": []
    },
    {
     "cell_type": "heading",
     "level": 3,
     "metadata": {},
     "source": [
      "Showing an Image"
     ]
    },
    {
     "cell_type": "code",
     "collapsed": false,
     "input": [
      "import matplotlib.cbook as cbook\n",
      "\n",
      "print 'Get data and format it'\n",
      "datafile = cbook.get_sample_data('ct.raw.gz', asfileobj=True)\n",
      "s = datafile.read()\n",
      "A = fromstring(s, uint16).astype(float)\n",
      "A *= 1.0/max(A)\n",
      "A.shape = 512, 512"
     ],
     "language": "python",
     "metadata": {},
     "outputs": []
    },
    {
     "cell_type": "code",
     "collapsed": false,
     "input": [
      "extent = (0, 25, 0, 25)\n",
      "im = plt.imshow(A, cmap=cm.hot, origin='upper', extent=extent)\n",
      "plt.title('CT density')\n",
      "plt.show()"
     ],
     "language": "python",
     "metadata": {},
     "outputs": []
    },
    {
     "cell_type": "heading",
     "level": 3,
     "metadata": {},
     "source": [
      "Contour"
     ]
    },
    {
     "cell_type": "code",
     "collapsed": false,
     "input": [
      "#example from matplotlib website\n",
      "import numpy as np\n",
      "import matplotlib.cm as cm\n",
      "import matplotlib.mlab as mlab\n",
      "import matplotlib.pyplot as plt\n",
      "\n",
      "delta = 0.025\n",
      "x = np.arange(-3.0, 3.0, delta)\n",
      "y = np.arange(-2.0, 2.0, delta)\n",
      "X, Y = np.meshgrid(x, y)\n",
      "Z1 = mlab.bivariate_normal(X, Y, 1.0, 1.0, 0.0, 0.0)\n",
      "Z2 = mlab.bivariate_normal(X, Y, 1.5, 0.5, 1, 1)\n",
      "# difference of Gaussians\n",
      "Z = 10.0 * (Z2 - Z1)"
     ],
     "language": "python",
     "metadata": {},
     "outputs": []
    },
    {
     "cell_type": "code",
     "collapsed": false,
     "input": [
      "# Create a simple contour plot with labels using default colors.  The\n",
      "# inline argument to clabel will control whether the labels are draw\n",
      "# over the line segments of the contour, removing the lines beneath\n",
      "# the label\n",
      "plt.figure()\n",
      "CS = plt.contour(X, Y, Z)\n",
      "plt.clabel(CS, inline=1, fontsize=10)\n",
      "plt.title('Simplest default with labels')\n",
      "plt.show()"
     ],
     "language": "python",
     "metadata": {},
     "outputs": []
    },
    {
     "cell_type": "heading",
     "level": 3,
     "metadata": {},
     "source": [
      "Binning and subplots"
     ]
    },
    {
     "cell_type": "code",
     "collapsed": false,
     "input": [
      "\"\"\"\n",
      "hexbin is an axes method or pyplot function that is essentially\n",
      "a pcolor of a 2-D histogram with hexagonal cells.  It can be\n",
      "much more informative than a scatter plot; in the first subplot\n",
      "below, try substituting 'scatter' for 'hexbin'.\n",
      "\"\"\"\n",
      "import numpy as np\n",
      "import matplotlib.pyplot as plt\n",
      "\n",
      "np.random.seed(0)\n",
      "n = 100000\n",
      "x = np.random.standard_normal(n)\n",
      "y = 2.0 + 3.0 * x + 4.0 * np.random.standard_normal(n)\n",
      "xmin = x.min()\n",
      "xmax = x.max()\n",
      "ymin = y.min()\n",
      "ymax = y.max()"
     ],
     "language": "python",
     "metadata": {},
     "outputs": []
    },
    {
     "cell_type": "code",
     "collapsed": false,
     "input": [
      "plt.subplots_adjust(hspace=0.5)\n",
      "plt.subplot(121)\n",
      "plt.hexbin(x,y, cmap=plt.cm.YlOrRd_r)\n",
      "plt.axis([xmin, xmax, ymin, ymax])\n",
      "plt.title(\"Hexagon binning\")\n",
      "cb = plt.colorbar()\n",
      "cb.set_label('counts')\n",
      "\n",
      "plt.subplot(122)\n",
      "plt.hexbin(x,y,bins='log', cmap=plt.cm.YlOrRd_r)\n",
      "plt.axis([xmin, xmax, ymin, ymax])\n",
      "plt.title(\"With a log color scale\")\n",
      "cb = plt.colorbar()\n",
      "cb.set_label('log10(N)')\n",
      "\n",
      "plt.show()"
     ],
     "language": "python",
     "metadata": {},
     "outputs": []
    },
    {
     "cell_type": "heading",
     "level": 2,
     "metadata": {},
     "source": [
      "Histograms"
     ]
    },
    {
     "cell_type": "markdown",
     "metadata": {},
     "source": [
      "Histograms are dangerous, there are better ways in which the \"bin size\" can be justified!"
     ]
    },
    {
     "cell_type": "code",
     "collapsed": false,
     "input": [
      "#following example is adapted from http://mglerner.com/HistogramsVsKDE.html\n",
      "data = np.array((93.5,93,60.8,94.5,82,87.5,91.5,99.5,86,93.5,92.5,78,76,69,94.5,89.5,92.8,78,65.5,98,98.5,92.3,95.5,76,91,95,61.4,96,90))"
     ],
     "language": "python",
     "metadata": {},
     "outputs": []
    },
    {
     "cell_type": "code",
     "collapsed": false,
     "input": [
      "from JSAnimation.IPython_display import display_animation, anim_to_html\n",
      "from matplotlib import animation as animation\n",
      "from numpy import histogram as nphistogram\n",
      "\n",
      "def getHistBinNumAni(data, totalframes=None, showpts=True):\n",
      "    if totalframes is None:\n",
      "        totalframes = min(len(data)-1,100)\n",
      "    fig = figure()\n",
      "    ax = fig.gca()\n",
      "\n",
      "    n, bins, patches = hist(data, totalframes, normed=1, facecolor='green', alpha=0.0)\n",
      "    if showpts:\n",
      "        junk = plot(data,0.2*ones_like(data),'bo')\n",
      "    def animate(i):\n",
      "        n, bins = nphistogram(data, i+1, normed=False)\n",
      "        ax.set_ylim(0,1.1*n.max())\n",
      "        for j in range(len(n)):\n",
      "            rect,h = patches[j],n[j]\n",
      "            x = bins[j]\n",
      "            w = bins[j+1] - x\n",
      "            rect.set_height(h)\n",
      "            rect.set_x(x)\n",
      "            rect.set_width(w)\n",
      "            rect.set_alpha(0.75)\n",
      "    \n",
      "    return animation.FuncAnimation(fig, animate, totalframes, repeat=False)"
     ],
     "language": "python",
     "metadata": {},
     "outputs": []
    },
    {
     "cell_type": "code",
     "collapsed": false,
     "input": [
      "ani = getHistBinNumAni(data)\n",
      "display_animation(ani, default_mode='once')"
     ],
     "language": "python",
     "metadata": {},
     "outputs": []
    },
    {
     "cell_type": "heading",
     "level": 4,
     "metadata": {},
     "source": [
      "Instead of histograms -- Kernel Density Estimation"
     ]
    },
    {
     "cell_type": "code",
     "collapsed": false,
     "input": [
      "from sklearn.neighbors import KernelDensity\n",
      "\n",
      "print 'Make data 2D and generate a grid over which to estimate a PDF'\n",
      "d2d = data[:, np.newaxis]\n",
      "x_grid = np.linspace(d2d.min(), d2d.max(), 200)"
     ],
     "language": "python",
     "metadata": {},
     "outputs": []
    },
    {
     "cell_type": "code",
     "collapsed": false,
     "input": [
      "print 'Calculate Gaussian kernel density estimation'\n",
      "kde_skl = KernelDensity(kernel='gaussian', bandwidth=1.)\n",
      "kde_skl.fit(d2d)\n",
      "log_pdf = kde_skl.score_samples(x_grid[:, np.newaxis])"
     ],
     "language": "python",
     "metadata": {},
     "outputs": []
    },
    {
     "cell_type": "code",
     "collapsed": false,
     "input": [
      "print 'Plot KDE and a histogram, which one would you prefer?'\n",
      "plt.hist(data, bins=25, alpha=0.2, normed=True)\n",
      "plt.plot(x_grid, np.exp(log_pdf), lw=2)\n",
      "plt.ylabel('PDF')\n",
      "plt.show()"
     ],
     "language": "python",
     "metadata": {},
     "outputs": []
    },
    {
     "cell_type": "heading",
     "level": 2,
     "metadata": {},
     "source": [
      "2D Density Field"
     ]
    },
    {
     "cell_type": "code",
     "collapsed": false,
     "input": [
      "import numpy,math\n",
      "import matplotlib.pyplot as plt\n",
      "import matplotlib.gridspec as gridspec\n",
      "\n",
      "print 'Create artificial data mimicking e.g. MCMC results.'\n",
      "N = 50000\n",
      "X = numpy.random.normal(0.0, 1.5, N)  # Draw N samples from normal distribution\n",
      "Y = numpy.random.gamma(2.0, 2.0, N)   # Draw N samples from Gamma distribution\n",
      "\n",
      "# Define plot ranges at beginning, since used often later.\n",
      "YRANGE = [-0.4,11.4]\n",
      "XRANGE = [-6.4,6.4]"
     ],
     "language": "python",
     "metadata": {},
     "outputs": []
    },
    {
     "cell_type": "heading",
     "level": 4,
     "metadata": {},
     "source": [
      "The usual way of plotting data: Scatter plot"
     ]
    },
    {
     "cell_type": "code",
     "collapsed": false,
     "input": [
      "fig = plt.figure(1, figsize=(8, 8))\n",
      "fig.subplots_adjust(left=0.10, bottom=0.09, top=0.98, right=0.98)\n",
      "\n",
      "print 'Simply plot X vs. Y as data points:'\n",
      "plt.plot(X, Y, 'bo', ms=3, alpha=0.2)\n",
      "\n",
      "plt.xlim(XRANGE)                 # Set x plot range.\n",
      "plt.ylim(YRANGE)                 # Set y plot range.\n",
      "plt.xticks(fontsize=16)          # Set ticks x axis.\n",
      "plt.yticks(fontsize=16)          # Set ticks y axis.\n",
      "plt.xlabel(r'$x$', fontsize=24)  # Set label x axis.\n",
      "plt.ylabel(r'$y$', fontsize=24)  # Set label y axis.\n",
      "\n",
      "plt.show()"
     ],
     "language": "python",
     "metadata": {},
     "outputs": []
    },
    {
     "cell_type": "heading",
     "level": 3,
     "metadata": {},
     "source": [
      "Encoding more information"
     ]
    },
    {
     "cell_type": "code",
     "collapsed": false,
     "input": [
      "fig = plt.figure(2, figsize=(12, 12))\n",
      "fig.subplots_adjust(hspace=0.001, wspace=0.001, left=0.10, bottom=0.095, top=0.975, right=0.98)\n",
      "\n",
      "#gridspec enables you to assign different formats to panels in one plot.\n",
      "gs = gridspec.GridSpec(2, 2, width_ratios=[1,4], height_ratios=[4,1])\n",
      "\n",
      "plt.subplot(gs[1]) # Main panel top right contains full 2D histogram.\n",
      "\n",
      "#Convert to 2d histogram using numpy to derive density estimation\n",
      "Bins = 25\n",
      "hist2D, xedges, yedges = numpy.histogram2d(X, Y, bins=[Bins,Bins], range=[XRANGE,YRANGE],\n",
      "                                           normed=False)\n",
      "\n",
      "#plot data as 2D histogram\n",
      "hist2D = numpy.transpose(hist2D)  # Beware: numpy swaps axes, thus transpose\n",
      "plt.pcolormesh(xedges, yedges, hist2D, cmap=plt.cm.gray)\n",
      "\n",
      "#overplot with error contours...\n",
      "maximum    = numpy.max(hist2D)\n",
      "[L1,L2,L3] = [0.7*maximum, 0.25*maximum,0.07*maximum] \n",
      "\n",
      "#use bin edges to restore extent.\n",
      "extent = [xedges[0],xedges[-1], yedges[0],yedges[-1]]\n",
      "cs = plt.contour(hist2D, extent=extent, levels=[L1,L2,L3], linestyles=['--','--','--'],\n",
      "                 colors=['orange','orange','orange'], linewidths=2)\n",
      "\n",
      "#use dictionary in order to assign your own labels to the contours.\n",
      "#these aren't really sigma, but let's pretend they are...\n",
      "fmtdict = {L1:r'$1\\sigma$',L2:r'$2\\sigma$',L3:r'$3\\sigma$'}\n",
      "plt.clabel(cs, fmt=fmtdict, inline=True, fontsize=30)\n",
      "\n",
      "plt.xlim(XRANGE)\n",
      "plt.ylim(YRANGE)\n",
      "\n",
      "# Bin X,Y separately. As 1D bin, can use more bins now.\n",
      "S  = 101\n",
      "LX = numpy.histogram(X, bins=S, range=XRANGE, normed=True)[0]\n",
      "LY = numpy.histogram(Y, bins=S, range=YRANGE, normed=True)[0]\n",
      "# Restore positions lost by binning.\n",
      "Xm = XRANGE[0] + (XRANGE[1]-XRANGE[0])*numpy.array(range(0,len(LX)))/float(len(LX)-1)\n",
      "Ym = YRANGE[0] + (YRANGE[1]-YRANGE[0])*numpy.array(range(0,len(LY)))/float(len(LY)-1)\n",
      "\n",
      "# bottom right panel: projected density of x.\n",
      "plt.subplot(gs[3])\n",
      "plt.plot(Xm, LX, '-', lw=3, color='black')\n",
      "\n",
      "plt.xticks(fontsize=16)\n",
      "plt.yticks([])\n",
      "plt.xlabel(r'$x$', fontsize=24)\n",
      "plt.ylabel(r'$\\cal L$', fontsize=24)\n",
      "plt.xlim(XRANGE)\n",
      "plt.ylim(0.0, 1.1*numpy.max(LX))\n",
      "\n",
      "# top left panel: projected density of y.\n",
      "plt.subplot(gs[0])\n",
      "plt.plot(LY, Ym, '-', lw=3, color='black')\n",
      "\n",
      "plt.yticks(fontsize=16)\n",
      "plt.xticks([])\n",
      "plt.xlabel(r'$\\cal L$', fontsize=24)\n",
      "plt.ylabel(r'$y$', fontsize=24)\n",
      "plt.xlim(0.0, 1.1*numpy.max(LY))\n",
      "plt.ylim(YRANGE)\n",
      "\n",
      "plt.show()"
     ],
     "language": "python",
     "metadata": {},
     "outputs": []
    },
    {
     "cell_type": "heading",
     "level": 3,
     "metadata": {},
     "source": [
      "Kernel Density Estimator"
     ]
    },
    {
     "cell_type": "code",
     "collapsed": false,
     "input": [
      "# Author: Jake Vanderplas <jakevdp@cs.washington.edu>\n",
      "import numpy as np\n",
      "import matplotlib.pyplot as plt\n",
      "from scipy.stats import norm\n",
      "from sklearn.neighbors import KernelDensity\n",
      "\n",
      "#----------------------------------------------------------------------\n",
      "# Plot the progression of histograms to kernels\n",
      "np.random.seed(1)\n",
      "N = 20\n",
      "X = np.concatenate((np.random.normal(0, 1, 0.3 * N),\n",
      "                    np.random.normal(5, 1, 0.7 * N)))[:, np.newaxis]\n",
      "X_plot = np.linspace(-5, 10, 1000)[:, np.newaxis]\n",
      "bins = np.linspace(-5, 10, 10)\n",
      "\n",
      "fig, ax = plt.subplots(2, 2, sharex=True, sharey=True)\n",
      "fig.subplots_adjust(hspace=0.05, wspace=0.05)\n",
      "\n",
      "# histogram 1\n",
      "ax[0, 0].hist(X[:, 0], bins=bins, fc='#AAAAFF', normed=True)\n",
      "ax[0, 0].text(-3.5, 0.31, \"Histogram\")\n",
      "\n",
      "# histogram 2\n",
      "ax[0, 1].hist(X[:, 0], bins=bins + 0.75, fc='#AAAAFF', normed=True)\n",
      "ax[0, 1].text(-3.5, 0.31, \"Histogram, bins shifted\")\n",
      "\n",
      "# tophat KDE\n",
      "kde = KernelDensity(kernel='tophat', bandwidth=0.75).fit(X)\n",
      "log_dens = kde.score_samples(X_plot)\n",
      "ax[1, 0].fill(X_plot[:, 0], np.exp(log_dens), fc='#AAAAFF')\n",
      "ax[1, 0].text(-3.5, 0.31, \"Tophat Kernel Density\")\n",
      "\n",
      "# Gaussian KDE\n",
      "kde = KernelDensity(kernel='gaussian', bandwidth=0.75).fit(X)\n",
      "log_dens = kde.score_samples(X_plot)\n",
      "ax[1, 1].fill(X_plot[:, 0], np.exp(log_dens), fc='#AAAAFF')\n",
      "ax[1, 1].text(-3.5, 0.31, \"Gaussian Kernel Density\")\n",
      "\n",
      "for axi in ax.ravel():\n",
      "    axi.plot(X[:, 0], np.zeros(X.shape[0]) - 0.01, '+k')\n",
      "    axi.set_xlim(-4, 9)\n",
      "    axi.set_ylim(-0.02, 0.34)\n",
      "\n",
      "for axi in ax[:, 0]:\n",
      "    axi.set_ylabel('Normalized Density')\n",
      "\n",
      "for axi in ax[1, :]:\n",
      "    axi.set_xlabel('x')\n",
      "plt.show()"
     ],
     "language": "python",
     "metadata": {},
     "outputs": []
    },
    {
     "cell_type": "code",
     "collapsed": false,
     "input": [
      "# Author: Jake Vanderplas <jakevdp@cs.washington.edu>\n",
      "# Plot all available kernels\n",
      "X_plot = np.linspace(-6, 6, 1000)[:, None]\n",
      "X_src = np.zeros((1, 1))\n",
      "\n",
      "fig, ax = plt.subplots(2, 3, sharex=True, sharey=True)\n",
      "fig.subplots_adjust(left=0.05, right=0.95, hspace=0.05, wspace=0.05)\n",
      "\n",
      "\n",
      "def format_func(x, loc):\n",
      "    if x == 0:\n",
      "        return '0'\n",
      "    elif x == 1:\n",
      "        return 'h'\n",
      "    elif x == -1:\n",
      "        return '-h'\n",
      "    else:\n",
      "        return '%ih' % x\n",
      "\n",
      "for i, kernel in enumerate(['gaussian', 'tophat', 'epanechnikov',\n",
      "                            'exponential', 'linear', 'cosine']):\n",
      "    axi = ax.ravel()[i]\n",
      "    log_dens = KernelDensity(kernel=kernel).fit(X_src).score_samples(X_plot)\n",
      "    axi.fill(X_plot[:, 0], np.exp(log_dens), '-k', fc='#AAAAFF')\n",
      "    axi.text(-2.6, 0.95, kernel)\n",
      "\n",
      "    axi.xaxis.set_major_formatter(plt.FuncFormatter(format_func))\n",
      "    axi.xaxis.set_major_locator(plt.MultipleLocator(1))\n",
      "    axi.yaxis.set_major_locator(plt.NullLocator())\n",
      "\n",
      "    axi.set_ylim(0, 1.05)\n",
      "    axi.set_xlim(-2.9, 2.9)\n",
      "\n",
      "ax[0, 1].set_title('Available Kernels')\n",
      "plt.show()"
     ],
     "language": "python",
     "metadata": {},
     "outputs": []
    },
    {
     "cell_type": "code",
     "collapsed": false,
     "input": [
      "# Author: Jake Vanderplas <jakevdp@cs.washington.edu>\n",
      "# Plot a 1D density example\n",
      "N = 100\n",
      "np.random.seed(1)\n",
      "X = np.concatenate((np.random.normal(0, 1, 0.3 * N),\n",
      "                    np.random.normal(5, 1, 0.7 * N)))[:, np.newaxis]\n",
      "\n",
      "X_plot = np.linspace(-5, 10, 1000)[:, np.newaxis]\n",
      "\n",
      "true_dens = (0.3 * norm(0, 1).pdf(X_plot[:, 0])\n",
      "             + 0.7 * norm(5, 1).pdf(X_plot[:, 0]))\n",
      "\n",
      "fig, ax = plt.subplots()\n",
      "ax.fill(X_plot[:, 0], true_dens, fc='black', alpha=0.2,\n",
      "        label='input distribution')\n",
      "\n",
      "for kernel in ['gaussian', 'tophat', 'epanechnikov']:\n",
      "    kde = KernelDensity(kernel=kernel, bandwidth=0.5).fit(X)\n",
      "    log_dens = kde.score_samples(X_plot)\n",
      "    ax.plot(X_plot[:, 0], np.exp(log_dens), '-',\n",
      "            label=\"kernel = '{0}'\".format(kernel))\n",
      "\n",
      "ax.text(6, 0.38, \"N={0} points\".format(N))\n",
      "\n",
      "ax.legend(loc='upper left')\n",
      "ax.plot(X[:, 0], -0.005 - 0.01 * np.random.random(X.shape[0]), '+k')\n",
      "\n",
      "ax.set_xlim(-4, 9)\n",
      "ax.set_ylim(-0.02, 0.4)\n",
      "plt.show()"
     ],
     "language": "python",
     "metadata": {},
     "outputs": []
    },
    {
     "cell_type": "heading",
     "level": 2,
     "metadata": {},
     "source": [
      "Drawing Maps (Basemap)"
     ]
    },
    {
     "cell_type": "code",
     "collapsed": false,
     "input": [
      "from mpl_toolkits.basemap import Basemap\n",
      "import matplotlib.pyplot as plt\n",
      "import numpy as np\n",
      "\n",
      "plt.figure(figsize=(14,14))\n",
      "# set up orthographic map projection with\n",
      "# perspective of satellite looking down at 30N, 0W.\n",
      "# use low resolution coastlines.\n",
      "# don't plot features that are smaller than 500 square km.\n",
      "map = Basemap(projection='ortho', lat_0=30, lon_0=0,\n",
      "resolution='l', area_thresh=500.)\n",
      "\n",
      "# draw coastlines, country boundaries, fill continents.\n",
      "map.drawcoastlines()\n",
      "map.drawcountries()\n",
      "map.bluemarble()\n",
      "\n",
      "#mark some very significant places\n",
      "places = ['MSSL', u'Jyv\u00e4skyl\u00e4']\n",
      "lats = [51.1833, 62.2500]\n",
      "lons = [-0.41667, 25.7500]\n",
      "x, y = map(lons, lats)\n",
      "map.scatter(x, y, s=20, marker='*', color='white')\n",
      "for name, xpt, ypt in zip(places, x, y):\n",
      "    plt.text(xpt+50000, ypt+50000, name, color='white', style='italic',\n",
      "             weight='bold')\n",
      "\n",
      "# make up some data on a regular lat/lon grid.\n",
      "nlats = 50; nlons = 100; delta = 2.*np.pi/(nlons-1)\n",
      "lats = (0.5*np.pi-delta*np.indices((nlats,nlons))[0,:,:])\n",
      "lons = (delta*np.indices((nlats,nlons))[1,:,:])\n",
      "wave = 0.75*(np.sin(2.*lats)**8*np.cos(4.*lons))\n",
      "mean = 0.5*np.cos(2.*lats)*((np.sin(2.*lats))**2 + 2.)\n",
      "# compute native map projection coordinates of lat/lon grid.\n",
      "x, y = map(lons*180./np.pi, lats*180./np.pi)\n",
      "# contour data over the map.\n",
      "CS = map.contour(x, y, wave+mean, 15, linewidths=1.1)\n",
      "\n",
      "# draw the edge of the map projection region (the projection limb)\n",
      "map.drawmapboundary()\n",
      "\n",
      "# draw lat/lon grid lines every 30 degrees.\n",
      "map.drawmeridians(np.arange(0, 360, 30))\n",
      "map.drawparallels(np.arange(-90, 90, 30))\n",
      "plt.show()"
     ],
     "language": "python",
     "metadata": {},
     "outputs": []
    }
   ],
   "metadata": {}
  }
 ]
}