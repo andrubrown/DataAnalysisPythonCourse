{
 "metadata": {
  "name": "",
  "signature": "sha256:052cf0fa27ce7d4ef3ddc7d686d554662e684d971794814c1c7dd0028e00f04e"
 },
 "nbformat": 3,
 "nbformat_minor": 0,
 "worksheets": [
  {
   "cells": [
    {
     "cell_type": "heading",
     "level": 1,
     "metadata": {},
     "source": [
      "Numerical Arrays"
     ]
    },
    {
     "cell_type": "markdown",
     "metadata": {},
     "source": [
      "In this section we use NumPy. For documentation, see: http://docs.scipy.org/doc/"
     ]
    },
    {
     "cell_type": "heading",
     "level": 2,
     "metadata": {},
     "source": [
      "Why use NumPy?"
     ]
    },
    {
     "cell_type": "markdown",
     "metadata": {},
     "source": [
      "1) Core Python is not great when dealing with multidimensional arrays/vectors\n",
      "\n",
      "2) For speed (but not always, see the example at the end)\n",
      "\n",
      "3) Memory consumption"
     ]
    },
    {
     "cell_type": "code",
     "collapsed": false,
     "input": [
      "import numpy as np\n",
      "print np.__version__"
     ],
     "language": "python",
     "metadata": {},
     "outputs": []
    },
    {
     "cell_type": "code",
     "collapsed": false,
     "input": [
      "print 'How fast is NumPy compared to Python lists?'\n",
      "l = range(1000)\n",
      "a = np.arange(1000)"
     ],
     "language": "python",
     "metadata": {},
     "outputs": []
    },
    {
     "cell_type": "code",
     "collapsed": false,
     "input": [
      "#%timeit is an ipython magic function, which allows to measure performance\n",
      "%timeit [i**2 for i in l]  #this structure is called list comprehension"
     ],
     "language": "python",
     "metadata": {},
     "outputs": []
    },
    {
     "cell_type": "code",
     "collapsed": false,
     "input": [
      "#huge speed gain when using numpy instead of looping over lists\n",
      "%timeit a**2"
     ],
     "language": "python",
     "metadata": {},
     "outputs": []
    },
    {
     "cell_type": "heading",
     "level": 2,
     "metadata": {},
     "source": [
      "1D arrays"
     ]
    },
    {
     "cell_type": "code",
     "collapsed": false,
     "input": [
      "print 'From a Python list to NumPy Array:'\n",
      "lst = [1,2,3,4,5,6,7]\n",
      "a = np.asarray(lst) #from Python list\n",
      "print type(a)"
     ],
     "language": "python",
     "metadata": {},
     "outputs": []
    },
    {
     "cell_type": "code",
     "collapsed": false,
     "input": [
      "print 'data type:', a.dtype\n",
      "print 'shape:', a.shape\n",
      "print 'length:', len(a)\n",
      "print 'dimensions:', a.ndim"
     ],
     "language": "python",
     "metadata": {},
     "outputs": []
    },
    {
     "cell_type": "code",
     "collapsed": false,
     "input": [
      "print 'Slicing works in the same way as for Python lists:'\n",
      "print a[1:-2]   #slicing works like in case of lists\n",
      "print a[1::2]   #take every second starting from 1"
     ],
     "language": "python",
     "metadata": {},
     "outputs": []
    },
    {
     "cell_type": "code",
     "collapsed": false,
     "input": [
      "print 'Still need to be careful with data types though:'\n",
      "print a / 2\n",
      "print a.astype(np.float) / 2"
     ],
     "language": "python",
     "metadata": {},
     "outputs": []
    },
    {
     "cell_type": "code",
     "collapsed": false,
     "input": [
      "print 'Eventhough there is no need to loop:'\n",
      "print np.log10(a)"
     ],
     "language": "python",
     "metadata": {},
     "outputs": []
    },
    {
     "cell_type": "code",
     "collapsed": false,
     "input": [
      "#more often, however, arrays are created on fly or read out (will talk about this later)\n",
      "b = np.arange(5)\n",
      "c = np.logspace(1, 3, 5)"
     ],
     "language": "python",
     "metadata": {},
     "outputs": []
    },
    {
     "cell_type": "code",
     "collapsed": false,
     "input": [
      "print b\n",
      "print c"
     ],
     "language": "python",
     "metadata": {},
     "outputs": []
    },
    {
     "cell_type": "code",
     "collapsed": false,
     "input": [
      "print (b + c) / (b*c**2)  #note that b[0] = 0 and appear in division..."
     ],
     "language": "python",
     "metadata": {},
     "outputs": []
    },
    {
     "cell_type": "heading",
     "level": 3,
     "metadata": {},
     "source": [
      "Basic statistics"
     ]
    },
    {
     "cell_type": "code",
     "collapsed": false,
     "input": [
      "b = np.linspace(1, 10, 10)\n",
      "print b"
     ],
     "language": "python",
     "metadata": {},
     "outputs": []
    },
    {
     "cell_type": "code",
     "collapsed": false,
     "input": [
      "print 'Flexible syntax:'\n",
      "print np.mean(b), b.mean()\n",
      "print np.median(b)\n",
      "print np.max(b), b.max()\n",
      "print np.min(b), b.min()\n",
      "print np.std(b), b.std()"
     ],
     "language": "python",
     "metadata": {},
     "outputs": []
    },
    {
     "cell_type": "heading",
     "level": 3,
     "metadata": {},
     "source": [
      "Argument finding"
     ]
    },
    {
     "cell_type": "code",
     "collapsed": false,
     "input": [
      "print np.argmin(b)\n",
      "print np.argmax(b)\n",
      "print b[b.argmax()] #you can pass the argument back to the array"
     ],
     "language": "python",
     "metadata": {},
     "outputs": []
    },
    {
     "cell_type": "heading",
     "level": 3,
     "metadata": {},
     "source": [
      "Warning: NumPy arrays are references!"
     ]
    },
    {
     "cell_type": "code",
     "collapsed": false,
     "input": [
      "a = np.asarray([1,2,3,4])\n",
      "\n",
      "print a\n",
      "\n",
      "b = a  #reference, points to the same location in the memory!\n",
      "\n",
      "print a is b"
     ],
     "language": "python",
     "metadata": {},
     "outputs": []
    },
    {
     "cell_type": "code",
     "collapsed": false,
     "input": [
      "b[1] = -999\n",
      "\n",
      "print a  #this happens even if you use functions!"
     ],
     "language": "python",
     "metadata": {},
     "outputs": []
    },
    {
     "cell_type": "code",
     "collapsed": false,
     "input": [
      "a = np.asarray([1,2,3,4])\n",
      "b = a.copy()  # a copy is needed so that the original array is not modified\n",
      "\n",
      "b[1] = -999\n",
      "\n",
      "print a\n",
      "print a is b"
     ],
     "language": "python",
     "metadata": {},
     "outputs": []
    },
    {
     "cell_type": "heading",
     "level": 2,
     "metadata": {},
     "source": [
      "N-dimensional arrays"
     ]
    },
    {
     "cell_type": "heading",
     "level": 3,
     "metadata": {},
     "source": [
      "Slicing order"
     ]
    },
    {
     "cell_type": "code",
     "collapsed": false,
     "input": [
      "#to show images in the Notebook\n",
      "from IPython.core.display import Image\n",
      "\n",
      "#great image to demonstrate numpy arrays\n",
      "#from excellent learning material of http://scipy-lectures.github.com/intro/numpy/array_object.html\n",
      "#please look at the scipy-lectures for more detailed presentation than here.\n",
      "Image(filename=\"../data/numpy.png\")"
     ],
     "language": "python",
     "metadata": {},
     "outputs": []
    },
    {
     "cell_type": "heading",
     "level": 3,
     "metadata": {},
     "source": [
      "Shape Manipulations"
     ]
    },
    {
     "cell_type": "code",
     "collapsed": false,
     "input": [
      "a = np.arange(36).reshape(6,6)\n",
      "\n",
      "print a\n",
      "print a.shape"
     ],
     "language": "python",
     "metadata": {},
     "outputs": []
    },
    {
     "cell_type": "code",
     "collapsed": false,
     "input": [
      "print 'Reshaping without specifying all dimensions (-1 means whatever is needed)'\n",
      "\n",
      "b = np.reshape(np.arange(36), (2, -1, 3))   #2 arrays, ? rows, 3 columns\n",
      "print b"
     ],
     "language": "python",
     "metadata": {},
     "outputs": []
    },
    {
     "cell_type": "code",
     "collapsed": false,
     "input": [
      "#it was 6 in this case, but note that the shape needs to match 36 = 2 * 6 * 3\n",
      "print b.shape #arrays, lines, columns"
     ],
     "language": "python",
     "metadata": {},
     "outputs": []
    },
    {
     "cell_type": "code",
     "collapsed": false,
     "input": [
      "#flattening\n",
      "print a.ravel(), '\\n'\n",
      "\n",
      "print a.T.ravel()  #transpose before flattening"
     ],
     "language": "python",
     "metadata": {},
     "outputs": []
    },
    {
     "cell_type": "heading",
     "level": 3,
     "metadata": {},
     "source": [
      "Operations"
     ]
    },
    {
     "cell_type": "code",
     "collapsed": false,
     "input": [
      "print b"
     ],
     "language": "python",
     "metadata": {},
     "outputs": []
    },
    {
     "cell_type": "code",
     "collapsed": false,
     "input": [
      "print 'Averaging over different axis:'\n",
      "print np.mean(b, axis=0) #0=column, two arrays together: (0 + 18)/2 = 9 etc. "
     ],
     "language": "python",
     "metadata": {},
     "outputs": []
    },
    {
     "cell_type": "code",
     "collapsed": false,
     "input": [
      "print np.mean(b, axis=1) #1=row direction, each array separately\n",
      "\n",
      "print '(0,0)=', (0+3+6+9+12+15) / 6."
     ],
     "language": "python",
     "metadata": {},
     "outputs": []
    },
    {
     "cell_type": "code",
     "collapsed": false,
     "input": [
      "print np.std(b, axis=0) #standard deviation along the 0th (column) axis"
     ],
     "language": "python",
     "metadata": {},
     "outputs": []
    },
    {
     "cell_type": "heading",
     "level": 3,
     "metadata": {},
     "source": [
      "Stacking"
     ]
    },
    {
     "cell_type": "code",
     "collapsed": false,
     "input": [
      "print 'Generate two 2D-arrays with random values between 0 and 10:'\n",
      "a = np.floor(10*np.random.random((2,2)))  #round down\n",
      "b = np.ceil(10*np.random.random((2,2)))   #round up\n",
      "\n",
      "print 'a=\\n', a\n",
      "print 'b=\\n', b, '\\n'\n",
      "print a.shape"
     ],
     "language": "python",
     "metadata": {},
     "outputs": []
    },
    {
     "cell_type": "code",
     "collapsed": false,
     "input": [
      "print 'Vertical stacking of two arrays with vstack:'\n",
      "tmp = np.vstack((a,b))\n",
      "\n",
      "print tmp\n",
      "print tmp.shape  #row/\"y\" major!"
     ],
     "language": "python",
     "metadata": {},
     "outputs": []
    },
    {
     "cell_type": "code",
     "collapsed": false,
     "input": [
      "print 'Horizontal stacking of two arrays with hstack:'\n",
      "print np.hstack((a,b))"
     ],
     "language": "python",
     "metadata": {},
     "outputs": []
    },
    {
     "cell_type": "heading",
     "level": 3,
     "metadata": {},
     "source": [
      "Tiling arrays"
     ]
    },
    {
     "cell_type": "code",
     "collapsed": false,
     "input": [
      "a = np.arange(5)\n",
      "print 'Tiling an array', a, 'so that output has 2 rows and 3 sequences of the array (15 elements):'\n",
      "tiled = np.tile(a, (2, 3))  #2 rows, 3 sequencies\n",
      "print tiled\n",
      "print tiled.shape"
     ],
     "language": "python",
     "metadata": {},
     "outputs": []
    },
    {
     "cell_type": "heading",
     "level": 3,
     "metadata": {},
     "source": [
      "Broadcasting"
     ]
    },
    {
     "cell_type": "code",
     "collapsed": false,
     "input": [
      "#Tile the input array and transpose\n",
      "a = np.tile(np.arange(0, 40, 10), (3, 1)).T\n",
      "print a, '\\n'\n",
      "\n",
      "b = np.array([0, 1, 2])\n",
      "print b"
     ],
     "language": "python",
     "metadata": {},
     "outputs": []
    },
    {
     "cell_type": "code",
     "collapsed": false,
     "input": [
      "print a.shape, b.shape, '\\n'\n",
      "print 'NumPy transforms arrays of different sizes (if possible):'\n",
      "print a + b"
     ],
     "language": "python",
     "metadata": {},
     "outputs": []
    },
    {
     "cell_type": "heading",
     "level": 3,
     "metadata": {},
     "source": [
      "Example: distance from origin"
     ]
    },
    {
     "cell_type": "markdown",
     "metadata": {},
     "source": [
      "To calculate for example all distances between points of two vectors, there is no need to write loops. We can rely on broadcasting."
     ]
    },
    {
     "cell_type": "code",
     "collapsed": false,
     "input": [
      "print 'Generate two vectors (x, y) from 0 to 9:'\n",
      "x = np.arange(10)\n",
      "y = np.arange(10)\n",
      "print x\n",
      "print x.shape"
     ],
     "language": "python",
     "metadata": {},
     "outputs": []
    },
    {
     "cell_type": "code",
     "collapsed": false,
     "input": [
      "print 'Turn vector to a 2D-array by introducing a new axis:'\n",
      "y2d = y[:, np.newaxis]\n",
      "print y2d\n",
      "print 'dimension of y2d:', y2d.ndim\n",
      "print 'shape of 2yd:', y2d.shape"
     ],
     "language": "python",
     "metadata": {},
     "outputs": []
    },
    {
     "cell_type": "code",
     "collapsed": false,
     "input": [
      "print 'To calculate Euclidean distances of x and y we can use broadcasting:'\n",
      "distance = np.sqrt(x**2 + y2d**2)  \n",
      "\n",
      "#plot with matplotlib, we will talk about plotting more later\n",
      "import matplotlib.pyplot as plt\n",
      "plt.figure()\n",
      "plt.pcolor(distance)\n",
      "plt.colorbar()\n",
      "plt.show()"
     ],
     "language": "python",
     "metadata": {},
     "outputs": []
    },
    {
     "cell_type": "code",
     "collapsed": false,
     "input": [
      "tmp = np.sqrt(x[-1]**2 + y[-1]**2)\n",
      "print 'Double check the distance calculation:'\n",
      "print tmp, distance[-1, -1], np.allclose(tmp, distance[-1, -1])\n",
      "print '\\nShape of the broadcasted grid is:', distance.shape"
     ],
     "language": "python",
     "metadata": {},
     "outputs": []
    },
    {
     "cell_type": "heading",
     "level": 2,
     "metadata": {},
     "source": [
      "Sorting"
     ]
    },
    {
     "cell_type": "code",
     "collapsed": false,
     "input": [
      "a = np.array([[4, 3, 5], [1, 2, 1]])\n",
      "\n",
      "print a, '\\n'"
     ],
     "language": "python",
     "metadata": {},
     "outputs": []
    },
    {
     "cell_type": "code",
     "collapsed": false,
     "input": [
      "print 'Sorting of an n-D array can be done along an axis, for example along rows:'\n",
      "print np.sort(a, axis=1) #each row separately\n",
      "print 'But be careful, this does not keep the data pairs!'"
     ],
     "language": "python",
     "metadata": {},
     "outputs": []
    },
    {
     "cell_type": "code",
     "collapsed": false,
     "input": [
      "data = np.asarray([4,-2,0,1,5,10])\n",
      "print data"
     ],
     "language": "python",
     "metadata": {},
     "outputs": []
    },
    {
     "cell_type": "code",
     "collapsed": false,
     "input": [
      "print 'If you need to know the arguments, then use argsort:'\n",
      "arguments = np.argsort(data)\n",
      "print arguments"
     ],
     "language": "python",
     "metadata": {},
     "outputs": []
    },
    {
     "cell_type": "code",
     "collapsed": false,
     "input": [
      "print 'The arguments can be passed on to the array to have it sorted:'\n",
      "print data[arguments]"
     ],
     "language": "python",
     "metadata": {},
     "outputs": []
    },
    {
     "cell_type": "code",
     "collapsed": false,
     "input": [
      "print 'If you have a e.g. 2D array with multiple columns, then using data types help to keep the pairs:'\n",
      "\n",
      "dtype = [('wavelength', int), ('flux', float), ('sensitivity', float)]\n",
      "values = [(2000, 10, 5), (1300, 20, 10), (1900, 15, 8), (1700, 5, 5), (1900, 100, 1)]\n",
      "array = np.array(values, dtype=dtype)\n",
      "\n",
      "print array"
     ],
     "language": "python",
     "metadata": {},
     "outputs": []
    },
    {
     "cell_type": "code",
     "collapsed": false,
     "input": [
      "print 'Now you can sort by a named column:'\n",
      "print np.sort(array, order='wavelength')"
     ],
     "language": "python",
     "metadata": {},
     "outputs": []
    },
    {
     "cell_type": "code",
     "collapsed": false,
     "input": [
      "print 'Or even take into account multiple columns:'\n",
      "print np.sort(array, order=['wavelength', 'sensitivity'])"
     ],
     "language": "python",
     "metadata": {},
     "outputs": []
    },
    {
     "cell_type": "heading",
     "level": 2,
     "metadata": {},
     "source": [
      "Fancy Indexing and Where Function"
     ]
    },
    {
     "cell_type": "code",
     "collapsed": false,
     "input": [
      "a = np.random.random_integers(0, 20, 15)\n",
      "print 'Array of 25 random integers between 0 and 20 (inclusive):'\n",
      "print a"
     ],
     "language": "python",
     "metadata": {},
     "outputs": []
    },
    {
     "cell_type": "code",
     "collapsed": false,
     "input": [
      "print 'Task is to find all values that can be divided with 3.'\n",
      "print 'Generate a boolean mask of values modulo 3.\\n'\n",
      "msk = a % 3 == 0 #% = modulo!\n",
      "\n",
      "print msk  #boolean array of the same size as the original\n",
      "print '\\nApply mask to the original array:'\n",
      "print a[msk]"
     ],
     "language": "python",
     "metadata": {},
     "outputs": []
    },
    {
     "cell_type": "code",
     "collapsed": false,
     "input": [
      "data = (np.arange(10) - np.log(5))*2\n",
      "print data, '\\n'\n",
      "\n",
      "print 'Find all values larger than 0.5 and smaller than 5.:'\n",
      "msk = (data > 0.5) & (data < 5.)  #note & not \"and\"\n",
      "print msk\n",
      "print data[msk]"
     ],
     "language": "python",
     "metadata": {},
     "outputs": []
    },
    {
     "cell_type": "code",
     "collapsed": false,
     "input": [
      "inds = np.where((data < 0) | (data > 13))  #note | not \"or\"\n",
      "\n",
      "print 'If indices are needed, use where:'\n",
      "print inds #this shows the indeces, not the full array (unless every element satifies the requirement)\n",
      "print data[inds]"
     ],
     "language": "python",
     "metadata": {},
     "outputs": []
    },
    {
     "cell_type": "code",
     "collapsed": false,
     "input": [
      "print 'or if you wish to compute on some...'\n",
      "\n",
      "d = np.array([1, 0.0, -3, 0, 1], float)\n",
      "\n",
      "print np.where(d != 0.0, 1/d, 999)"
     ],
     "language": "python",
     "metadata": {},
     "outputs": []
    },
    {
     "cell_type": "heading",
     "level": 2,
     "metadata": {},
     "source": [
      "Matrixes"
     ]
    },
    {
     "cell_type": "markdown",
     "metadata": {},
     "source": [
      "Note that 2D array is not a Matrix, in terms of operations!"
     ]
    },
    {
     "cell_type": "code",
     "collapsed": false,
     "input": [
      "print 'Array multiplication:'\n",
      "a = np.array([[1, 2], [3, 4]])\n",
      "print a, '\\ntimes\\n', a\n",
      "print '\\nis'\n",
      "print a*a"
     ],
     "language": "python",
     "metadata": {},
     "outputs": []
    },
    {
     "cell_type": "code",
     "collapsed": false,
     "input": [
      "print 'Matrix multiplication:'\n",
      "a = np.matrix([[1, 2], [3, 4]])\n",
      "print a, '\\ntimes\\n', a\n",
      "print '\\nis'\n",
      "print a*a #1*1 + 3*2 = 7, 1*2 + 2*4 = 10, etc."
     ],
     "language": "python",
     "metadata": {},
     "outputs": []
    },
    {
     "cell_type": "code",
     "collapsed": false,
     "input": [
      "print 'Easy to use special matrices like identity:'\n",
      "i = np.identity(2)\n",
      "print  i\n",
      "print '\\n', a * i"
     ],
     "language": "python",
     "metadata": {},
     "outputs": []
    },
    {
     "cell_type": "code",
     "collapsed": false,
     "input": [
      "print 'or do calculations...'\n",
      "print 'Determinant of\\n', a, '\\nis ', np.linalg.det(a)  #1*4 - (2*3) = -2"
     ],
     "language": "python",
     "metadata": {},
     "outputs": []
    },
    {
     "cell_type": "code",
     "collapsed": false,
     "input": [
      "print '\\nInverse:'\n",
      "inv = np.linalg.inv(a)\n",
      "print inv"
     ],
     "language": "python",
     "metadata": {},
     "outputs": []
    },
    {
     "cell_type": "code",
     "collapsed": false,
     "input": [
      "print 'But be careful with machine precision:'\n",
      "print inv*a  #should be close to identity"
     ],
     "language": "python",
     "metadata": {},
     "outputs": []
    },
    {
     "cell_type": "heading",
     "level": 2,
     "metadata": {},
     "source": [
      "Masked Arrays"
     ]
    },
    {
     "cell_type": "code",
     "collapsed": false,
     "input": [
      "import numpy.ma as ma\n",
      "\n",
      "x = np.array([1, 0, 4, -1, 5.])\n",
      "mx = ma.masked_array(x, mask=[0, 0, 0, 1, 0]) #1=True\n",
      "\n",
      "print x\n",
      "print 'If you have missing data, you can use masked arrays:'\n",
      "print mx"
     ],
     "language": "python",
     "metadata": {},
     "outputs": []
    },
    {
     "cell_type": "code",
     "collapsed": false,
     "input": [
      "print 'Calculations now fully ignore the missing values:'\n",
      "print mx.mean(), '=', (1+0+4+5) / 4."
     ],
     "language": "python",
     "metadata": {},
     "outputs": []
    },
    {
     "cell_type": "code",
     "collapsed": false,
     "input": [
      "print 'Replacing/filling with the average value:'\n",
      "print mx.filled(mx.mean())"
     ],
     "language": "python",
     "metadata": {},
     "outputs": []
    },
    {
     "cell_type": "code",
     "collapsed": false,
     "input": [
      "x = ma.array([1., -1., 3., 4., 5., 6.], mask=[0,0,0,0,1,0])\n",
      "y = ma.array([1., 2., 0., 4., 5., 6.], mask=[0,0,0,0,0,1])\n",
      "print x\n",
      "print y"
     ],
     "language": "python",
     "metadata": {},
     "outputs": []
    },
    {
     "cell_type": "code",
     "collapsed": false,
     "input": [
      "print 'Masked arrays help with operations that can lead to complications (e.g. divide with zero, square root of negative number):'\n",
      "print np.sqrt(x/y)"
     ],
     "language": "python",
     "metadata": {},
     "outputs": []
    },
    {
     "cell_type": "heading",
     "level": 2,
     "metadata": {},
     "source": [
      "Vectorizing (mapping for ndarrays)"
     ]
    },
    {
     "cell_type": "markdown",
     "metadata": {},
     "source": [
      "Sometimes you have written a function that does not necessarily work with vectors. For these cases, NumPy provides vectorizing functionality."
     ]
    },
    {
     "cell_type": "code",
     "collapsed": false,
     "input": [
      "def myFunction(a, b):\n",
      "    \"Whatever function, just a dummy example\"\n",
      "    if a > 5:\n",
      "        return a + b\n",
      "    else:\n",
      "        return a - b"
     ],
     "language": "python",
     "metadata": {},
     "outputs": []
    },
    {
     "cell_type": "code",
     "collapsed": false,
     "input": [
      "x = np.arange(10)\n",
      "y = np.arange(10)\n",
      "\n",
      "res = myFunction(x, y)"
     ],
     "language": "python",
     "metadata": {},
     "outputs": []
    },
    {
     "cell_type": "code",
     "collapsed": false,
     "input": [
      "vfunc = np.vectorize(myFunction)\n",
      "print vfunc(x, y)"
     ],
     "language": "python",
     "metadata": {},
     "outputs": []
    },
    {
     "cell_type": "heading",
     "level": 2,
     "metadata": {},
     "source": [
      "Example: Polynomials"
     ]
    },
    {
     "cell_type": "markdown",
     "metadata": {},
     "source": [
      "Lets assume that you have data with some noise and you want to fit a Hermite polynomial to derive a smooth trend."
     ]
    },
    {
     "cell_type": "code",
     "collapsed": false,
     "input": [
      "#create data with noise\n",
      "x = np.linspace(-1.2, 1.2, 1000)\n",
      "y = np.tan(x) + 2.5*np.random.rand(1000)"
     ],
     "language": "python",
     "metadata": {},
     "outputs": []
    },
    {
     "cell_type": "code",
     "collapsed": false,
     "input": [
      "print 'fit 100th and 10th order Hermite polynomials with NumPy.polynomial.hermite.hermfit'\n",
      "fit100 = np.polynomial.hermite.hermfit(x, y, 100)\n",
      "fit20 = np.polynomial.hermite.hermfit(x, y, 10)\n",
      "#also available Chebyshev, Legendre, Laguerre..."
     ],
     "language": "python",
     "metadata": {},
     "outputs": []
    },
    {
     "cell_type": "code",
     "collapsed": false,
     "input": [
      "print 'Plot the data and the fits, sample the fits between -1.2 and 1.2 with 200 points:'\n",
      "t = np.linspace(-1.2, 1.2, 200)\n",
      "\n",
      "#plot using matplotlib\n",
      "import matplotlib.pyplot as plt\n",
      "\n",
      "plt.figure(figsize=(8,8))\n",
      "plt.plot(x, y, 'ro', alpha=0.5, ms=4)\n",
      "plt.plot(t, np.polynomial.hermite.hermval(t, fit20), 'g-', lw=4, label='Hermite 20')\n",
      "plt.plot(t, np.polynomial.hermite.hermval(t, fit100), 'k-', lw=3, label='Hermite 100')\n",
      "plt.legend(loc='best', shadow=True, fancybox=True)\n",
      "plt.show()"
     ],
     "language": "python",
     "metadata": {},
     "outputs": []
    },
    {
     "cell_type": "heading",
     "level": 2,
     "metadata": {},
     "source": [
      "Example: estimating pi with random numbers"
     ]
    },
    {
     "cell_type": "code",
     "collapsed": false,
     "input": [
      "print 'Generate 1e7 random points, values between 0 and 1'\n",
      "points = 1e7\n",
      "randoms = np.random.rand(points, 2)\n",
      "x = randoms[:, 0] #slice the arrays everything (:) in y, first in x\n",
      "y = randoms[:, 1]"
     ],
     "language": "python",
     "metadata": {},
     "outputs": []
    },
    {
     "cell_type": "code",
     "collapsed": false,
     "input": [
      "print 'Find the points inside a unit circle (ignoring sqrt)'\n",
      "ids = x**2 + y**2 < 1\n",
      "print 'and then calculate how many were inside (True=1, False=0)'\n",
      "inside = np.sum(ids)"
     ],
     "language": "python",
     "metadata": {},
     "outputs": []
    },
    {
     "cell_type": "code",
     "collapsed": false,
     "input": [
      "print 'Now you can estimate pi, but comparing the number of the points inside the unit circle to the unit area:'\n",
      "pi = inside / points * 4\n",
      "print 'MC pi value = %.8f' % pi\n",
      "print 'Fractional Error = %0.8f' % ((pi-np.pi)/np.pi)"
     ],
     "language": "python",
     "metadata": {},
     "outputs": []
    },
    {
     "cell_type": "heading",
     "level": 2,
     "metadata": {},
     "source": [
      "Speed test: NumPy vs numexpr"
     ]
    },
    {
     "cell_type": "code",
     "collapsed": false,
     "input": [
      "import numexpr as ne\n",
      "a = np.random.random((4000, 4000))\n",
      "b = np.random.random((4000, 4000))"
     ],
     "language": "python",
     "metadata": {},
     "outputs": []
    },
    {
     "cell_type": "code",
     "collapsed": false,
     "input": [
      "%timeit a**5 + a*b - b*2.234"
     ],
     "language": "python",
     "metadata": {},
     "outputs": []
    },
    {
     "cell_type": "code",
     "collapsed": false,
     "input": [
      "%timeit ne.evaluate(\"a**5 + a*b - b*2.234\")"
     ],
     "language": "python",
     "metadata": {},
     "outputs": []
    },
    {
     "cell_type": "code",
     "collapsed": false,
     "input": [
      "n1 = a**5 + a*b - b*2.234\n",
      "n2 = ne.evaluate(\"a**5 + a*b - b*2.234\")"
     ],
     "language": "python",
     "metadata": {},
     "outputs": []
    },
    {
     "cell_type": "code",
     "collapsed": false,
     "input": [
      "print 'To show that the results are more or less the same (no error)...'\n",
      "np.testing.assert_almost_equal(n1, n2, decimal=7, err_msg='Values do not match...')"
     ],
     "language": "python",
     "metadata": {},
     "outputs": []
    },
    {
     "cell_type": "heading",
     "level": 3,
     "metadata": {},
     "source": [
      "Example: Images are Arrays"
     ]
    },
    {
     "cell_type": "code",
     "collapsed": false,
     "input": [
      "from scipy import misc\n",
      "lena = misc.lena()\n",
      "print lena"
     ],
     "language": "python",
     "metadata": {},
     "outputs": []
    },
    {
     "cell_type": "code",
     "collapsed": false,
     "input": [
      "plt.imshow(lena, cmap=plt.cm.gray)\n",
      "plt.show()"
     ],
     "language": "python",
     "metadata": {},
     "outputs": []
    },
    {
     "cell_type": "code",
     "collapsed": false,
     "input": [
      "radius = 220.\n",
      "print 'Lets make a circular cutout with a radius = %i' % radius\n",
      "y, x = np.ogrid[0:lena.shape[0], 0:lena.shape[1]] # x and y indices of pixels\n",
      "centerx, centery = (lena.shape[0]/2, lena.shape[1]/2) # center of the image\n",
      "mask = ((y - centery)**2 + (x - centerx)**2) > radius**2\n",
      "lena[mask] = 0\n",
      "print lena"
     ],
     "language": "python",
     "metadata": {},
     "outputs": []
    },
    {
     "cell_type": "code",
     "collapsed": false,
     "input": [
      "plt.imshow(lena, cmap=plt.cm.gray)\n",
      "plt.show()"
     ],
     "language": "python",
     "metadata": {},
     "outputs": []
    },
    {
     "cell_type": "markdown",
     "metadata": {},
     "source": [
      "This is just a teaser, we will discuss image processing in another notebook..."
     ]
    },
    {
     "cell_type": "code",
     "collapsed": false,
     "input": [],
     "language": "python",
     "metadata": {},
     "outputs": []
    }
   ],
   "metadata": {}
  }
 ]
}