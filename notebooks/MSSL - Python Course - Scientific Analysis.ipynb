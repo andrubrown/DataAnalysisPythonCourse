{
 "metadata": {
  "name": "",
  "signature": "sha256:748c7f17a132a327f2883a14e0317652133260d136908afe26168aa904c39cc7"
 },
 "nbformat": 3,
 "nbformat_minor": 0,
 "worksheets": [
  {
   "cells": [
    {
     "cell_type": "heading",
     "level": 1,
     "metadata": {},
     "source": [
      "High-level Scientific Analysis with SciPy"
     ]
    },
    {
     "cell_type": "markdown",
     "metadata": {},
     "source": [
      "### Preamble\n",
      "\n",
      "- *Sami Niemi (s.niemi@ucl.ac.uk)*\n",
      "- *Data Analysis and Image Processing with Python, UCL/MSSL, November 4-5 2014*\n",
      "- *Notebook available on [github](https://github.com/sniemi/DataAnalysisPythonCourse)*"
     ]
    },
    {
     "cell_type": "markdown",
     "metadata": {},
     "source": [
      "Futher reading:\n",
      "http://docs.scipy.org/doc/scipy/reference/tutorial/index.html"
     ]
    },
    {
     "cell_type": "code",
     "collapsed": false,
     "input": [
      "import scipy as sp\n",
      "print sp.__version__"
     ],
     "language": "python",
     "metadata": {},
     "outputs": []
    },
    {
     "cell_type": "heading",
     "level": 2,
     "metadata": {},
     "source": [
      "Constants and Conversions"
     ]
    },
    {
     "cell_type": "code",
     "collapsed": false,
     "input": [
      "from scipy import constants as const"
     ],
     "language": "python",
     "metadata": {},
     "outputs": []
    },
    {
     "cell_type": "markdown",
     "metadata": {},
     "source": [
      "A few examples:"
     ]
    },
    {
     "cell_type": "code",
     "collapsed": false,
     "input": [
      "print const.eV, const.c, const.hbar"
     ],
     "language": "python",
     "metadata": {},
     "outputs": []
    },
    {
     "cell_type": "markdown",
     "metadata": {},
     "source": [
      "Searching for a constant:"
     ]
    },
    {
     "cell_type": "code",
     "collapsed": false,
     "input": [
      "x = const.find('Newton')\n",
      "print x"
     ],
     "language": "python",
     "metadata": {},
     "outputs": []
    },
    {
     "cell_type": "markdown",
     "metadata": {},
     "source": [
      "Values, units and precision, all available:"
     ]
    },
    {
     "cell_type": "code",
     "collapsed": false,
     "input": [
      "print const.value(x[0])\n",
      "print const.unit(x[0])\n",
      "print const.precision(x[0])"
     ],
     "language": "python",
     "metadata": {},
     "outputs": []
    },
    {
     "cell_type": "code",
     "collapsed": false,
     "input": [
      "print 'Currently %i constants in the database...' % len(const.physical_constants.keys())"
     ],
     "language": "python",
     "metadata": {},
     "outputs": []
    },
    {
     "cell_type": "markdown",
     "metadata": {},
     "source": [
      "Most importantly, unit conversions are also supported, so you do not have an excuse, right ;-)"
     ]
    },
    {
     "cell_type": "code",
     "collapsed": false,
     "input": [
      "print '550nm = %e Hz' % const.lambda2nu(550*const.nano)"
     ],
     "language": "python",
     "metadata": {},
     "outputs": []
    },
    {
     "cell_type": "heading",
     "level": 5,
     "metadata": {},
     "source": [
      "All constants and conversion are from 2010 CODATA."
     ]
    },
    {
     "cell_type": "heading",
     "level": 2,
     "metadata": {},
     "source": [
      "Statistics (with scipy.stats)"
     ]
    },
    {
     "cell_type": "heading",
     "level": 3,
     "metadata": {},
     "source": [
      "Working with distributions"
     ]
    },
    {
     "cell_type": "code",
     "collapsed": false,
     "input": [
      "import numpy as np\n",
      "import scipy.stats as stats"
     ],
     "language": "python",
     "metadata": {},
     "outputs": []
    },
    {
     "cell_type": "markdown",
     "metadata": {},
     "source": [
      "For example, lets generate a normal distribution centred at 0 with standard deviation = 2:"
     ]
    },
    {
     "cell_type": "code",
     "collapsed": false,
     "input": [
      "bell = stats.norm(loc=0, scale=2)"
     ],
     "language": "python",
     "metadata": {},
     "outputs": []
    },
    {
     "cell_type": "markdown",
     "metadata": {},
     "source": [
      "We can easily calculate e.g. the first few moments (mean, variance, skew, and kurtosis):"
     ]
    },
    {
     "cell_type": "code",
     "collapsed": false,
     "input": [
      "print bell.stats(moments='mvsk')"
     ],
     "language": "python",
     "metadata": {},
     "outputs": []
    },
    {
     "cell_type": "markdown",
     "metadata": {},
     "source": [
      "Plot the normal distribution:"
     ]
    },
    {
     "cell_type": "code",
     "collapsed": false,
     "input": [
      "import matplotlib.pyplot as plt\n",
      "x = np.linspace(-10, 10, 200)\n",
      "plt.plot(x, bell.pdf(x))\n",
      "plt.show()"
     ],
     "language": "python",
     "metadata": {},
     "outputs": []
    },
    {
     "cell_type": "markdown",
     "metadata": {},
     "source": [
      "What are the second and fourth moment of the Normal distribution:"
     ]
    },
    {
     "cell_type": "code",
     "collapsed": false,
     "input": [
      "print bell.moment(2), bell.moment(4)\n",
      "#1=0, 2=sigma**2, 3=0, 4=3*sigma**4"
     ],
     "language": "python",
     "metadata": {},
     "outputs": []
    },
    {
     "cell_type": "markdown",
     "metadata": {},
     "source": [
      "Probability density function (describes the relative likelihood for this random variable to take on a given value):"
     ]
    },
    {
     "cell_type": "code",
     "collapsed": false,
     "input": [
      "print bell.pdf([-1, 0, 1., 2., 3.])"
     ],
     "language": "python",
     "metadata": {},
     "outputs": []
    },
    {
     "cell_type": "markdown",
     "metadata": {},
     "source": [
      "Likelihood of randomly drawing 5 from our Normal distribution:"
     ]
    },
    {
     "cell_type": "code",
     "collapsed": false,
     "input": [
      "print bell.pdf(5)\n",
      "print 'Sanity check:', np.exp(-5**2/8.)/2./np.sqrt(2*np.pi)"
     ],
     "language": "python",
     "metadata": {},
     "outputs": []
    },
    {
     "cell_type": "markdown",
     "metadata": {},
     "source": [
      "Plot our distribution on log-scale and identify the likelihood of drawing 5:"
     ]
    },
    {
     "cell_type": "code",
     "collapsed": false,
     "input": [
      "plt.semilogy(x, bell.pdf(x)) #note the log scale\n",
      "plt.semilogy(5, bell.pdf(5), 'rs')\n",
      "plt.show()"
     ],
     "language": "python",
     "metadata": {},
     "outputs": []
    },
    {
     "cell_type": "markdown",
     "metadata": {},
     "source": [
      "Confidence interval with equal areas around the median:\n",
      "\n",
      "(remember: loc=0, scale=2, so 1scale = 2 = 68.27%, 2scale = 4 = 95.45%...)"
     ]
    },
    {
     "cell_type": "code",
     "collapsed": false,
     "input": [
      "print bell.interval(alpha=0.6826895)\n",
      "print bell.interval(alpha=0.9545)"
     ],
     "language": "python",
     "metadata": {},
     "outputs": []
    },
    {
     "cell_type": "markdown",
     "metadata": {},
     "source": [
      "Cumulative density function (probability of a random variable falling in the interval (\u2212\u221e, x]):"
     ]
    },
    {
     "cell_type": "code",
     "collapsed": false,
     "input": [
      "print bell.cdf([-4, -2, 0, 2, 4]) #remember: loc=0, scale=2\n",
      "print bell.cdf([2,]) - bell.cdf([-2,])"
     ],
     "language": "python",
     "metadata": {},
     "outputs": []
    },
    {
     "cell_type": "markdown",
     "metadata": {},
     "source": [
      "Survival function (1 - CDF):"
     ]
    },
    {
     "cell_type": "code",
     "collapsed": false,
     "input": [
      "print bell.sf([-4, -1, 0, 1, 4])"
     ],
     "language": "python",
     "metadata": {},
     "outputs": []
    },
    {
     "cell_type": "markdown",
     "metadata": {},
     "source": [
      "Percent point or quantile function (also inverse of the cdf):\n",
      "\n",
      "Remember that quantiles corresponding to the lower tail input probability..."
     ]
    },
    {
     "cell_type": "code",
     "collapsed": false,
     "input": [
      "print bell.ppf([0.0227501319, 0.30853754, 0.5])"
     ],
     "language": "python",
     "metadata": {},
     "outputs": []
    },
    {
     "cell_type": "markdown",
     "metadata": {},
     "source": [
      "Draw a random sample of 10 from our Normal distribution:"
     ]
    },
    {
     "cell_type": "code",
     "collapsed": false,
     "input": [
      "print bell.rvs(10)"
     ],
     "language": "python",
     "metadata": {},
     "outputs": []
    },
    {
     "cell_type": "heading",
     "level": 3,
     "metadata": {},
     "source": [
      "Test for skewness"
     ]
    },
    {
     "cell_type": "code",
     "collapsed": false,
     "input": [
      "import scipy.stats as stats\n",
      "import numpy as np\n",
      "\n",
      "np.random.seed(12345678) #set seed so that my conclusions are correct :-)"
     ],
     "language": "python",
     "metadata": {},
     "outputs": []
    },
    {
     "cell_type": "markdown",
     "metadata": {},
     "source": [
      "For normally distributed data, the skewness should be close to 0:"
     ]
    },
    {
     "cell_type": "code",
     "collapsed": false,
     "input": [
      "print stats.skew(stats.norm.rvs(size=1e5, loc=0.0, scale=2))"
     ],
     "language": "python",
     "metadata": {},
     "outputs": []
    },
    {
     "cell_type": "heading",
     "level": 3,
     "metadata": {},
     "source": [
      "Kolmogorov-Smirnov (KS) Test"
     ]
    },
    {
     "cell_type": "markdown",
     "metadata": {},
     "source": [
      "Tests whether two samples are drawn from the same parent distribution."
     ]
    },
    {
     "cell_type": "code",
     "collapsed": false,
     "input": [
      "points1 = 400\n",
      "points2 = 500"
     ],
     "language": "python",
     "metadata": {},
     "outputs": []
    },
    {
     "cell_type": "code",
     "collapsed": false,
     "input": [
      "#3 normal distributions with different locations\n",
      "rvs1 = stats.norm.rvs(size=points1, loc=0., scale=1.0)\n",
      "rvs2 = stats.norm.rvs(size=points2, loc=0., scale=3.0)\n",
      "rvs3 = stats.norm.rvs(size=points2, loc=0.01, scale=1.0)"
     ],
     "language": "python",
     "metadata": {},
     "outputs": []
    },
    {
     "cell_type": "code",
     "collapsed": false,
     "input": [
      "D, p = stats.ks_2samp(rvs1, rvs2)\n",
      "print p\n",
      "print \"For a different distribution, we can reject the null \\\n",
      "hypothesis since the pvalue is below 1%\""
     ],
     "language": "python",
     "metadata": {},
     "outputs": []
    },
    {
     "cell_type": "code",
     "collapsed": false,
     "input": [
      "D, p = stats.ks_2samp(rvs1, rvs3)\n",
      "print p\n",
      "print \"For a slightly different distribution, we cannot reject \\\n",
      "the null hypothesis at a 10% or lower alpha \""
     ],
     "language": "python",
     "metadata": {},
     "outputs": []
    },
    {
     "cell_type": "heading",
     "level": 2,
     "metadata": {},
     "source": [
      "Optimizing"
     ]
    },
    {
     "cell_type": "heading",
     "level": 3,
     "metadata": {},
     "source": [
      "Finding the minimum"
     ]
    },
    {
     "cell_type": "code",
     "collapsed": false,
     "input": [
      "from scipy import optimize\n",
      "\n",
      "def f(x):\n",
      "    return x**2 + 10*np.sin(x)"
     ],
     "language": "python",
     "metadata": {},
     "outputs": []
    },
    {
     "cell_type": "markdown",
     "metadata": {},
     "source": [
      "Data from a function *f(x)*:"
     ]
    },
    {
     "cell_type": "code",
     "collapsed": false,
     "input": [
      "x = np.arange(-10, 10, 0.1)\n",
      "plt.plot(x, f(x))\n",
      "plt.show()"
     ],
     "language": "python",
     "metadata": {},
     "outputs": []
    },
    {
     "cell_type": "markdown",
     "metadata": {},
     "source": [
      "Lets find the minima of the above function.\n",
      "\n",
      "We can first try BFGS. The gradient is given by fprime using the quasi-Newton method of Broyden, Fletcher, Goldfarb, and Shanno (BFGS):"
     ]
    },
    {
     "cell_type": "code",
     "collapsed": false,
     "input": [
      "minima1 = optimize.fmin_bfgs(f, 0) #0 is our initial guess\n",
      "print minima1"
     ],
     "language": "python",
     "metadata": {},
     "outputs": []
    },
    {
     "cell_type": "markdown",
     "metadata": {},
     "source": [
      "However, this is sensitive to the starting point and may end up to a local minima:"
     ]
    },
    {
     "cell_type": "code",
     "collapsed": false,
     "input": [
      "minima2 = optimize.fmin_bfgs(f, 3, disp=0)\n",
      "print minima2"
     ],
     "language": "python",
     "metadata": {},
     "outputs": []
    },
    {
     "cell_type": "markdown",
     "metadata": {},
     "source": [
      "If we do not know anything about the function we can always use brute force,\n",
      "but you can imagine how slow this gets with real data..."
     ]
    },
    {
     "cell_type": "code",
     "collapsed": false,
     "input": [
      "grid = (-10, 10, 0.1)  #specify search grid\n",
      "minima3 = optimize.brute(f, (grid,))\n",
      "print minima3"
     ],
     "language": "python",
     "metadata": {},
     "outputs": []
    },
    {
     "cell_type": "code",
     "collapsed": false,
     "input": [
      "plt.plot(minima1, f(minima1), 'rs', ms=30)\n",
      "plt.plot(minima2, f(minima2), 'k<', ms=30)\n",
      "plt.plot(minima3, f(minima3), 'g*', ms=30)\n",
      "plt.plot(x, f(x), lw=2)\n",
      "plt.show()"
     ],
     "language": "python",
     "metadata": {},
     "outputs": []
    },
    {
     "cell_type": "heading",
     "level": 3,
     "metadata": {},
     "source": [
      "Finding roots"
     ]
    },
    {
     "cell_type": "markdown",
     "metadata": {},
     "source": [
      "Find roots of a function *f(x)*."
     ]
    },
    {
     "cell_type": "code",
     "collapsed": false,
     "input": [
      "def f(x):\n",
      "    return (x - 1)*(x + 2)"
     ],
     "language": "python",
     "metadata": {},
     "outputs": []
    },
    {
     "cell_type": "markdown",
     "metadata": {},
     "source": [
      "`fsolve` is a wrapper around MINPACK\u2019s hybrd and hybrj algorithms."
     ]
    },
    {
     "cell_type": "code",
     "collapsed": false,
     "input": [
      "r1 = optimize.fsolve(f, 3)\n",
      "r2 = optimize.fsolve(f, -3)\n",
      "print r1, r2"
     ],
     "language": "python",
     "metadata": {},
     "outputs": []
    },
    {
     "cell_type": "markdown",
     "metadata": {},
     "source": [
      "but for large scale problems, you may want to use something else:"
     ]
    },
    {
     "cell_type": "code",
     "collapsed": false,
     "input": [
      "r1 = optimize.newton_krylov(f, 300, verbose=True)\n",
      "r2 = optimize.newton_krylov(f, -300)"
     ],
     "language": "python",
     "metadata": {},
     "outputs": []
    },
    {
     "cell_type": "code",
     "collapsed": false,
     "input": [
      "plt.plot(r1, 0, 'go', ms=20)\n",
      "plt.plot(r2, 0, 'go', ms=20)\n",
      "plt.plot(x, f(x), 'b-')\n",
      "plt.axhline(y=0, color='k')\n",
      "plt.xlim(-4, 2)\n",
      "plt.ylim(-4, 3)\n",
      "plt.show()"
     ],
     "language": "python",
     "metadata": {},
     "outputs": []
    },
    {
     "cell_type": "heading",
     "level": 3,
     "metadata": {},
     "source": [
      "Fitting"
     ]
    },
    {
     "cell_type": "markdown",
     "metadata": {},
     "source": [
      "Fitting a function to data (the simple way, tomorrow the proper way):"
     ]
    },
    {
     "cell_type": "code",
     "collapsed": false,
     "input": [
      "from scipy.optimize import curve_fit\n",
      "\n",
      "def f(t, omega, phi):\n",
      "    return np.cos(omega * t + phi) * np.sin(t*omega)"
     ],
     "language": "python",
     "metadata": {},
     "outputs": []
    },
    {
     "cell_type": "markdown",
     "metadata": {},
     "source": [
      "Lets start by generating data with random noise:"
     ]
    },
    {
     "cell_type": "code",
     "collapsed": false,
     "input": [
      "x = np.linspace(0, 5, 100)\n",
      "y = f(x, 1.2, 1) + .1*np.random.normal(size=100)\n",
      "print y"
     ],
     "language": "python",
     "metadata": {},
     "outputs": []
    },
    {
     "cell_type": "markdown",
     "metadata": {},
     "source": [
      "We can now performa a non-linear least squares fitting using `scipy.optimize.curve_fit`:"
     ]
    },
    {
     "cell_type": "code",
     "collapsed": false,
     "input": [
      "popt, pcov = curve_fit(f, x, y)"
     ],
     "language": "python",
     "metadata": {},
     "outputs": []
    },
    {
     "cell_type": "code",
     "collapsed": false,
     "input": [
      "plt.plot(x, y, 'bo', label='data')\n",
      "plt.plot(x, f(x, popt[0], popt[1]), 'r-', lw=3, label='fit')\n",
      "plt.legend(shadow=True, fancybox=True)\n",
      "plt.show()"
     ],
     "language": "python",
     "metadata": {},
     "outputs": []
    },
    {
     "cell_type": "heading",
     "level": 3,
     "metadata": {},
     "source": [
      "Example: Fitting an exoplanet transit"
     ]
    },
    {
     "cell_type": "heading",
     "level": 4,
     "metadata": {},
     "source": [
      "Weighted curve fitting"
     ]
    },
    {
     "cell_type": "markdown",
     "metadata": {},
     "source": [
      "In the following we fit a Gaussian."
     ]
    },
    {
     "cell_type": "code",
     "collapsed": false,
     "input": [
      "import numpy as np\n",
      "import math\n",
      "import matplotlib.pyplot as plt\n",
      "from scipy.optimize import curve_fit\n",
      "\n",
      "def gaussian(x, a, b, c):\n",
      "    return a * np.exp(-(x - b)**2 / c**2)"
     ],
     "language": "python",
     "metadata": {},
     "outputs": []
    },
    {
     "cell_type": "markdown",
     "metadata": {},
     "source": [
      "These are the true values we are trying to recover:"
     ]
    },
    {
     "cell_type": "code",
     "collapsed": false,
     "input": [
      "scale = 15.\n",
      "offset = 3.3\n",
      "sigma = 1.5"
     ],
     "language": "python",
     "metadata": {},
     "outputs": []
    },
    {
     "cell_type": "markdown",
     "metadata": {},
     "source": [
      "Generate data with uncertanties:"
     ]
    },
    {
     "cell_type": "code",
     "collapsed": false,
     "input": [
      "n = 200\n",
      "x = np.random.uniform(-10., 10., n) #independent\n",
      "y = np.exp(-(x - offset)**2 / sigma**2) * scale + np.random.normal(0., 2., n) #dependent\n",
      "e = 2.*np.random.uniform(0.1, 1., n) #errors"
     ],
     "language": "python",
     "metadata": {},
     "outputs": []
    },
    {
     "cell_type": "markdown",
     "metadata": {},
     "source": [
      "Plot data:"
     ]
    },
    {
     "cell_type": "code",
     "collapsed": false,
     "input": [
      "plt.errorbar(x, y, yerr=e, linewidth=1, color='black', fmt=None)\n",
      "plt.title('Transient')\n",
      "plt.xlabel('Time [days]')\n",
      "plt.ylabel('Relative Flux Density')\n",
      "plt.show()"
     ],
     "language": "python",
     "metadata": {},
     "outputs": []
    },
    {
     "cell_type": "markdown",
     "metadata": {},
     "source": [
      "We can now fit a Gaussian to our light curve using SciPy's `curve_fit`, which returns parameters and covariance matrix:"
     ]
    },
    {
     "cell_type": "code",
     "collapsed": false,
     "input": [
      "#curve_fit(function_to_fit, x_data, y_data, sigma=errors_if_available)\n",
      "popt, pcov = curve_fit(gaussian, x, y, sigma=e)"
     ],
     "language": "python",
     "metadata": {},
     "outputs": []
    },
    {
     "cell_type": "markdown",
     "metadata": {},
     "source": [
      "Lets see how well we recovered our input (try changing the errors above and see what happens):"
     ]
    },
    {
     "cell_type": "code",
     "collapsed": false,
     "input": [
      "print \"Scale =  %.3f +/- %.3f\" % (popt[0], np.sqrt(pcov[0, 0])), 'Input = ', scale\n",
      "print \"Offset = %.3f +/- %.3f\" % (popt[1], np.sqrt(pcov[1, 1])), 'Input = ', offset\n",
      "print \"Sigma =  %.3f +/- %.3f\" % (math.fabs(popt[2]), np.sqrt(pcov[2, 2])), 'Input = ', sigma"
     ],
     "language": "python",
     "metadata": {},
     "outputs": []
    },
    {
     "cell_type": "markdown",
     "metadata": {},
     "source": [
      "Plot the data and our model:"
     ]
    },
    {
     "cell_type": "code",
     "collapsed": false,
     "input": [
      "plt.errorbar(x, y, yerr=e, linewidth=1, color='black', fmt=None)\n",
      "\n",
      "xm = np.linspace(-10., 10., 100)  # 100 evenly spaced points\n",
      "# Plot model\n",
      "plt.plot(xm, gaussian(xm, popt[0], popt[1], popt[2]), lw=2)\n",
      "\n",
      "plt.title('Transient')\n",
      "plt.xlabel('Time [days]')\n",
      "plt.ylabel('Relative Flux Density')\n",
      "plt.show()"
     ],
     "language": "python",
     "metadata": {},
     "outputs": []
    },
    {
     "cell_type": "heading",
     "level": 2,
     "metadata": {},
     "source": [
      "Interpolation"
     ]
    },
    {
     "cell_type": "markdown",
     "metadata": {},
     "source": [
      "The scipy.interpolate is based on the FITPACK\n",
      "Fortran subroutines from the netlib project."
     ]
    },
    {
     "cell_type": "heading",
     "level": 3,
     "metadata": {},
     "source": [
      "1D"
     ]
    },
    {
     "cell_type": "code",
     "collapsed": false,
     "input": [
      "import matplotlib.pyplot as plt\n",
      "from scipy.interpolate import interp1d\n",
      "import numpy as np"
     ],
     "language": "python",
     "metadata": {},
     "outputs": []
    },
    {
     "cell_type": "code",
     "collapsed": false,
     "input": [
      "#data\n",
      "x = np.linspace(0., 10., 10)\n",
      "y = np.cos(-x**2/8.0)"
     ],
     "language": "python",
     "metadata": {},
     "outputs": []
    },
    {
     "cell_type": "code",
     "collapsed": false,
     "input": [
      "plt.plot(x, y, 'bo', label='Data')\n",
      "plt.show()"
     ],
     "language": "python",
     "metadata": {},
     "outputs": []
    },
    {
     "cell_type": "markdown",
     "metadata": {},
     "source": [
      "Linear and cubic interpolations:"
     ]
    },
    {
     "cell_type": "code",
     "collapsed": false,
     "input": [
      "f = interp1d(x, y)  #linear interpolation\n",
      "f2 = interp1d(x, y, kind='cubic')"
     ],
     "language": "python",
     "metadata": {},
     "outputs": []
    },
    {
     "cell_type": "code",
     "collapsed": false,
     "input": [
      "#points at which to evaluate\n",
      "xnew = np.linspace(0, 10, 200)\n",
      "\n",
      "plt.plot(x, y, 'bo', label='Data')\n",
      "plt.plot(xnew, f(xnew), 'r-', label='Linear', lw=2)\n",
      "plt.plot(xnew, f2(xnew),'g--', label='Cubic', lw=2)\n",
      "\n",
      "plt.legend(loc='best', shadow=True, numpoints=1, fancybox=True)\n",
      "plt.show()"
     ],
     "language": "python",
     "metadata": {},
     "outputs": []
    },
    {
     "cell_type": "heading",
     "level": 4,
     "metadata": {},
     "source": [
      "Spline Interpolation"
     ]
    },
    {
     "cell_type": "code",
     "collapsed": false,
     "input": [
      "from scipy.interpolate import UnivariateSpline\n",
      "\n",
      "x = np.linspace(-5, 5, 100)\n",
      "y = exp(-x**2/2.5) + np.random.rand(100)/2.5"
     ],
     "language": "python",
     "metadata": {},
     "outputs": []
    },
    {
     "cell_type": "markdown",
     "metadata": {},
     "source": [
      "Visualise data:"
     ]
    },
    {
     "cell_type": "code",
     "collapsed": false,
     "input": [
      "xnew = np.linspace(-5, 5, 1000)\n",
      "plt.plot(x, y, 'bo', label='data', alpha=0.4)\n",
      "plt.show()"
     ],
     "language": "python",
     "metadata": {},
     "outputs": []
    },
    {
     "cell_type": "markdown",
     "metadata": {},
     "source": [
      "In the following we estimate a one-dimensional smoothing spline fit to a given set of data points.\n",
      "- s = smoothing factor used to choose the number of knots\n",
      "- k = degree of the smoothing spline"
     ]
    },
    {
     "cell_type": "code",
     "collapsed": false,
     "input": [
      "s1 = UnivariateSpline(x, y, s=1, k=3) \n",
      "s2 = UnivariateSpline(x, y, s=2, k=4)"
     ],
     "language": "python",
     "metadata": {},
     "outputs": []
    },
    {
     "cell_type": "markdown",
     "metadata": {},
     "source": [
      "One-dimensional smoothing spline fit (s=1, k=3) to a given set of data points:"
     ]
    },
    {
     "cell_type": "code",
     "collapsed": false,
     "input": [
      "plt.plot(x, y, 'bo', label='data', alpha=0.4)\n",
      "plt.plot(xnew, s1(xnew), c='magenta', ls='-', lw='3', label='Spline 1')\n",
      "plt.legend(loc='best', shadow=True, numpoints=1, fancybox=True)\n",
      "plt.show()"
     ],
     "language": "python",
     "metadata": {},
     "outputs": []
    },
    {
     "cell_type": "markdown",
     "metadata": {},
     "source": [
      "One-dimensional smoothing spline (s=2, k=4) fit to a given set of data points:"
     ]
    },
    {
     "cell_type": "code",
     "collapsed": false,
     "input": [
      "plt.plot(x, y, 'bo', label='data', alpha=0.4)\n",
      "plt.plot(xnew, s2(xnew), 'g-', lw='3', label='Spline 2')\n",
      "plt.legend(loc='best', shadow=True, numpoints=1, fancybox=True)\n",
      "plt.show()"
     ],
     "language": "python",
     "metadata": {},
     "outputs": []
    },
    {
     "cell_type": "heading",
     "level": 3,
     "metadata": {},
     "source": [
      "2D interpolating from scattered data"
     ]
    },
    {
     "cell_type": "code",
     "collapsed": false,
     "input": [
      "import numpy as np"
     ],
     "language": "python",
     "metadata": {},
     "outputs": []
    },
    {
     "cell_type": "markdown",
     "metadata": {},
     "source": [
      "Create random scatter data: \n",
      "- *x* position,\n",
      "- *y* position, and\n",
      "- depedent *z*-value"
     ]
    },
    {
     "cell_type": "code",
     "collapsed": false,
     "input": [
      "x = np.random.rand(100)*4.0 - 2.0\n",
      "y = np.random.rand(100)*4.0 - 2.0\n",
      "z = x*y*np.exp(-x**2 - y**2)\n",
      "print z.min(), z.max()"
     ],
     "language": "python",
     "metadata": {},
     "outputs": []
    },
    {
     "cell_type": "markdown",
     "metadata": {},
     "source": [
      "Visualise our data:"
     ]
    },
    {
     "cell_type": "code",
     "collapsed": false,
     "input": [
      "plt.xlim(-2.1, 2.1)\n",
      "plt.ylim(-2.1, 2.1)\n",
      "plt.scatter(x, y, 100, z, cmap=cm.jet)\n",
      "plt.colorbar()\n",
      "plt.show()"
     ],
     "language": "python",
     "metadata": {},
     "outputs": []
    },
    {
     "cell_type": "code",
     "collapsed": false,
     "input": [
      "from scipy.interpolate import Rbf"
     ],
     "language": "python",
     "metadata": {},
     "outputs": []
    },
    {
     "cell_type": "markdown",
     "metadata": {},
     "source": [
      "Run a radial basis function approximation/interpolation of n-dimensional scattered data:"
     ]
    },
    {
     "cell_type": "code",
     "collapsed": false,
     "input": [
      "rbf = Rbf(x, y, z, epsilon=2)\n",
      "print rbf"
     ],
     "language": "python",
     "metadata": {},
     "outputs": []
    },
    {
     "cell_type": "markdown",
     "metadata": {},
     "source": [
      "Generate a grid [-2, 2] with 100 points:"
     ]
    },
    {
     "cell_type": "code",
     "collapsed": false,
     "input": [
      "ti = np.linspace(-2.0, 2.0, 100)\n",
      "XI, YI = np.meshgrid(ti, ti)\n",
      "print XI.shape"
     ],
     "language": "python",
     "metadata": {},
     "outputs": []
    },
    {
     "cell_type": "markdown",
     "metadata": {},
     "source": [
      "and evaluate the RBF on the grid:"
     ]
    },
    {
     "cell_type": "code",
     "collapsed": false,
     "input": [
      "ZI = rbf(XI, YI)"
     ],
     "language": "python",
     "metadata": {},
     "outputs": []
    },
    {
     "cell_type": "markdown",
     "metadata": {},
     "source": [
      "Finally, visualise what we have done:"
     ]
    },
    {
     "cell_type": "code",
     "collapsed": false,
     "input": [
      "import matplotlib.pyplot as plt\n",
      "from matplotlib import cm\n",
      "\n",
      "plt.pcolor(XI, YI, ZI, cmap=cm.jet)\n",
      "plt.scatter(x, y, 100, z, cmap=cm.jet)\n",
      "plt.title('RBF interpolation - multiquadrics')\n",
      "plt.xlim(-2., 2.)\n",
      "plt.ylim(-2., 2.)\n",
      "plt.colorbar()\n",
      "plt.show()"
     ],
     "language": "python",
     "metadata": {},
     "outputs": []
    },
    {
     "cell_type": "heading",
     "level": 4,
     "metadata": {},
     "source": [
      "Another way"
     ]
    },
    {
     "cell_type": "code",
     "collapsed": false,
     "input": [
      "import numpy as np\n",
      "from scipy import interpolate"
     ],
     "language": "python",
     "metadata": {},
     "outputs": []
    },
    {
     "cell_type": "markdown",
     "metadata": {},
     "source": [
      "If you do not have a dependent variable, but simply three vectors *x*, *y*, and *z*:"
     ]
    },
    {
     "cell_type": "code",
     "collapsed": false,
     "input": [
      "x = np.array([0.0, 1767.0, 1767.0, 0.0, -1767.0, -1767.0, -1767.0, 0.0, 1767.0]) / 1000.\n",
      "y = np.array([0.0, 0.0, 1767.0, 1767.0, 1767.0, 0.0, -1767.0, -1767.0, -1767.0]) / 1000.\n",
      "z = np.array([527, 16, 0, 12, 69, 128, 292, 332, 198])"
     ],
     "language": "python",
     "metadata": {},
     "outputs": []
    },
    {
     "cell_type": "code",
     "collapsed": false,
     "input": [
      "plt.scatter(x, y, 500, z, cmap=cm.jet)\n",
      "plt.colorbar()\n",
      "plt.show()"
     ],
     "language": "python",
     "metadata": {},
     "outputs": []
    },
    {
     "cell_type": "markdown",
     "metadata": {},
     "source": [
      "Generate coordinates at which to evaluate the interpolation:"
     ]
    },
    {
     "cell_type": "code",
     "collapsed": false,
     "input": [
      "xi = np.linspace(np.min(x), np.max(x), 500)\n",
      "yi = np.linspace(np.min(y), np.max(y), 500)"
     ],
     "language": "python",
     "metadata": {},
     "outputs": []
    },
    {
     "cell_type": "markdown",
     "metadata": {},
     "source": [
      "and perform 2D-interpolation:"
     ]
    },
    {
     "cell_type": "code",
     "collapsed": false,
     "input": [
      "interpolant = interpolate.interpolate.interp2d(x, y, z)\n",
      "im = interpolant(xi, yi)"
     ],
     "language": "python",
     "metadata": {},
     "outputs": []
    },
    {
     "cell_type": "markdown",
     "metadata": {},
     "source": [
      "Finally visualise what we have done:"
     ]
    },
    {
     "cell_type": "code",
     "collapsed": false,
     "input": [
      "import matplotlib.pyplot as plt\n",
      "from matplotlib import cm\n",
      "\n",
      "#plotting\n",
      "plt.figure(figsize=(10, 10))\n",
      "\n",
      "p = plt.imshow(im, cmap=cm.gist_yarg, origin='lower',\n",
      "               extent=[numpy.min(x), numpy.max(x), numpy.min(y), numpy.max(y)])\n",
      "c = plt.contour(im, origin='lower',\n",
      "                extent=[numpy.min(x), numpy.max(x), numpy.min(y), numpy.max(y)])\n",
      "plt.clabel(c, inline=1, fontsize=8)\n",
      "\n",
      "c = plt.colorbar(p, orientation='horizontal', shrink=0.7)\n",
      "c.set_label('Raw Counts at Dwell Points')\n",
      "\n",
      "plt.xlabel('Dispersion Offset (arcsec)')\n",
      "plt.ylabel('Cross-Dispersion Offset (arcsec)')\n",
      "plt.title('COS Target Acquisition')\n",
      "\n",
      "plt.show()"
     ],
     "language": "python",
     "metadata": {},
     "outputs": []
    },
    {
     "cell_type": "heading",
     "level": 2,
     "metadata": {},
     "source": [
      "Signal Processing"
     ]
    },
    {
     "cell_type": "heading",
     "level": 3,
     "metadata": {},
     "source": [
      "Removing a linear trend"
     ]
    },
    {
     "cell_type": "code",
     "collapsed": false,
     "input": [
      "import matplotlib.pyplot as plt\n",
      "from scipy import signal"
     ],
     "language": "python",
     "metadata": {},
     "outputs": []
    },
    {
     "cell_type": "markdown",
     "metadata": {},
     "source": [
      "Generate some fake data:"
     ]
    },
    {
     "cell_type": "code",
     "collapsed": false,
     "input": [
      "t = np.linspace(0,10, 100)\n",
      "x = t + np.random.normal(size=100)"
     ],
     "language": "python",
     "metadata": {},
     "outputs": []
    },
    {
     "cell_type": "code",
     "collapsed": false,
     "input": [
      "print 'Signal with a clear linear trend:'\n",
      "plt.plot(t, x, linewidth=3, c='b')\n",
      "plt.axhline(y=0, alpha=0.2, lw=3, c='r')\n",
      "plt.show()"
     ],
     "language": "python",
     "metadata": {},
     "outputs": []
    },
    {
     "cell_type": "code",
     "collapsed": false,
     "input": [
      "print 'Use scipy.signal.detrend to remove the linear trend:'\n",
      "plt.plot(t, x, linewidth=3, c='b', alpha=0.2)\n",
      "plt.plot(t, signal.detrend(x), linewidth=3, c='g')\n",
      "plt.axhline(y=0, alpha=0.2, lw=3, c='r')\n",
      "plt.show()"
     ],
     "language": "python",
     "metadata": {},
     "outputs": []
    },
    {
     "cell_type": "heading",
     "level": 3,
     "metadata": {},
     "source": [
      "Resampling a periodic signal using Fourier method"
     ]
    },
    {
     "cell_type": "markdown",
     "metadata": {},
     "source": [
      "Generate fake data:"
     ]
    },
    {
     "cell_type": "code",
     "collapsed": false,
     "input": [
      "t = np.linspace(0, 5, 40)\n",
      "x = np.sin(t)"
     ],
     "language": "python",
     "metadata": {},
     "outputs": []
    },
    {
     "cell_type": "code",
     "collapsed": false,
     "input": [
      "print 'Input data:'\n",
      "plt.plot(t, x, 'b-')\n",
      "plt.show()"
     ],
     "language": "python",
     "metadata": {},
     "outputs": []
    },
    {
     "cell_type": "code",
     "collapsed": false,
     "input": [
      "plt.title('On the edges of the window the resampling less accurate...')\n",
      "plt.plot(t, x, 'b-')\n",
      "plt.plot(t[::4], signal.resample(x, 10), 'ko')"
     ],
     "language": "python",
     "metadata": {},
     "outputs": []
    },
    {
     "cell_type": "heading",
     "level": 3,
     "metadata": {},
     "source": [
      "Example: Gaussian smoothing (Convolution)"
     ]
    },
    {
     "cell_type": "code",
     "collapsed": false,
     "input": [
      "import numpy as np\n",
      "from scipy import signal"
     ],
     "language": "python",
     "metadata": {},
     "outputs": []
    },
    {
     "cell_type": "code",
     "collapsed": false,
     "input": [
      "def Kernel(size):\n",
      "    \"Returns a normalized 2D gauss kernel array for convolutions\"\n",
      "    size = int(size)\n",
      "    x, y = np.mgrid[-size:size+1, -size:size+1]\n",
      "    g = np.exp(-(x**2/float(size) + y**2/float(size)))\n",
      "    return g / g.sum()"
     ],
     "language": "python",
     "metadata": {},
     "outputs": []
    },
    {
     "cell_type": "code",
     "collapsed": false,
     "input": [
      "def blur_image(im, n):\n",
      "    return signal.convolve(im, Kernel(n), mode='valid')"
     ],
     "language": "python",
     "metadata": {},
     "outputs": []
    },
    {
     "cell_type": "markdown",
     "metadata": {},
     "source": [
      "Generate noisy data with circular symmetric pattern and visualise:"
     ]
    },
    {
     "cell_type": "code",
     "collapsed": false,
     "input": [
      "X, Y = np.mgrid[-70:70, -70:70]\n",
      "Z = np.cos((X**2 + Y**2)/150.) + 0.6*np.random.normal(size=X.shape)"
     ],
     "language": "python",
     "metadata": {},
     "outputs": []
    },
    {
     "cell_type": "code",
     "collapsed": false,
     "input": [
      "plt.imshow(Z)\n",
      "plt.show()"
     ],
     "language": "python",
     "metadata": {},
     "outputs": []
    },
    {
     "cell_type": "markdown",
     "metadata": {},
     "source": [
      "Blur the noisy image with the Kernel and visualise:"
     ]
    },
    {
     "cell_type": "code",
     "collapsed": false,
     "input": [
      "Z2 = blur_image(Z, 3)"
     ],
     "language": "python",
     "metadata": {},
     "outputs": []
    },
    {
     "cell_type": "code",
     "collapsed": false,
     "input": [
      "fig = plt.figure(figsize=(12, 12))\n",
      "ax1 = fig.add_subplot(221)\n",
      "ax2 = fig.add_subplot(222)\n",
      "ax1.imshow(Z)\n",
      "ax2.imshow(Z2)\n",
      "plt.show()"
     ],
     "language": "python",
     "metadata": {},
     "outputs": []
    },
    {
     "cell_type": "heading",
     "level": 3,
     "metadata": {},
     "source": [
      "Example: Image manipulations"
     ]
    },
    {
     "cell_type": "markdown",
     "metadata": {},
     "source": [
      "`SciPy` provides easier ways if you are doing standard smoothing or sharpening:"
     ]
    },
    {
     "cell_type": "code",
     "collapsed": false,
     "input": [
      "from scipy import ndimage"
     ],
     "language": "python",
     "metadata": {},
     "outputs": []
    },
    {
     "cell_type": "code",
     "collapsed": false,
     "input": [
      "plt.imshow(Z)\n",
      "plt.show()"
     ],
     "language": "python",
     "metadata": {},
     "outputs": []
    },
    {
     "cell_type": "code",
     "collapsed": false,
     "input": [
      "blurred = ndimage.gaussian_filter(Z, sigma=2)\n",
      "plt.imshow(blurred)\n",
      "plt.show()"
     ],
     "language": "python",
     "metadata": {},
     "outputs": []
    },
    {
     "cell_type": "markdown",
     "metadata": {},
     "source": [
      "You can now try sharpening by increasing the weights of edges..."
     ]
    },
    {
     "cell_type": "code",
     "collapsed": false,
     "input": [
      "alpha = 5.\n",
      "filter_blurred_l = ndimage.gaussian_filter(blurred, 1)\n",
      "sharpened = blurred + alpha * (blurred - filter_blurred_l)"
     ],
     "language": "python",
     "metadata": {},
     "outputs": []
    },
    {
     "cell_type": "code",
     "collapsed": false,
     "input": [
      "fig = plt.figure(figsize=(12, 12))\n",
      "ax1 = fig.add_subplot(131)\n",
      "ax2 = fig.add_subplot(132)\n",
      "ax3 = fig.add_subplot(133)\n",
      "ax1.imshow(Z)\n",
      "ax2.imshow(blurred)\n",
      "ax3.imshow(sharpened)\n",
      "plt.show()"
     ],
     "language": "python",
     "metadata": {},
     "outputs": []
    },
    {
     "cell_type": "markdown",
     "metadata": {},
     "source": [
      "More impage processing later..."
     ]
    }
   ],
   "metadata": {}
  }
 ]
}