{
 "metadata": {
  "name": "",
  "signature": "sha256:4081a8c08d6497573f1bb1f5546aa97ef06d60fe7036170c6b94ddf899573945"
 },
 "nbformat": 3,
 "nbformat_minor": 0,
 "worksheets": [
  {
   "cells": [
    {
     "cell_type": "heading",
     "level": 1,
     "metadata": {},
     "source": [
      "High-level Scientific Analysis with SciPy"
     ]
    },
    {
     "cell_type": "markdown",
     "metadata": {},
     "source": [
      "### Preamble\n",
      "\n",
      "- *Sami Niemi (s.niemi@ucl.ac.uk)*\n",
      "- *Data Analysis and Image Processing with Python, UCL/MSSL, November 4-5 2014*\n",
      "- *Notebook available on [github](https://github.com/sniemi/DataAnalysisPythonCourse)*"
     ]
    },
    {
     "cell_type": "markdown",
     "metadata": {},
     "source": [
      "Futher reading:\n",
      "http://docs.scipy.org/doc/scipy/reference/tutorial/index.html"
     ]
    },
    {
     "cell_type": "heading",
     "level": 2,
     "metadata": {},
     "source": [
      "Constants and Conversions"
     ]
    },
    {
     "cell_type": "code",
     "collapsed": false,
     "input": [
      "from scipy import constants as const\n",
      "\n",
      "#a few examples...\n",
      "print const.eV, const.c, const.hbar"
     ],
     "language": "python",
     "metadata": {},
     "outputs": []
    },
    {
     "cell_type": "code",
     "collapsed": false,
     "input": [
      "x = const.find('Newton')  #search substring\n",
      "print x"
     ],
     "language": "python",
     "metadata": {},
     "outputs": []
    },
    {
     "cell_type": "code",
     "collapsed": false,
     "input": [
      "print const.value(x[0])\n",
      "print const.unit(x[0])\n",
      "print const.precision(x[0])"
     ],
     "language": "python",
     "metadata": {},
     "outputs": []
    },
    {
     "cell_type": "code",
     "collapsed": false,
     "input": [
      "print 'Currently %i constants in the database...' % len(const.physical_constants.keys())"
     ],
     "language": "python",
     "metadata": {},
     "outputs": []
    },
    {
     "cell_type": "code",
     "collapsed": false,
     "input": [
      "print 'Unit conversions are also supported...'\n",
      "print '550nm = %e Hz' % const.lambda2nu(550*const.nano)"
     ],
     "language": "python",
     "metadata": {},
     "outputs": []
    },
    {
     "cell_type": "heading",
     "level": 5,
     "metadata": {},
     "source": [
      "All constants and conversion are from 2010 CODATA."
     ]
    },
    {
     "cell_type": "heading",
     "level": 2,
     "metadata": {},
     "source": [
      "Statistics (with scipy.stats)"
     ]
    },
    {
     "cell_type": "heading",
     "level": 3,
     "metadata": {},
     "source": [
      "Working with distributions"
     ]
    },
    {
     "cell_type": "code",
     "collapsed": false,
     "input": [
      "import numpy as np\n",
      "import scipy.stats as stats\n",
      "\n",
      "print 'generate a normal distribution centred at 0 with standard deviation = 2'\n",
      "bell = stats.norm(loc=0, scale=2)"
     ],
     "language": "python",
     "metadata": {},
     "outputs": []
    },
    {
     "cell_type": "code",
     "collapsed": false,
     "input": [
      "print 'mean variance skew kurtosis'\n",
      "print bell.stats(moments='mvsk')"
     ],
     "language": "python",
     "metadata": {},
     "outputs": []
    },
    {
     "cell_type": "code",
     "collapsed": false,
     "input": [
      "print 'Plot the normal distribution:'\n",
      "import matplotlib.pyplot as plt\n",
      "x = np.linspace(-10, 10, 200)\n",
      "plt.plot(x, bell.pdf(x))\n",
      "plt.show()"
     ],
     "language": "python",
     "metadata": {},
     "outputs": []
    },
    {
     "cell_type": "code",
     "collapsed": false,
     "input": [
      "print 'second and fourth moment of the Normal distribution:'\n",
      "#1=0, 2=sigma**2, 3=0, 4=3*sigma**4\n",
      "print bell.moment(2), bell.moment(4)"
     ],
     "language": "python",
     "metadata": {},
     "outputs": []
    },
    {
     "cell_type": "code",
     "collapsed": false,
     "input": [
      "print 'probability density function (describes the relative likelihood for this random variable to take on a given value):'\n",
      "print bell.pdf([-1, 0, 1., 2., 3.])"
     ],
     "language": "python",
     "metadata": {},
     "outputs": []
    },
    {
     "cell_type": "code",
     "collapsed": false,
     "input": [
      "print 'Likelihood of randomly drawing 5 from our Normal distribution:'\n",
      "print bell.pdf(5)\n",
      "print 'Sanity check:', np.exp(-5**2/8.)/2./np.sqrt(2*np.pi)"
     ],
     "language": "python",
     "metadata": {},
     "outputs": []
    },
    {
     "cell_type": "code",
     "collapsed": false,
     "input": [
      "print 'Plot our distribution on log-scale and identify the likelihood of drawing 5:'\n",
      "plt.semilogy(x, bell.pdf(x)) #note the log scale\n",
      "plt.semilogy(5, bell.pdf(5), 'rs')\n",
      "plt.show()"
     ],
     "language": "python",
     "metadata": {},
     "outputs": []
    },
    {
     "cell_type": "code",
     "collapsed": false,
     "input": [
      "print 'Confidence interval with equal areas around the median'\n",
      "print '1scale = 2 = 68.27%, 2scale = 4 = 95.45%...' #remember: loc=0, scale=2\n",
      "print bell.interval(alpha=0.6826895)\n",
      "print bell.interval(alpha=0.9545)"
     ],
     "language": "python",
     "metadata": {},
     "outputs": []
    },
    {
     "cell_type": "code",
     "collapsed": false,
     "input": [
      "print 'Cumulative density function (probability of a random variable falling in the interval (\u2212\u221e, x]):'\n",
      "print bell.cdf([-4, -2, 0, 2, 4]) #remember: loc=0, scale=2\n",
      "print bell.cdf([2,]) - bell.cdf([-2,])"
     ],
     "language": "python",
     "metadata": {},
     "outputs": []
    },
    {
     "cell_type": "code",
     "collapsed": false,
     "input": [
      "print 'Survival function (1 - CDF):'\n",
      "print bell.sf([-4, -1, 0, 1, 4])"
     ],
     "language": "python",
     "metadata": {},
     "outputs": []
    },
    {
     "cell_type": "code",
     "collapsed": false,
     "input": [
      "print 'percent point function -- percentiles:'\n",
      "#or quantile function\n",
      "#quantiles corresponding to the lower tail input probability\n",
      "print bell.ppf([0.0227501319, 0.30853754, 0.5])\n",
      "#also inverse of the cdf..."
     ],
     "language": "python",
     "metadata": {},
     "outputs": []
    },
    {
     "cell_type": "code",
     "collapsed": false,
     "input": [
      "print 'Draw a random sample from Normal distribution:'\n",
      "print bell.rvs(10)"
     ],
     "language": "python",
     "metadata": {},
     "outputs": []
    },
    {
     "cell_type": "heading",
     "level": 3,
     "metadata": {},
     "source": [
      "Test for skewness"
     ]
    },
    {
     "cell_type": "code",
     "collapsed": false,
     "input": [
      "import scipy.stats as stats\n",
      "import numpy as np\n",
      "\n",
      "np.random.seed(12345678) #set seed so that my conclusions are correct :-)\n",
      "\n",
      "print stats.skew(stats.norm.rvs(size=1e5, loc=0.0, scale=2))\n",
      "print 'For normally distributed data, the skewness should be about 0.'"
     ],
     "language": "python",
     "metadata": {},
     "outputs": []
    },
    {
     "cell_type": "heading",
     "level": 3,
     "metadata": {},
     "source": [
      "Kolmogorov-Smirnov test (are two samples different?)"
     ]
    },
    {
     "cell_type": "code",
     "collapsed": false,
     "input": [
      "print 'tests whether 2 samples are drawn from the same distribution'\n",
      "points1 = 400\n",
      "points2 = 500\n",
      "\n",
      "#3 normal distributions with different locations\n",
      "rvs1 = stats.norm.rvs(size=points1, loc=0., scale=1.0)\n",
      "rvs2 = stats.norm.rvs(size=points2, loc=0., scale=3.0)\n",
      "rvs3 = stats.norm.rvs(size=points2, loc=0.01, scale=1.0)"
     ],
     "language": "python",
     "metadata": {},
     "outputs": []
    },
    {
     "cell_type": "code",
     "collapsed": false,
     "input": [
      "D, p = stats.ks_2samp(rvs1, rvs2)\n",
      "print p\n",
      "print \"For a different distribution, we can reject the null \\\n",
      "hypothesis since the pvalue is below 1%\""
     ],
     "language": "python",
     "metadata": {},
     "outputs": []
    },
    {
     "cell_type": "code",
     "collapsed": false,
     "input": [
      "D, p = stats.ks_2samp(rvs1, rvs3)\n",
      "print p\n",
      "print \"For a slightly different distribution, we cannot reject \\\n",
      "the null hypothesis at a 10% or lower alpha \""
     ],
     "language": "python",
     "metadata": {},
     "outputs": []
    },
    {
     "cell_type": "heading",
     "level": 2,
     "metadata": {},
     "source": [
      "Optimizing"
     ]
    },
    {
     "cell_type": "heading",
     "level": 3,
     "metadata": {},
     "source": [
      "Finding the minimum"
     ]
    },
    {
     "cell_type": "code",
     "collapsed": false,
     "input": [
      "from scipy import optimize\n",
      "\n",
      "def f(x):\n",
      "    return x**2 + 10*np.sin(x)"
     ],
     "language": "python",
     "metadata": {},
     "outputs": []
    },
    {
     "cell_type": "code",
     "collapsed": false,
     "input": [
      "print 'Data from a function f(x):'\n",
      "x = np.arange(-10, 10, 0.1)\n",
      "plt.plot(x, f(x))\n",
      "plt.show()"
     ],
     "language": "python",
     "metadata": {},
     "outputs": []
    },
    {
     "cell_type": "code",
     "collapsed": false,
     "input": [
      "print 'Lets find the minima of the above function'\n",
      "#lets try first BFGS\n",
      "#gradient is given by fprime using the quasi-Newton method of \n",
      "#Broyden, Fletcher, Goldfarb, and Shanno (BFGS)\n",
      "minima1 = optimize.fmin_bfgs(f, 0) #0 is our initial guess\n",
      "print minima1"
     ],
     "language": "python",
     "metadata": {},
     "outputs": []
    },
    {
     "cell_type": "code",
     "collapsed": false,
     "input": [
      "print 'however, this may end up to the local minima if we start at 3'\n",
      "minima2 = optimize.fmin_bfgs(f, 3, disp=0)\n",
      "print minima2"
     ],
     "language": "python",
     "metadata": {},
     "outputs": []
    },
    {
     "cell_type": "code",
     "collapsed": false,
     "input": [
      "print 'if we do not know anything about the function we can always use brute force,'\n",
      "print 'but you can imagine how slow this gets with real data...'\n",
      "grid = (-10, 10, 0.1)  #specify search grid\n",
      "minima3 = optimize.brute(f, (grid,))\n",
      "print minima3"
     ],
     "language": "python",
     "metadata": {},
     "outputs": []
    },
    {
     "cell_type": "code",
     "collapsed": false,
     "input": [
      "plt.plot(x, f(x))\n",
      "plt.plot(minima1, f(minima1), 'rs')\n",
      "plt.plot(minima2, f(minima2), 'k<')\n",
      "plt.plot(minima3, f(minima3), 'g*')\n",
      "plt.show()"
     ],
     "language": "python",
     "metadata": {},
     "outputs": []
    },
    {
     "cell_type": "heading",
     "level": 3,
     "metadata": {},
     "source": [
      "Finding roots"
     ]
    },
    {
     "cell_type": "code",
     "collapsed": false,
     "input": [
      "print 'Find roots of a function f(x)'\n",
      "def f(x):\n",
      "    return (x - 1)*(x + 2)"
     ],
     "language": "python",
     "metadata": {},
     "outputs": []
    },
    {
     "cell_type": "code",
     "collapsed": false,
     "input": [
      "print 'fsolve is a wrapper around MINPACK\u2019s hybrd and hybrj algorithms.'\n",
      "r1 = optimize.fsolve(f, 3)\n",
      "r2 = optimize.fsolve(f, -3)\n",
      "print r1, r2"
     ],
     "language": "python",
     "metadata": {},
     "outputs": []
    },
    {
     "cell_type": "code",
     "collapsed": false,
     "input": [
      "print 'for large scale problems:'\n",
      "r1 = optimize.newton_krylov(f, 300, verbose=True)\n",
      "r2 = optimize.newton_krylov(f, -300)"
     ],
     "language": "python",
     "metadata": {},
     "outputs": []
    },
    {
     "cell_type": "code",
     "collapsed": false,
     "input": [
      "plt.plot(x, f(x), 'b-')\n",
      "plt.axhline(y=0, color='k')\n",
      "plt.plot(r1, 0, 'go')\n",
      "plt.plot(r2, 0, 'go')\n",
      "plt.xlim(-4, 2)\n",
      "plt.ylim(-4, 3)\n",
      "plt.show()"
     ],
     "language": "python",
     "metadata": {},
     "outputs": []
    },
    {
     "cell_type": "heading",
     "level": 3,
     "metadata": {},
     "source": [
      "Fitting"
     ]
    },
    {
     "cell_type": "code",
     "collapsed": false,
     "input": [
      "print 'Fitting a function to data (the simple way, tomorrow the proper way)'\n",
      "from scipy.optimize import curve_fit\n",
      "\n",
      "def f(t, omega, phi):\n",
      "    return np.cos(omega * t + phi) * np.sin(t*omega)"
     ],
     "language": "python",
     "metadata": {},
     "outputs": []
    },
    {
     "cell_type": "code",
     "collapsed": false,
     "input": [
      "print 'generate data with random noise'\n",
      "x = np.linspace(0, 5, 100)\n",
      "y = f(x, 1.2, 1) + .1*np.random.normal(size=100)\n",
      "print y"
     ],
     "language": "python",
     "metadata": {},
     "outputs": []
    },
    {
     "cell_type": "code",
     "collapsed": false,
     "input": [
      "print 'Non-linear least squares fit using scipy.optimize.curve_fit'\n",
      "popt, pcov = curve_fit(f, x, y)"
     ],
     "language": "python",
     "metadata": {},
     "outputs": []
    },
    {
     "cell_type": "code",
     "collapsed": false,
     "input": [
      "plt.plot(x, y, 'bo', label='data')\n",
      "plt.plot(x, f(x, popt[0], popt[1]), 'r-', lw=3, label='fit')\n",
      "plt.legend(shadow=True, fancybox=True)\n",
      "plt.show()"
     ],
     "language": "python",
     "metadata": {},
     "outputs": []
    },
    {
     "cell_type": "heading",
     "level": 3,
     "metadata": {},
     "source": [
      "Example: Fitting an exoplanet transit"
     ]
    },
    {
     "cell_type": "heading",
     "level": 4,
     "metadata": {},
     "source": [
      "Weighted curve fitting"
     ]
    },
    {
     "cell_type": "code",
     "collapsed": false,
     "input": [
      "import numpy as np\n",
      "import math\n",
      "import matplotlib.pyplot as plt\n",
      "from scipy.optimize import curve_fit\n",
      "\n",
      "print 'Fitting a Gaussian'\n",
      "def gaussian(x, a, b, c):\n",
      "    return a * np.exp(-(x - b)**2 / c**2)"
     ],
     "language": "python",
     "metadata": {},
     "outputs": []
    },
    {
     "cell_type": "code",
     "collapsed": false,
     "input": [
      "scale = 15.\n",
      "offset = 3.3\n",
      "sigma = 1.5\n",
      "print 'Generate data with uncertanties'\n",
      "n = 200\n",
      "x = np.random.uniform(-10., 10., n) #independent\n",
      "y = np.exp(-(x - offset)**2 / sigma**2) * scale + np.random.normal(0., 2., n) #dependent\n",
      "e = 2.*np.random.uniform(0.1, 1., n) #errors"
     ],
     "language": "python",
     "metadata": {},
     "outputs": []
    },
    {
     "cell_type": "code",
     "collapsed": false,
     "input": [
      "print 'Plot data:'\n",
      "plt.errorbar(x, y, yerr=e, linewidth=1, color='black', fmt=None)\n",
      "plt.title('Transient')\n",
      "plt.xlabel('Time [days]')\n",
      "plt.ylabel('Relative Flux Density')\n",
      "plt.show()"
     ],
     "language": "python",
     "metadata": {},
     "outputs": []
    },
    {
     "cell_type": "code",
     "collapsed": false,
     "input": [
      "print 'Fit using Scipy\\'s curve_fit'\n",
      "print 'returns parameters and covariance matrix'\n",
      "#curve_fit(function_to_fit, x_data, y_data, sigma=errors_if_available)\n",
      "popt, pcov = curve_fit(gaussian, x, y, sigma=e)"
     ],
     "language": "python",
     "metadata": {},
     "outputs": []
    },
    {
     "cell_type": "code",
     "collapsed": false,
     "input": [
      "print \"Scale =  %.3f +/- %.3f\" % (popt[0], np.sqrt(pcov[0, 0])), 'Input = ', scale\n",
      "print \"Offset = %.3f +/- %.3f\" % (popt[1], np.sqrt(pcov[1, 1])), 'Input = ', offset\n",
      "print \"Sigma =  %.3f +/- %.3f\" % (math.fabs(popt[2]), np.sqrt(pcov[2, 2])), 'Input = ', sigma"
     ],
     "language": "python",
     "metadata": {},
     "outputs": []
    },
    {
     "cell_type": "code",
     "collapsed": false,
     "input": [
      "# Plot data\n",
      "plt.errorbar(x, y, yerr=e, linewidth=1, color='black', fmt=None)\n",
      "\n",
      "xm = np.linspace(-10., 10., 100)  # 100 evenly spaced points\n",
      "# Plot model\n",
      "plt.plot(xm, gaussian(xm, popt[0], popt[1], popt[2]), lw=2)\n",
      "\n",
      "plt.title('Transient')\n",
      "plt.xlabel('Time [days]')\n",
      "plt.ylabel('Relative Flux Density')\n",
      "plt.show()"
     ],
     "language": "python",
     "metadata": {},
     "outputs": []
    },
    {
     "cell_type": "heading",
     "level": 2,
     "metadata": {},
     "source": [
      "Interpolation"
     ]
    },
    {
     "cell_type": "markdown",
     "metadata": {},
     "source": [
      "The scipy.interpolate is based on the FITPACK\n",
      "Fortran subroutines from the netlib project."
     ]
    },
    {
     "cell_type": "heading",
     "level": 3,
     "metadata": {},
     "source": [
      "1D"
     ]
    },
    {
     "cell_type": "code",
     "collapsed": false,
     "input": [
      "import matplotlib.pyplot as plt\n",
      "from scipy.interpolate import interp1d\n",
      "import numpy as np\n",
      "\n",
      "#data\n",
      "x = np.linspace(0., 10., 10)\n",
      "y = np.cos(-x**2/8.0)\n",
      "\n",
      "plt.plot(x, y, 'bo', label='Data')\n",
      "plt.show()"
     ],
     "language": "python",
     "metadata": {},
     "outputs": []
    },
    {
     "cell_type": "code",
     "collapsed": false,
     "input": [
      "#interpolations\n",
      "f = interp1d(x, y)  #linear interpolation\n",
      "f2 = interp1d(x, y, kind='cubic')"
     ],
     "language": "python",
     "metadata": {},
     "outputs": []
    },
    {
     "cell_type": "code",
     "collapsed": false,
     "input": [
      "#points at which to evaluate\n",
      "xnew = np.linspace(0, 10, 200)\n",
      "\n",
      "plt.plot(x, y, 'bo', label='Data')\n",
      "plt.plot(xnew, f(xnew), 'r-', label='Linear', lw=2)\n",
      "plt.plot(xnew, f2(xnew),'g--', label='Cubic', lw=2)\n",
      "\n",
      "plt.legend(loc='best', shadow=True, numpoints=1, fancybox=True)\n",
      "plt.show()"
     ],
     "language": "python",
     "metadata": {},
     "outputs": []
    },
    {
     "cell_type": "heading",
     "level": 4,
     "metadata": {},
     "source": [
      "Spline Interpolation"
     ]
    },
    {
     "cell_type": "code",
     "collapsed": false,
     "input": [
      "from scipy.interpolate import UnivariateSpline\n",
      "\n",
      "x = np.linspace(-5, 5, 100)\n",
      "y = exp(-x**2/2.5) + np.random.rand(100)/2.5"
     ],
     "language": "python",
     "metadata": {},
     "outputs": []
    },
    {
     "cell_type": "code",
     "collapsed": false,
     "input": [
      "#One-dimensional smoothing spline fit to a given set of data points.\n",
      "#s = smoothing factor used to choose the number of knots\n",
      "#k = degree of the smoothing spline\n",
      "s1 = UnivariateSpline(x, y, s=1, k=3) \n",
      "s2 = UnivariateSpline(x, y, s=2, k=4)\n",
      "\n",
      "xnew = np.linspace(-5, 5, 1000)\n",
      "_ = plt.plot(x, y, 'bo', label='data', alpha=0.4)\n",
      "plt.show()"
     ],
     "language": "python",
     "metadata": {},
     "outputs": []
    },
    {
     "cell_type": "code",
     "collapsed": false,
     "input": [
      "print 'One-dimensional smoothing spline fit to a given set of data points:'\n",
      "plt.plot(x, y, 'bo', label='data', alpha=0.4)\n",
      "_ = plt.plot(xnew, s1(xnew), c='magenta', ls='-', lw='3', label='Spline 1')\n",
      "plt.legend(loc='best', shadow=True, numpoints=1, fancybox=True)\n",
      "plt.show()"
     ],
     "language": "python",
     "metadata": {},
     "outputs": []
    },
    {
     "cell_type": "code",
     "collapsed": false,
     "input": [
      "print 'One-dimensional smoothing spline fit to a given set of data points:'\n",
      "plt.plot(x, y, 'bo', label='data', alpha=0.4)\n",
      "plt.plot(xnew, s2(xnew), 'g-', lw='3', label='Spline 2')\n",
      "plt.legend(loc='best', shadow=True, numpoints=1, fancybox=True)\n",
      "plt.show()"
     ],
     "language": "python",
     "metadata": {},
     "outputs": []
    },
    {
     "cell_type": "heading",
     "level": 3,
     "metadata": {},
     "source": [
      "2D interpolating from scattered data"
     ]
    },
    {
     "cell_type": "code",
     "collapsed": false,
     "input": [
      "import numpy as np\n",
      "\n",
      "print 'Create random scatter data: xpos, ypos and z-value'\n",
      "x = np.random.rand(100)*4.0 - 2.0\n",
      "y = np.random.rand(100)*4.0 - 2.0\n",
      "z = x*y*np.exp(-x**2 - y**2)\n",
      "print z.min(), z.max()"
     ],
     "language": "python",
     "metadata": {},
     "outputs": []
    },
    {
     "cell_type": "code",
     "collapsed": false,
     "input": [
      "plt.xlim(-2.1, 2.1)\n",
      "plt.ylim(-2.1, 2.1)\n",
      "plt.scatter(x, y, 100, z, cmap=cm.jet)\n",
      "plt.colorbar()\n",
      "plt.show()"
     ],
     "language": "python",
     "metadata": {},
     "outputs": []
    },
    {
     "cell_type": "code",
     "collapsed": false,
     "input": [
      "from scipy.interpolate import Rbf\n",
      "\n",
      "print 'use radial basis function approximation/interpolation of n-dimensional scattered data'\n",
      "rbf = Rbf(x, y, z, epsilon=2)\n",
      "print rbf"
     ],
     "language": "python",
     "metadata": {},
     "outputs": []
    },
    {
     "cell_type": "code",
     "collapsed": false,
     "input": [
      "print 'Generate a grid [-2, 2] with 100 points'\n",
      "ti = np.linspace(-2.0, 2.0, 100)\n",
      "XI, YI = np.meshgrid(ti, ti)\n",
      "print XI.shape"
     ],
     "language": "python",
     "metadata": {},
     "outputs": []
    },
    {
     "cell_type": "code",
     "collapsed": false,
     "input": [
      "print 'and evaluate the RBF on the grid'\n",
      "ZI = rbf(XI, YI)"
     ],
     "language": "python",
     "metadata": {},
     "outputs": []
    },
    {
     "cell_type": "code",
     "collapsed": false,
     "input": [
      "import matplotlib.pyplot as plt\n",
      "from matplotlib import cm\n",
      "\n",
      "plt.pcolor(XI, YI, ZI, cmap=cm.jet)\n",
      "plt.scatter(x, y, 100, z, cmap=cm.jet)\n",
      "plt.title('RBF interpolation - multiquadrics')\n",
      "plt.xlim(-2., 2.)\n",
      "plt.ylim(-2., 2.)\n",
      "plt.colorbar()\n",
      "plt.show()"
     ],
     "language": "python",
     "metadata": {},
     "outputs": []
    },
    {
     "cell_type": "heading",
     "level": 4,
     "metadata": {},
     "source": [
      "Another way"
     ]
    },
    {
     "cell_type": "code",
     "collapsed": false,
     "input": [
      "import numpy as np\n",
      "from scipy import interpolate\n",
      "\n",
      "print 'If you do not have dependent variable, but simple three vectors x, y, and'\n",
      "x = np.array([0.0, 1767.0, 1767.0, 0.0, -1767.0, -1767.0, -1767.0, 0.0, 1767.0]) / 1000.\n",
      "y = np.array([0.0, 0.0, 1767.0, 1767.0, 1767.0, 0.0, -1767.0, -1767.0, -1767.0]) / 1000.\n",
      "z = np.array([527, 16, 0, 12, 69, 128, 292, 332, 198])\n",
      "\n",
      "plt.scatter(x, y, 500, z, cmap=cm.jet)\n",
      "plt.colorbar()\n",
      "plt.show()"
     ],
     "language": "python",
     "metadata": {},
     "outputs": []
    },
    {
     "cell_type": "code",
     "collapsed": false,
     "input": [
      "# Coordinates to fill with interpolated data\n",
      "xi = np.linspace(np.min(x), np.max(x), 500)\n",
      "yi = np.linspace(np.min(y), np.max(y), 500)\n",
      "\n",
      "print 'Perform 2D interpolation'\n",
      "interpolant = interpolate.interpolate.interp2d(x, y, z)\n",
      "im = interpolant(xi, yi)"
     ],
     "language": "python",
     "metadata": {},
     "outputs": []
    },
    {
     "cell_type": "code",
     "collapsed": false,
     "input": [
      "import matplotlib.pyplot as plt\n",
      "from matplotlib import cm\n",
      "\n",
      "#plotting\n",
      "plt.figure(figsize=(10, 10))\n",
      "\n",
      "p = plt.imshow(im, cmap=cm.gist_yarg, origin='lower',\n",
      "               extent=[numpy.min(x), numpy.max(x), numpy.min(y), numpy.max(y)])\n",
      "c = plt.contour(im, origin='lower',\n",
      "                extent=[numpy.min(x), numpy.max(x), numpy.min(y), numpy.max(y)])\n",
      "plt.clabel(c, inline=1, fontsize=8)\n",
      "\n",
      "c = plt.colorbar(p, orientation='horizontal', shrink=0.7)\n",
      "c.set_label('Raw Counts at Dwell Points')\n",
      "\n",
      "plt.xlabel('Dispersion Offset (arcsec)')\n",
      "plt.ylabel('Cross-Dispersion Offset (arcsec)')\n",
      "plt.title('COS Target Acquisition')\n",
      "\n",
      "plt.show()"
     ],
     "language": "python",
     "metadata": {},
     "outputs": []
    },
    {
     "cell_type": "heading",
     "level": 2,
     "metadata": {},
     "source": [
      "Signal Processing"
     ]
    },
    {
     "cell_type": "heading",
     "level": 3,
     "metadata": {},
     "source": [
      "Removing a linear trend"
     ]
    },
    {
     "cell_type": "code",
     "collapsed": false,
     "input": [
      "import matplotlib.pyplot as plt\n",
      "from scipy import signal\n",
      "\n",
      "#generate some fake data\n",
      "t = np.linspace(0,10, 100)\n",
      "x = t + np.random.normal(size=100)\n",
      "\n",
      "print 'Signal with a clear linear trend:'\n",
      "plt.plot(t, x, linewidth=3, c='b')\n",
      "plt.axhline(y=0, alpha=0.2, lw=3, c='r')\n",
      "plt.show()"
     ],
     "language": "python",
     "metadata": {},
     "outputs": []
    },
    {
     "cell_type": "code",
     "collapsed": false,
     "input": [
      "print 'Use scipy.signal.detrend to remove the linear trend:'\n",
      "plt.plot(t, x, linewidth=3, c='b', alpha=0.2)\n",
      "plt.plot(t, signal.detrend(x), linewidth=3, c='g')\n",
      "plt.axhline(y=0, alpha=0.2, lw=3, c='r')\n",
      "plt.show()"
     ],
     "language": "python",
     "metadata": {},
     "outputs": []
    },
    {
     "cell_type": "heading",
     "level": 3,
     "metadata": {},
     "source": [
      "Resampling a periodic signal using Fourier method"
     ]
    },
    {
     "cell_type": "code",
     "collapsed": false,
     "input": [
      "#Generate fake data\n",
      "t = np.linspace(0, 5, 40)\n",
      "x = np.sin(t)"
     ],
     "language": "python",
     "metadata": {},
     "outputs": []
    },
    {
     "cell_type": "code",
     "collapsed": false,
     "input": [
      "print 'Input data:'\n",
      "plt.plot(t, x, 'b-')\n",
      "plt.show()"
     ],
     "language": "python",
     "metadata": {},
     "outputs": []
    },
    {
     "cell_type": "code",
     "collapsed": false,
     "input": [
      "plt.title('On the edges of the window the resampling less accurate...')\n",
      "plt.plot(t, x, 'b-')\n",
      "plt.plot(t[::4], signal.resample(x, 10), 'ko')"
     ],
     "language": "python",
     "metadata": {},
     "outputs": []
    },
    {
     "cell_type": "heading",
     "level": 3,
     "metadata": {},
     "source": [
      "Example: Gaussian smoothing (Convolution)"
     ]
    },
    {
     "cell_type": "code",
     "collapsed": false,
     "input": [
      "import numpy as np\n",
      "from scipy import signal\n",
      "\n",
      "def Kernel(size):\n",
      "    \"Returns a normalized 2D gauss kernel array for convolutions\"\n",
      "    size = int(size)\n",
      "    x, y = np.mgrid[-size:size+1, -size:size+1]\n",
      "    g = np.exp(-(x**2/float(size) + y**2/float(size)))\n",
      "    return g / g.sum()\n",
      "\n",
      "def blur_image(im, n):\n",
      "    return signal.convolve(im, Kernel(n), mode='valid')"
     ],
     "language": "python",
     "metadata": {},
     "outputs": []
    },
    {
     "cell_type": "code",
     "collapsed": false,
     "input": [
      "print 'Generate noisy data with circular symmetric pattern:'\n",
      "X, Y = np.mgrid[-70:70, -70:70]\n",
      "Z = np.cos((X**2 + Y**2)/150.) + 0.6*np.random.normal(size=X.shape)\n",
      "plt.imshow(Z)\n",
      "plt.show()"
     ],
     "language": "python",
     "metadata": {},
     "outputs": []
    },
    {
     "cell_type": "code",
     "collapsed": false,
     "input": [
      "print 'Blur the noisy image with kernel'\n",
      "Z2 = blur_image(Z, 3)"
     ],
     "language": "python",
     "metadata": {},
     "outputs": []
    },
    {
     "cell_type": "code",
     "collapsed": false,
     "input": [
      "fig = plt.figure(figsize=(12, 12))\n",
      "ax1 = fig.add_subplot(221)\n",
      "ax2 = fig.add_subplot(222)\n",
      "ax1.imshow(Z)\n",
      "ax2.imshow(Z2)\n",
      "plt.show()"
     ],
     "language": "python",
     "metadata": {},
     "outputs": []
    },
    {
     "cell_type": "heading",
     "level": 3,
     "metadata": {},
     "source": [
      "Example: Image manipulations"
     ]
    },
    {
     "cell_type": "code",
     "collapsed": false,
     "input": [
      "print 'SciPy provides easier ways if you are doing standard smoothing or sharpening:'\n",
      "from scipy import ndimage"
     ],
     "language": "python",
     "metadata": {},
     "outputs": []
    },
    {
     "cell_type": "code",
     "collapsed": false,
     "input": [
      "plt.imshow(Z)\n",
      "plt.show()"
     ],
     "language": "python",
     "metadata": {},
     "outputs": []
    },
    {
     "cell_type": "code",
     "collapsed": false,
     "input": [
      "blurred = ndimage.gaussian_filter(Z, sigma=2)\n",
      "plt.imshow(blurred)\n",
      "plt.show()"
     ],
     "language": "python",
     "metadata": {},
     "outputs": []
    },
    {
     "cell_type": "code",
     "collapsed": false,
     "input": [
      "print 'You can also try sharpening by increasing the wieghts of edges...'\n",
      "alpha = 5.\n",
      "filter_blurred_l = ndimage.gaussian_filter(blurred, 1)\n",
      "sharpened = blurred + alpha * (blurred - filter_blurred_l)"
     ],
     "language": "python",
     "metadata": {},
     "outputs": []
    },
    {
     "cell_type": "code",
     "collapsed": false,
     "input": [
      "fig = plt.figure(figsize=(12, 12))\n",
      "ax1 = fig.add_subplot(131)\n",
      "ax2 = fig.add_subplot(132)\n",
      "ax3 = fig.add_subplot(133)\n",
      "ax1.imshow(Z)\n",
      "ax2.imshow(blurred)\n",
      "ax3.imshow(sharpened)\n",
      "plt.show()"
     ],
     "language": "python",
     "metadata": {},
     "outputs": []
    },
    {
     "cell_type": "markdown",
     "metadata": {},
     "source": [
      "More impage processing later..."
     ]
    }
   ],
   "metadata": {}
  }
 ]
}